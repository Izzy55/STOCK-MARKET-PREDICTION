{
  "nbformat": 4,
  "nbformat_minor": 0,
  "metadata": {
    "colab": {
      "name": "Copy of Working StockMarketPrediction.ipynb",
      "provenance": [],
      "collapsed_sections": [],
      "authorship_tag": "ABX9TyONKJ+Hj9jBOnsbAYznqnE8",
      "include_colab_link": true
    },
    "kernelspec": {
      "name": "python3",
      "display_name": "Python 3"
    }
  },
  "cells": [
    {
      "cell_type": "markdown",
      "metadata": {
        "id": "view-in-github",
        "colab_type": "text"
      },
      "source": [
        "<a href=\"https://colab.research.google.com/github/Izzy55/STOCK-MARKET-PREDICTION/blob/master/Copy_of_Working_StockMarketPrediction.ipynb\" target=\"_parent\"><img src=\"https://colab.research.google.com/assets/colab-badge.svg\" alt=\"Open In Colab\"/></a>"
      ]
    },
    {
      "cell_type": "code",
      "metadata": {
        "id": "uwRjW-qRCBC2",
        "colab_type": "code",
        "colab": {
          "base_uri": "https://localhost:8080/",
          "height": 88
        },
        "outputId": "0c75f5db-8df9-4f5a-ccb4-2876b9b2b7a3"
      },
      "source": [
        "%tensorflow_version 1.x\n",
        "\n",
        "from pandas_datareader import data\n",
        "import matplotlib.pyplot as plt\n",
        "import pandas as pd\n",
        "import datetime as dt\n",
        "import urllib.request, json \n",
        "import os\n",
        "import numpy as np\n",
        "import tensorflow as tf \n",
        "from sklearn.preprocessing import MinMaxScaler"
      ],
      "execution_count": null,
      "outputs": [
        {
          "output_type": "stream",
          "text": [
            "TensorFlow 1.x selected.\n"
          ],
          "name": "stdout"
        },
        {
          "output_type": "stream",
          "text": [
            "/usr/local/lib/python3.6/dist-packages/pandas_datareader/compat/__init__.py:7: FutureWarning: pandas.util.testing is deprecated. Use the functions in the public API at pandas.testing instead.\n",
            "  from pandas.util.testing import assert_frame_equal\n"
          ],
          "name": "stderr"
        }
      ]
    },
    {
      "cell_type": "code",
      "metadata": {
        "id": "3fCyzZPJCCPC",
        "colab_type": "code",
        "colab": {
          "base_uri": "https://localhost:8080/",
          "height": 51
        },
        "outputId": "c572efc2-7167-4f1b-a7ad-23fa173635a9"
      },
      "source": [
        "api_key = '9CU08VA5IYTPJ0CH'\n",
        "\n",
        "# ticker for stock market prices\n",
        "ticker = \"AAL\" \n",
        "\n",
        "# JSON file with all the stock market data for AAL within the last 20 years\n",
        "url_string = \"https://www.alphavantage.co/query?function=TIME_SERIES_DAILY&symbol=%s&outputsize=full&apikey=%s\"%(ticker,api_key)\n",
        "print(url_string)\n",
        "# Save data to this file\n",
        "file_to_save = 'stock_market_data-%s.csv'%ticker\n",
        "\n",
        "# If data not already saved,\n",
        "# retrieve the data from the url\n",
        "# And store date, low, high, volume, close, open values to a Pandas dataframe\n",
        "if not os.path.exists(file_to_save):\n",
        "  with urllib.request.urlopen(url_string) as url:\n",
        "      data = json.loads(url.read().decode())\n",
        "      # extract stock market data\n",
        "      data = data['Time Series (Daily)']\n",
        "      df = pd.DataFrame(columns=['Date','Low','High','Close','Open'])\n",
        "      for k,v in data.items():\n",
        "          date = dt.datetime.strptime(k, '%Y-%m-%d')\n",
        "          data_row = [date.date(),float(v['3. low']),float(v['2. high']),\n",
        "                      float(v['4. close']),float(v['1. open'])]\n",
        "          df.loc[-1,:] = data_row\n",
        "          df.index = df.index + 1\n",
        "  print('Data saved to : %s'%file_to_save)        \n",
        "  df.to_csv(file_to_save)\n",
        "\n",
        "# If the data is already there, load it from the CSV\n",
        "else:\n",
        "  print('File already exists. Loading data from CSV')\n",
        "  df = pd.read_csv(file_to_save)\n",
        "\n"
      ],
      "execution_count": null,
      "outputs": [
        {
          "output_type": "stream",
          "text": [
            "https://www.alphavantage.co/query?function=TIME_SERIES_DAILY&symbol=AAL&outputsize=full&apikey=9CU08VA5IYTPJ0CH\n",
            "Data saved to : stock_market_data-AAL.csv\n"
          ],
          "name": "stdout"
        }
      ]
    },
    {
      "cell_type": "code",
      "metadata": {
        "id": "L5L1BUtWMEQL",
        "colab_type": "code",
        "colab": {}
      },
      "source": [
        ""
      ],
      "execution_count": null,
      "outputs": []
    },
    {
      "cell_type": "code",
      "metadata": {
        "id": "jZIg6YodMEuT",
        "colab_type": "code",
        "colab": {
          "base_uri": "https://localhost:8080/",
          "height": 204
        },
        "outputId": "acd748ce-f4a3-424b-dcfd-e5747ff81c22"
      },
      "source": [
        "# Sort DataFrame by date and print first 5 rows\n",
        "\n",
        "df = df.sort_values('Date')\n",
        "\n",
        "df.head()"
      ],
      "execution_count": null,
      "outputs": [
        {
          "output_type": "execute_result",
          "data": {
            "text/html": [
              "<div>\n",
              "<style scoped>\n",
              "    .dataframe tbody tr th:only-of-type {\n",
              "        vertical-align: middle;\n",
              "    }\n",
              "\n",
              "    .dataframe tbody tr th {\n",
              "        vertical-align: top;\n",
              "    }\n",
              "\n",
              "    .dataframe thead th {\n",
              "        text-align: right;\n",
              "    }\n",
              "</style>\n",
              "<table border=\"1\" class=\"dataframe\">\n",
              "  <thead>\n",
              "    <tr style=\"text-align: right;\">\n",
              "      <th></th>\n",
              "      <th>Date</th>\n",
              "      <th>Low</th>\n",
              "      <th>High</th>\n",
              "      <th>Close</th>\n",
              "      <th>Open</th>\n",
              "    </tr>\n",
              "  </thead>\n",
              "  <tbody>\n",
              "    <tr>\n",
              "      <th>0</th>\n",
              "      <td>2005-09-27</td>\n",
              "      <td>19.1</td>\n",
              "      <td>21.4</td>\n",
              "      <td>19.3</td>\n",
              "      <td>21.05</td>\n",
              "    </tr>\n",
              "    <tr>\n",
              "      <th>1</th>\n",
              "      <td>2005-09-28</td>\n",
              "      <td>19.2</td>\n",
              "      <td>20.53</td>\n",
              "      <td>20.5</td>\n",
              "      <td>19.3</td>\n",
              "    </tr>\n",
              "    <tr>\n",
              "      <th>2</th>\n",
              "      <td>2005-09-29</td>\n",
              "      <td>20.1</td>\n",
              "      <td>20.58</td>\n",
              "      <td>20.21</td>\n",
              "      <td>20.4</td>\n",
              "    </tr>\n",
              "    <tr>\n",
              "      <th>3</th>\n",
              "      <td>2005-09-30</td>\n",
              "      <td>20.18</td>\n",
              "      <td>21.05</td>\n",
              "      <td>21.01</td>\n",
              "      <td>20.26</td>\n",
              "    </tr>\n",
              "    <tr>\n",
              "      <th>4</th>\n",
              "      <td>2005-10-03</td>\n",
              "      <td>20.9</td>\n",
              "      <td>21.75</td>\n",
              "      <td>21.5</td>\n",
              "      <td>20.9</td>\n",
              "    </tr>\n",
              "  </tbody>\n",
              "</table>\n",
              "</div>"
            ],
            "text/plain": [
              "         Date    Low   High  Close   Open\n",
              "0  2005-09-27   19.1   21.4   19.3  21.05\n",
              "1  2005-09-28   19.2  20.53   20.5   19.3\n",
              "2  2005-09-29   20.1  20.58  20.21   20.4\n",
              "3  2005-09-30  20.18  21.05  21.01  20.26\n",
              "4  2005-10-03   20.9  21.75   21.5   20.9"
            ]
          },
          "metadata": {
            "tags": []
          },
          "execution_count": 3
        }
      ]
    },
    {
      "cell_type": "code",
      "metadata": {
        "id": "fDf0Os2rME54",
        "colab_type": "code",
        "colab": {
          "base_uri": "https://localhost:8080/",
          "height": 34
        },
        "outputId": "9baef27c-4223-4d51-8cbe-29a2be50335b"
      },
      "source": [
        "#Look at Shape\n",
        "\n",
        "df.shape"
      ],
      "execution_count": null,
      "outputs": [
        {
          "output_type": "execute_result",
          "data": {
            "text/plain": [
              "(3748, 5)"
            ]
          },
          "metadata": {
            "tags": []
          },
          "execution_count": 4
        }
      ]
    },
    {
      "cell_type": "code",
      "metadata": {
        "id": "E_VuV-BMMFER",
        "colab_type": "code",
        "colab": {
          "base_uri": "https://localhost:8080/",
          "height": 173
        },
        "outputId": "1279be48-4354-4bc3-ad56-79e456a5f352"
      },
      "source": [
        "#General Summary\n",
        "\n",
        "df.describe(include='all')"
      ],
      "execution_count": null,
      "outputs": [
        {
          "output_type": "execute_result",
          "data": {
            "text/html": [
              "<div>\n",
              "<style scoped>\n",
              "    .dataframe tbody tr th:only-of-type {\n",
              "        vertical-align: middle;\n",
              "    }\n",
              "\n",
              "    .dataframe tbody tr th {\n",
              "        vertical-align: top;\n",
              "    }\n",
              "\n",
              "    .dataframe thead th {\n",
              "        text-align: right;\n",
              "    }\n",
              "</style>\n",
              "<table border=\"1\" class=\"dataframe\">\n",
              "  <thead>\n",
              "    <tr style=\"text-align: right;\">\n",
              "      <th></th>\n",
              "      <th>Date</th>\n",
              "      <th>Low</th>\n",
              "      <th>High</th>\n",
              "      <th>Close</th>\n",
              "      <th>Open</th>\n",
              "    </tr>\n",
              "  </thead>\n",
              "  <tbody>\n",
              "    <tr>\n",
              "      <th>count</th>\n",
              "      <td>3748</td>\n",
              "      <td>3748.0</td>\n",
              "      <td>3748.0</td>\n",
              "      <td>3748.0</td>\n",
              "      <td>3748.0</td>\n",
              "    </tr>\n",
              "    <tr>\n",
              "      <th>unique</th>\n",
              "      <td>3748</td>\n",
              "      <td>2542.0</td>\n",
              "      <td>2630.0</td>\n",
              "      <td>2600.0</td>\n",
              "      <td>2521.0</td>\n",
              "    </tr>\n",
              "    <tr>\n",
              "      <th>top</th>\n",
              "      <td>2015-04-21</td>\n",
              "      <td>2.9</td>\n",
              "      <td>9.1</td>\n",
              "      <td>42.3</td>\n",
              "      <td>44.0</td>\n",
              "    </tr>\n",
              "    <tr>\n",
              "      <th>freq</th>\n",
              "      <td>1</td>\n",
              "      <td>6.0</td>\n",
              "      <td>6.0</td>\n",
              "      <td>6.0</td>\n",
              "      <td>6.0</td>\n",
              "    </tr>\n",
              "  </tbody>\n",
              "</table>\n",
              "</div>"
            ],
            "text/plain": [
              "              Date     Low    High   Close    Open\n",
              "count         3748  3748.0  3748.0  3748.0  3748.0\n",
              "unique        3748  2542.0  2630.0  2600.0  2521.0\n",
              "top     2015-04-21     2.9     9.1    42.3    44.0\n",
              "freq             1     6.0     6.0     6.0     6.0"
            ]
          },
          "metadata": {
            "tags": []
          },
          "execution_count": 5
        }
      ]
    },
    {
      "cell_type": "code",
      "metadata": {
        "id": "E_QfiCHUNDMD",
        "colab_type": "code",
        "colab": {
          "base_uri": "https://localhost:8080/",
          "height": 221
        },
        "outputId": "4f62d767-a9aa-4edb-bb4d-8a82176b7efa"
      },
      "source": [
        "#column summaries\n",
        "\n",
        "df.info()"
      ],
      "execution_count": null,
      "outputs": [
        {
          "output_type": "stream",
          "text": [
            "<class 'pandas.core.frame.DataFrame'>\n",
            "Int64Index: 3748 entries, 0 to 3747\n",
            "Data columns (total 5 columns):\n",
            " #   Column  Non-Null Count  Dtype \n",
            "---  ------  --------------  ----- \n",
            " 0   Date    3748 non-null   object\n",
            " 1   Low     3748 non-null   object\n",
            " 2   High    3748 non-null   object\n",
            " 3   Close   3748 non-null   object\n",
            " 4   Open    3748 non-null   object\n",
            "dtypes: object(5)\n",
            "memory usage: 175.7+ KB\n"
          ],
          "name": "stdout"
        }
      ]
    },
    {
      "cell_type": "code",
      "metadata": {
        "id": "RYFyDGjGNDaC",
        "colab_type": "code",
        "colab": {}
      },
      "source": [
        ""
      ],
      "execution_count": null,
      "outputs": []
    },
    {
      "cell_type": "code",
      "metadata": {
        "id": "HS3M76OmNDjQ",
        "colab_type": "code",
        "colab": {
          "base_uri": "https://localhost:8080/",
          "height": 451
        },
        "outputId": "82b743cf-8585-4bff-d78e-5a722827b2fb"
      },
      "source": [
        "#Plot Visualization\n",
        "\n",
        "plt.figure(figsize = (12,6))\n",
        "plt.plot(range(df.shape[0]),(df['Low']+df['High'])/2.0)\n",
        "plt.xticks(range(0,df.shape[0],500),df['Date'].loc[::500],rotation=45)\n",
        "plt.xlabel('Date',fontsize=18)\n",
        "plt.ylabel('Mid Price',fontsize=18)"
      ],
      "execution_count": null,
      "outputs": [
        {
          "output_type": "execute_result",
          "data": {
            "text/plain": [
              "Text(0, 0.5, 'Mid Price')"
            ]
          },
          "metadata": {
            "tags": []
          },
          "execution_count": 7
        },
        {
          "output_type": "display_data",
          "data": {
            "image/png": "[encoded data removed]",
            "text/plain": [
              "<Figure size 864x432 with 1 Axes>"
            ]
          },
          "metadata": {
            "tags": [],
            "needs_background": "light"
          }
        }
      ]
    },
    {
      "cell_type": "code",
      "metadata": {
        "id": "puO36qYeNDry",
        "colab_type": "code",
        "colab": {}
      },
      "source": [
        ""
      ],
      "execution_count": null,
      "outputs": []
    },
    {
      "cell_type": "markdown",
      "metadata": {
        "id": "b1ZdXzGO2sTr",
        "colab_type": "text"
      },
      "source": [
        "Now we have to devide the data into test and train set and standardize the data for training"
      ]
    },
    {
      "cell_type": "code",
      "metadata": {
        "id": "WIL1ZjKW2wBe",
        "colab_type": "code",
        "colab": {
          "base_uri": "https://localhost:8080/",
          "height": 119
        },
        "outputId": "aa0511db-8cd1-4854-ea33-235dbdb60ba0"
      },
      "source": [
        "df.count()"
      ],
      "execution_count": null,
      "outputs": [
        {
          "output_type": "execute_result",
          "data": {
            "text/plain": [
              "Date     3748\n",
              "Low      3748\n",
              "High     3748\n",
              "Close    3748\n",
              "Open     3748\n",
              "dtype: int64"
            ]
          },
          "metadata": {
            "tags": []
          },
          "execution_count": 8
        }
      ]
    },
    {
      "cell_type": "code",
      "metadata": {
        "id": "RPfYox9520st",
        "colab_type": "code",
        "colab": {}
      },
      "source": [
        "train_test_split_i = 3230\n",
        "high_prices = df['High'].to_numpy()\n",
        "low_prices = df['Low'].to_numpy()\n",
        "mid_prices = (high_prices+low_prices)/2.0"
      ],
      "execution_count": null,
      "outputs": []
    },
    {
      "cell_type": "code",
      "metadata": {
        "id": "6PccNs9ru_4s",
        "colab_type": "code",
        "colab": {}
      },
      "source": [
        "# Split data training vs testing\n",
        "train_data = mid_prices[:train_test_split_i]\n",
        "test_data = mid_prices[train_test_split_i:]"
      ],
      "execution_count": null,
      "outputs": []
    },
    {
      "cell_type": "code",
      "metadata": {
        "id": "Nwfamds6vADY",
        "colab_type": "code",
        "colab": {}
      },
      "source": [
        "# Normalize data\n",
        "scaler = MinMaxScaler()\n",
        "train_data = train_data.reshape(-1,1)\n",
        "test_data = test_data.reshape(-1,1)"
      ],
      "execution_count": null,
      "outputs": []
    },
    {
      "cell_type": "code",
      "metadata": {
        "id": "o73MwbDBvAHZ",
        "colab_type": "code",
        "colab": {}
      },
      "source": [
        "# Smoothing\n",
        "smoothing_window_size = 800\n",
        "for di in range(0, 3200, smoothing_window_size):\n",
        "    scaler.fit(train_data[di:di+smoothing_window_size,:])\n",
        "    train_data[di:di+smoothing_window_size,:]=scaler.transform(train_data[di:di+smoothing_window_size,:])\n",
        "scaler.fit(train_data[di+smoothing_window_size:,:])\n",
        "train_data[di+smoothing_window_size:,:] = scaler.transform(train_data[di+smoothing_window_size:,:])"
      ],
      "execution_count": null,
      "outputs": []
    },
    {
      "cell_type": "code",
      "metadata": {
        "id": "7njljSgRvAMM",
        "colab_type": "code",
        "colab": {}
      },
      "source": [
        "# Reshape data\n",
        "train_data = train_data.reshape(-1)"
      ],
      "execution_count": null,
      "outputs": []
    },
    {
      "cell_type": "code",
      "metadata": {
        "id": "DCCU2CQLvAPX",
        "colab_type": "code",
        "colab": {}
      },
      "source": [
        "# Normalize test data\n",
        "test_data = scaler.transform(test_data).reshape(-1)"
      ],
      "execution_count": null,
      "outputs": []
    },
    {
      "cell_type": "code",
      "metadata": {
        "id": "GS2bH0-DvASq",
        "colab_type": "code",
        "colab": {}
      },
      "source": [
        "# EMA\n",
        "EMA = 0.0\n",
        "gamma = 0.1\n",
        "for ti in range(train_test_split_i):\n",
        "    EMA = gamma*train_data[ti] + (1-gamma)*EMA\n",
        "    train_data[ti] = EMA\n",
        "all_mid_data = np.concatenate([train_data,test_data],axis=0)"
      ],
      "execution_count": null,
      "outputs": []
    },
    {
      "cell_type": "code",
      "metadata": {
        "id": "F9tlI7P2vAWY",
        "colab_type": "code",
        "colab": {}
      },
      "source": [
        "# Long Short-Term Memory models\n",
        "class DataGeneratorSeq(object):\n",
        "    def __init__(self, prices, batch_size, num_unroll):\n",
        "        self._prices = prices\n",
        "        self._prices_length = len(self._prices)-num_unroll\n",
        "        self._batch_size = batch_size\n",
        "        self._num_unroll = num_unroll\n",
        "        self._segments = self._prices_length//self._batch_size\n",
        "        self._cursor = [offset * self._segments for offset in range(self._batch_size)]\n",
        "         \n",
        "    def next_batch(self):\n",
        "        batch_data = np.zeros((self._batch_size),dtype=np.float32)\n",
        "        batch_labels = np.zeros((self._batch_size),dtype=np.float32)\n",
        "         \n",
        "        for b in range(self._batch_size):\n",
        "            if self._cursor[b]+1>=self._prices_length:\n",
        "                self._cursor[b] = np.random.randint(0,(b+1)*self._segments)\n",
        "            batch_data[b] = self._prices[self._cursor[b]]\n",
        "            batch_labels[b] = self._prices[self._cursor[b]+np.random.randint(0,5)]\n",
        "            self._cursor[b] = (self._cursor[b]+1)%self._prices_length\n",
        "        return batch_data, batch_labels\n",
        "     \n",
        "    def unroll_batches(self):\n",
        "        unroll_data, unroll_labels = [], []\n",
        "        init_data, init_label = None, None\n",
        "        for ui in range(self._num_unroll):\n",
        "            data, labels = self.next_batch()\n",
        "            unroll_data.append(data)\n",
        "            unroll_labels.append(labels)\n",
        "        return unroll_data, unroll_labels\n",
        "    def reset_indices(self):\n",
        "        for b in range(self._batch_size):\n",
        "            self._cursor[b] = np.random.randint(0,min((b+1)*self._segments,self._prices_length-1))"
      ],
      "execution_count": null,
      "outputs": []
    },
    {
      "cell_type": "code",
      "metadata": {
        "id": "iwauParyvYx3",
        "colab_type": "code",
        "colab": {}
      },
      "source": [
        "dg = DataGeneratorSeq(train_data,5,5)\n",
        "u_data, u_labels = dg.unroll_batches()"
      ],
      "execution_count": null,
      "outputs": []
    },
    {
      "cell_type": "code",
      "metadata": {
        "id": "af0taJ8XvY3Q",
        "colab_type": "code",
        "colab": {
          "base_uri": "https://localhost:8080/",
          "height": 357
        },
        "outputId": "a4d421fc-a501-4f76-f7d9-6043839305eb"
      },
      "source": [
        "for ui, (dat,lbl) in enumerate(zip(u_data,u_labels)):\n",
        "    print('\\nUnrolled index %d' %ui)\n",
        "    print('\\tInputs: ', dat)\n",
        "    print('\\tOutputs: ', lbl)"
      ],
      "execution_count": null,
      "outputs": [
        {
          "output_type": "stream",
          "text": [
            "\n",
            "Unrolled index 0\n",
            "\tInputs:  [0.03039658 0.11386113 0.9086873  0.22098817 0.5297762 ]\n",
            "\tOutputs:  [0.05712127 0.11038207 0.9052055  0.21936335 0.5297762 ]\n",
            "\n",
            "Unrolled index 1\n",
            "\tInputs:  [0.05712127 0.11038207 0.9052055  0.21936335 0.5306424 ]\n",
            "\tOutputs:  [0.12644066 0.10637474 0.9052055  0.2150911  0.5212461 ]\n",
            "\n",
            "Unrolled index 2\n",
            "\tInputs:  [0.08195353 0.10770252 0.9019714  0.21857075 0.5305746 ]\n",
            "\tOutputs:  [0.16563559 0.10637474 0.9019714  0.21437539 0.50966275]\n",
            "\n",
            "Unrolled index 3\n",
            "\tInputs:  [0.10475415 0.10637474 0.8982064  0.21745555 0.5278946 ]\n",
            "\tOutputs:  [0.1470177  0.10637474 0.89662695 0.21745555 0.50966275]\n",
            "\n",
            "Unrolled index 4\n",
            "\tInputs:  [0.12644066 0.10582841 0.89662695 0.21628703 0.5212461 ]\n",
            "\tOutputs:  [0.18349193 0.10582841 0.89463466 0.21308559 0.5212461 ]\n"
          ],
          "name": "stdout"
        }
      ]
    },
    {
      "cell_type": "code",
      "metadata": {
        "id": "dYPg9lbGvY7A",
        "colab_type": "code",
        "colab": {}
      },
      "source": [
        "D = 1 # Dimensionality of the data\n",
        "num_unrollings = 50 # Number of time steps into the future\n",
        "batch_size = 500 # Number of samples in a batch\n",
        "num_nodes = [200, 200, 150] # Number of hidden nodes in each layer of the deep LSTM stack\n",
        "n_layers = len(num_nodes) # Number of layers\n",
        "dropout = 0.2 # Dropout amount"
      ],
      "execution_count": null,
      "outputs": []
    },
    {
      "cell_type": "code",
      "metadata": {
        "id": "KWCplwdVvY-M",
        "colab_type": "code",
        "colab": {}
      },
      "source": [
        "# Reinitialize\n",
        "tf.reset_default_graph()"
      ],
      "execution_count": null,
      "outputs": []
    },
    {
      "cell_type": "code",
      "metadata": {
        "id": "7812TwWNvZB4",
        "colab_type": "code",
        "colab": {}
      },
      "source": [
        "# Inputs\n",
        "train_inputs = [tf.placeholder(tf.float32, shape=[batch_size,D],name='train_inputs_%d'%ui) for ui in range(num_unrollings)]\n",
        "train_outputs = [tf.placeholder(tf.float32, shape=[batch_size,1], name = 'train_outputs_%d'%ui) for ui in range(num_unrollings)]"
      ],
      "execution_count": null,
      "outputs": []
    },
    {
      "cell_type": "code",
      "metadata": {
        "id": "GtcsZSCPvZFM",
        "colab_type": "code",
        "colab": {
          "base_uri": "https://localhost:8080/",
          "height": 275
        },
        "outputId": "ce8b5378-1108-4711-8e97-debc3a294492"
      },
      "source": [
        "# Set up the LSTM and Regression layers\n",
        "lstm_cells = [\n",
        "    tf.contrib.rnn.LSTMCell(num_units=num_nodes[li],\n",
        "                           state_is_tuple=True,\n",
        "                           initializer=tf.contrib.layers.xavier_initializer())\n",
        "    for li in range(n_layers)]\n",
        " \n",
        "drop_lstm_cells = [\n",
        "    tf.contrib.rnn.DropoutWrapper(lstm, input_keep_prob=1.0,\n",
        "                                 output_keep_prob=1.0-dropout,\n",
        "                                 state_keep_prob=1.0-dropout)\n",
        "    for lstm in lstm_cells]\n",
        "drop_multi_cell = tf.contrib.rnn.MultiRNNCell(drop_lstm_cells)\n",
        "multi_cell = tf.contrib.rnn.MultiRNNCell(lstm_cells)"
      ],
      "execution_count": null,
      "outputs": [
        {
          "output_type": "stream",
          "text": [
            "WARNING:tensorflow:\n",
            "The TensorFlow contrib module will not be included in TensorFlow 2.0.\n",
            "For more information, please see:\n",
            "  * https://github.com/tensorflow/community/blob/master/rfcs/20180907-contrib-sunset.md\n",
            "  * https://github.com/tensorflow/addons\n",
            "  * https://github.com/tensorflow/io (for I/O related ops)\n",
            "If you depend on functionality not listed there, please file an issue.\n",
            "\n",
            "WARNING:tensorflow:From <ipython-input-22-fb89578c81ad>:6: LSTMCell.__init__ (from tensorflow.python.ops.rnn_cell_impl) is deprecated and will be removed in a future version.\n",
            "Instructions for updating:\n",
            "This class is equivalent as tf.keras.layers.LSTMCell, and will be replaced by that in Tensorflow 2.0.\n",
            "WARNING:tensorflow:From <ipython-input-22-fb89578c81ad>:13: MultiRNNCell.__init__ (from tensorflow.python.ops.rnn_cell_impl) is deprecated and will be removed in a future version.\n",
            "Instructions for updating:\n",
            "This class is equivalent as tf.keras.layers.StackedRNNCells, and will be replaced by that in Tensorflow 2.0.\n"
          ],
          "name": "stdout"
        }
      ]
    },
    {
      "cell_type": "code",
      "metadata": {
        "id": "iXvkwfUUvZIe",
        "colab_type": "code",
        "colab": {}
      },
      "source": [
        "# LSTM layers\n",
        "w = tf.get_variable('w',shape=[num_nodes[-1],1],\n",
        "                   initializer=tf.contrib.layers.xavier_initializer())\n",
        "# Linear regression layer\n",
        "b = tf.get_variable('b',initializer=tf.random_uniform([1],-0.1,0.1))\n",
        " \n",
        "# Cell state and hidden state\n",
        "c = [tf.Variable(tf.zeros([batch_size, num_nodes[li]]), trainable=False) for li in range(n_layers)]\n",
        "h = [tf.Variable(tf.zeros([batch_size, num_nodes[li]]), trainable=False) for li in range(n_layers)]\n",
        "initial_state = [tf.contrib.rnn.LSTMStateTuple(c[li], h[li]) for li in range(n_layers)]"
      ],
      "execution_count": null,
      "outputs": []
    },
    {
      "cell_type": "code",
      "metadata": {
        "id": "Hxbmd8sbvZLb",
        "colab_type": "code",
        "colab": {
          "base_uri": "https://localhost:8080/",
          "height": 190
        },
        "outputId": "fb585b29-84d5-4f78-daf6-3410f35f48f9"
      },
      "source": [
        "# Formatting\n",
        "all_inputs = tf.concat([tf.expand_dims(t,0) for t in train_inputs], axis=0)\n",
        "all_lstm_outputs, state = tf.nn.dynamic_rnn(\n",
        "    drop_multi_cell, all_inputs, initial_state=tuple(initial_state),\n",
        "    time_major=True, dtype=tf.float32)\n",
        "all_lstm_outputs = tf.reshape(all_lstm_outputs, [batch_size*num_unrollings, num_nodes[-1]])\n",
        " \n",
        "all_outputs = tf.nn.xw_plus_b(all_lstm_outputs, w, b)\n",
        "split_outputs = tf.split(all_outputs,num_unrollings, axis=0)"
      ],
      "execution_count": null,
      "outputs": [
        {
          "output_type": "stream",
          "text": [
            "WARNING:tensorflow:From <ipython-input-24-7d3786cefeb0>:5: dynamic_rnn (from tensorflow.python.ops.rnn) is deprecated and will be removed in a future version.\n",
            "Instructions for updating:\n",
            "Please use `keras.layers.RNN(cell)`, which is equivalent to this API\n",
            "WARNING:tensorflow:From /tensorflow-1.15.2/python3.6/tensorflow_core/python/ops/rnn_cell_impl.py:958: Layer.add_variable (from tensorflow.python.keras.engine.base_layer) is deprecated and will be removed in a future version.\n",
            "Instructions for updating:\n",
            "Please use `layer.add_weight` method instead.\n",
            "WARNING:tensorflow:From /tensorflow-1.15.2/python3.6/tensorflow_core/python/ops/rnn_cell_impl.py:962: calling Zeros.__init__ (from tensorflow.python.ops.init_ops) with dtype is deprecated and will be removed in a future version.\n",
            "Instructions for updating:\n",
            "Call initializer instance with the dtype argument instead of passing it to the constructor\n"
          ],
          "name": "stdout"
        }
      ]
    },
    {
      "cell_type": "code",
      "metadata": {
        "id": "DIjgC7MZwIA1",
        "colab_type": "code",
        "colab": {}
      },
      "source": [
        "# Training loss\n",
        "# Mean Squared Error (MSE)\n",
        "loss = 0.0\n",
        "with tf.control_dependencies([tf.assign(c[li],state[li][0]) for li in range(n_layers)]+\n",
        "                            [tf.assign(h[li],state[li][1]) for li in range(n_layers)]):\n",
        "    loss += sum([tf.reduce_mean(0.5*(split_outputs[ui]-train_outputs[ui])**2) for ui in range(num_unrollings)])\n",
        " \n",
        "global_step = tf.Variable(0, trainable=False)\n",
        "inc_gstep = tf.assign(global_step, global_step+1)\n",
        "tf_learning_rate = tf.placeholder(shape=None, dtype=tf.float32)\n",
        "tf_min_learning_rate = tf.placeholder(shape=None, dtype=tf.float32)\n",
        " \n",
        "learning_rate = tf.maximum(\n",
        "    tf.train.exponential_decay(tf_learning_rate,global_step,\n",
        "                               decay_steps=1, decay_rate=0.5,\n",
        "                              staircase=True),\n",
        "    tf_min_learning_rate)"
      ],
      "execution_count": null,
      "outputs": []
    },
    {
      "cell_type": "code",
      "metadata": {
        "id": "KaRUFzS9wIEI",
        "colab_type": "code",
        "colab": {
          "base_uri": "https://localhost:8080/",
          "height": 88
        },
        "outputId": "f72aeaa0-b476-4638-db5f-7864de6dfcd2"
      },
      "source": [
        "# Optimizer\n",
        "optimizer = tf.train.AdamOptimizer(learning_rate)\n",
        "gradients, v = zip(*optimizer.compute_gradients(loss))\n",
        "gradients, _ = tf.clip_by_global_norm(gradients, 5.0)\n",
        "optimizer = optimizer.apply_gradients(zip(gradients,v))"
      ],
      "execution_count": null,
      "outputs": [
        {
          "output_type": "stream",
          "text": [
            "WARNING:tensorflow:From /tensorflow-1.15.2/python3.6/tensorflow_core/python/ops/math_grad.py:1375: where (from tensorflow.python.ops.array_ops) is deprecated and will be removed in a future version.\n",
            "Instructions for updating:\n",
            "Use tf.where in 2.0, which has the same broadcast rule as np.where\n"
          ],
          "name": "stdout"
        }
      ]
    },
    {
      "cell_type": "code",
      "metadata": {
        "id": "ra305YbpwIHh",
        "colab_type": "code",
        "colab": {}
      },
      "source": [
        "# Defining prediction related TF calculations\n",
        "sample_inputs = tf.placeholder(tf.float32, shape=[1,D])\n",
        "sample_c = [tf.Variable(tf.zeros([1, num_nodes[li]]), trainable=False) for li in range(n_layers)]\n",
        "sample_h = [tf.Variable(tf.zeros([1, num_nodes[li]]), trainable=False) for li in range(n_layers)]\n",
        "initial_sample_state = [tf.contrib.rnn.LSTMStateTuple(sample_c[li],sample_h[li]) for li in range(n_layers)]\n",
        " \n",
        "reset_sample_states = tf.group(*[[tf.assign(sample_c[li],tf.zeros([1, num_nodes[li]])) for li in range(n_layers)]+\n",
        "                               [tf.assign(sample_h[li],tf.zeros([1, num_nodes[li]])) for li in range(n_layers)]])\n",
        "sample_outputs, sample_state = tf.nn.dynamic_rnn(multi_cell, tf.expand_dims(sample_inputs,0),\n",
        "                                                initial_state=tuple(initial_sample_state),\n",
        "                                                time_major=True,\n",
        "                                                dtype=tf.float32)\n",
        "with tf.control_dependencies([tf.assign(sample_c[li],sample_state[li][0]) for li in range(n_layers)]+\n",
        "                            [tf.assign(sample_h[li], sample_state[li][1]) for li in range(n_layers)]):\n",
        "    sample_prediction = tf.nn.xw_plus_b(tf.reshape(sample_outputs,[1,-1]),w,b)"
      ],
      "execution_count": null,
      "outputs": []
    },
    {
      "cell_type": "code",
      "metadata": {
        "id": "ARqdI4NnwINW",
        "colab_type": "code",
        "colab": {}
      },
      "source": [
        "# Initialise before Running\n",
        "epochs = 30\n",
        "valid_summary = 1\n",
        "n_predict_once = 50\n",
        "train_seq_length = train_data.size\n",
        "train_mse_ot = []\n",
        "test_mse_ot = []\n",
        "predictions_over_time = []\n",
        " \n",
        "session = tf.InteractiveSession()\n",
        "tf.global_variables_initializer().run()\n",
        "loss_nondecrease_count = 0\n",
        "loss_nondecrease_threshold = 2\n",
        "average_loss = 0\n",
        " \n",
        "data_gen = DataGeneratorSeq(train_data,batch_size,num_unrollings)\n",
        "x_axis_seq = []\n",
        "test_points_seq = np.arange(train_test_split_i,train_test_split_i+100,n_predict_once).tolist()"
      ],
      "execution_count": null,
      "outputs": []
    },
    {
      "cell_type": "code",
      "metadata": {
        "id": "j5czSeTewITW",
        "colab_type": "code",
        "colab": {
          "base_uri": "https://localhost:8080/",
          "height": 1000
        },
        "outputId": "952c62cf-5cc4-4f31-9f79-4d6fbbc85692"
      },
      "source": [
        "for ep in range(epochs):\n",
        "    # =================== Training =======================\n",
        "    for step in range(train_seq_length//batch_size):\n",
        "        u_data, u_labels = data_gen.unroll_batches()\n",
        "        feed_dict = {}\n",
        "        for ui, (dat,lbl) in enumerate(zip(u_data,u_labels)):\n",
        "            feed_dict[train_inputs[ui]] = dat.reshape(-1,1)\n",
        "            feed_dict[train_outputs[ui]] = lbl.reshape(-1,1)\n",
        "        feed_dict.update({tf_learning_rate: 0.0001, tf_min_learning_rate:0.000001})\n",
        "        _, l = session.run([optimizer, loss], feed_dict=feed_dict)\n",
        "        average_loss += l\n",
        "    # =================== Validation =======================\n",
        "    if (ep+1) % valid_summary == 0:\n",
        "        average_loss = average_loss/(valid_summary*(train_seq_length//batch_size))\n",
        "        if (ep+1)%valid_summary==0:\n",
        "            print('Average loss at step %d: %f' %(ep+1, average_loss))\n",
        "        train_mse_ot.append(average_loss)\n",
        "        average_loss = 0\n",
        "        predictions_seq, mse_test_loss_seq = [], []\n",
        "    # =================== Update and make prediction =======================\n",
        "    for w_i in test_points_seq:\n",
        "        mse_test_loss = 0.0\n",
        "        our_predictions = []\n",
        "        if (ep+1)-valid_summary==0:\n",
        "            x_axis=[]\n",
        "        for tr_i in range(w_i-num_unrollings+1, w_i-1):\n",
        "            current_price = all_mid_data[tr_i]\n",
        "            feed_dict[sample_inputs] = np.array(current_price).reshape(1,1)\n",
        "            _ = session.run(sample_prediction, feed_dict=feed_dict)\n",
        "         \n",
        "        feed_dict = {}\n",
        "        current_price = all_mid_data[w_i-1]\n",
        "        feed_dict[sample_inputs] = np.array(current_price).reshape(1,1)\n",
        "        for pred_i in range(n_predict_once):\n",
        "            pred = session.run(sample_prediction, feed_dict=feed_dict)\n",
        "            our_predictions.append(np.asscalar(pred))\n",
        "            feed_dict[sample_inputs] = np.asarray(pred).reshape(-1,1)\n",
        "            if (ep+1)-valid_summary==0:\n",
        "                x_axis.append(w_i+pred_i)\n",
        "            mse_test_loss += 0.5 *(pred-all_mid_data[w_i+pred_i])**2\n",
        "        session.run(reset_sample_states)\n",
        "        predictions_seq.append(np.array(our_predictions))\n",
        "        mse_test_loss/=n_predict_once\n",
        "        mse_test_loss_seq.append(mse_test_loss)\n",
        "        if (ep+1)-valid_summary==0:\n",
        "            x_axis_seq.append(x_axis)\n",
        "    current_test_mse = np.mean(mse_test_loss_seq)\n",
        "     \n",
        "    # learning rate decay logic\n",
        "    if len(test_mse_ot)>0 and current_test_mse>min(test_mse_ot):\n",
        "        loss_nondecrease_count += 1\n",
        "    else:\n",
        "        loss_nondecrease_count = 0\n",
        "     \n",
        "    if loss_nondecrease_count > loss_nondecrease_threshold:\n",
        "        session.run(inc_gstep)\n",
        "        loss_nondecrease_count = 0\n",
        "        # Decreasing learning rate by 0.5\n",
        "    test_mse_ot.append(current_test_mse)\n",
        "    print('\\tTest MSE: %.5f'%np.mean(mse_test_loss_seq))\n",
        "    predictions_over_time.append(predictions_seq)\n",
        "    print('\\tFinished Predictions') "
      ],
      "execution_count": null,
      "outputs": [
        {
          "output_type": "stream",
          "text": [
            "Average loss at step 1: 4.658614\n"
          ],
          "name": "stdout"
        },
        {
          "output_type": "stream",
          "text": [
            "/usr/local/lib/python3.6/dist-packages/ipykernel_launcher.py:36: DeprecationWarning: np.asscalar(a) is deprecated since NumPy v1.16, use a.item() instead\n"
          ],
          "name": "stderr"
        },
        {
          "output_type": "stream",
          "text": [
            "\tTest MSE: 0.10096\n",
            "\tFinished Predictions\n",
            "Average loss at step 2: 1.462510\n",
            "\tTest MSE: 0.15398\n",
            "\tFinished Predictions\n",
            "Average loss at step 3: 0.551863\n",
            "\tTest MSE: 0.31828\n",
            "\tFinished Predictions\n",
            "Average loss at step 4: 0.394196\n",
            "\tTest MSE: 0.14829\n",
            "\tFinished Predictions\n",
            "Average loss at step 5: 0.244510\n",
            "\tTest MSE: 0.16325\n",
            "\tFinished Predictions\n",
            "Average loss at step 6: 0.194715\n",
            "\tTest MSE: 0.19981\n",
            "\tFinished Predictions\n",
            "Average loss at step 7: 0.195374\n",
            "\tTest MSE: 0.16913\n",
            "\tFinished Predictions\n",
            "Average loss at step 8: 0.193595\n",
            "\tTest MSE: 0.16847\n",
            "\tFinished Predictions\n",
            "Average loss at step 9: 0.179979\n",
            "\tTest MSE: 0.17743\n",
            "\tFinished Predictions\n",
            "Average loss at step 10: 0.173167\n",
            "\tTest MSE: 0.18113\n",
            "\tFinished Predictions\n",
            "Average loss at step 11: 0.172742\n",
            "\tTest MSE: 0.17698\n",
            "\tFinished Predictions\n",
            "Average loss at step 12: 0.165285\n",
            "\tTest MSE: 0.17279\n",
            "\tFinished Predictions\n",
            "Average loss at step 13: 0.165641\n",
            "\tTest MSE: 0.17214\n",
            "\tFinished Predictions\n",
            "Average loss at step 14: 0.162637\n",
            "\tTest MSE: 0.17361\n",
            "\tFinished Predictions\n",
            "Average loss at step 15: 0.153518\n",
            "\tTest MSE: 0.17589\n",
            "\tFinished Predictions\n",
            "Average loss at step 16: 0.153355\n",
            "\tTest MSE: 0.17697\n",
            "\tFinished Predictions\n",
            "Average loss at step 17: 0.153487\n",
            "\tTest MSE: 0.17724\n",
            "\tFinished Predictions\n",
            "Average loss at step 18: 0.154498\n",
            "\tTest MSE: 0.17738\n",
            "\tFinished Predictions\n",
            "Average loss at step 19: 0.166926\n",
            "\tTest MSE: 0.17686\n",
            "\tFinished Predictions\n",
            "Average loss at step 20: 0.164789\n",
            "\tTest MSE: 0.17658\n",
            "\tFinished Predictions\n",
            "Average loss at step 21: 0.159946\n",
            "\tTest MSE: 0.17662\n",
            "\tFinished Predictions\n",
            "Average loss at step 22: 0.160705\n",
            "\tTest MSE: 0.17645\n",
            "\tFinished Predictions\n",
            "Average loss at step 23: 0.148331\n",
            "\tTest MSE: 0.17617\n",
            "\tFinished Predictions\n",
            "Average loss at step 24: 0.155296\n",
            "\tTest MSE: 0.17602\n",
            "\tFinished Predictions\n",
            "Average loss at step 25: 0.151882\n",
            "\tTest MSE: 0.17609\n",
            "\tFinished Predictions\n",
            "Average loss at step 26: 0.152750\n",
            "\tTest MSE: 0.17610\n",
            "\tFinished Predictions\n",
            "Average loss at step 27: 0.156370\n",
            "\tTest MSE: 0.17608\n",
            "\tFinished Predictions\n",
            "Average loss at step 28: 0.151642\n",
            "\tTest MSE: 0.17625\n",
            "\tFinished Predictions\n",
            "Average loss at step 29: 0.158384\n",
            "\tTest MSE: 0.17633\n",
            "\tFinished Predictions\n",
            "Average loss at step 30: 0.156073\n",
            "\tTest MSE: 0.17630\n",
            "\tFinished Predictions\n"
          ],
          "name": "stdout"
        }
      ]
    },
    {
      "cell_type": "code",
      "metadata": {
        "id": "N0RLcagKwIYo",
        "colab_type": "code",
        "colab": {
          "base_uri": "https://localhost:8080/",
          "height": 299
        },
        "outputId": "f068007c-f6ba-4fda-ea81-9e9f96f6fd21"
      },
      "source": [
        "# Plot\n",
        " \n",
        "best_prediction_epoch = 2\n",
        " \n",
        "plt.plot(range(df.shape[0]),all_mid_data,color='b')\n",
        "for xval,yval in zip(x_axis_seq,predictions_over_time[best_prediction_epoch]):\n",
        "    plt.plot(xval,yval,color='r')\n",
        "plt.title('Best Test Predictions Over Time', fontsize=18)\n",
        "plt.xlabel('Date',fontsize=10)\n",
        "plt.ylabel('Mid Price',fontsize=10)\n",
        "plt.xlim(train_test_split_i,len(df))\n",
        "plt.show()"
      ],
      "execution_count": null,
      "outputs": [
        {
          "output_type": "display_data",
          "data": {
            "image/png": "[encoded data removed]",
            "text/plain": [
              "<Figure size 432x288 with 1 Axes>"
            ]
          },
          "metadata": {
            "tags": [],
            "needs_background": "light"
          }
        }
      ]
    },
    {
      "cell_type": "markdown",
      "metadata": {
        "id": "WLIsa6Bzblmb",
        "colab_type": "text"
      },
      "source": [
        "## Decision Tree Regression Model and Linear Regression Model"
      ]
    },
    {
      "cell_type": "code",
      "metadata": {
        "id": "oLQ672F1bYKK",
        "colab_type": "code",
        "colab": {}
      },
      "source": [
        "# Import necessary models from sklearn\n",
        "\n",
        "from sklearn.tree import DecisionTreeRegressor\n",
        "from sklearn.linear_model import LinearRegression\n",
        "from sklearn.model_selection import train_test_split\n",
        "from sklearn.metrics import mean_squared_error"
      ],
      "execution_count": null,
      "outputs": []
    },
    {
      "cell_type": "code",
      "metadata": {
        "id": "_ZJ-lQUObYO7",
        "colab_type": "code",
        "colab": {
          "base_uri": "https://localhost:8080/",
          "height": 340
        },
        "outputId": "6a16b3fe-ea07-486d-a03a-69a6e4eab4d6"
      },
      "source": [
        "# re-look at the initial data\n",
        "\n",
        "print(df.info())\n",
        "print(df.head())"
      ],
      "execution_count": null,
      "outputs": [
        {
          "output_type": "stream",
          "text": [
            "<class 'pandas.core.frame.DataFrame'>\n",
            "Int64Index: 3748 entries, 0 to 3747\n",
            "Data columns (total 5 columns):\n",
            " #   Column  Non-Null Count  Dtype \n",
            "---  ------  --------------  ----- \n",
            " 0   Date    3748 non-null   object\n",
            " 1   Low     3748 non-null   object\n",
            " 2   High    3748 non-null   object\n",
            " 3   Close   3748 non-null   object\n",
            " 4   Open    3748 non-null   object\n",
            "dtypes: object(5)\n",
            "memory usage: 175.7+ KB\n",
            "None\n",
            "         Date    Low   High  Close   Open\n",
            "0  2005-09-27   19.1   21.4   19.3  21.05\n",
            "1  2005-09-28   19.2  20.53   20.5   19.3\n",
            "2  2005-09-29   20.1  20.58  20.21   20.4\n",
            "3  2005-09-30  20.18  21.05  21.01  20.26\n",
            "4  2005-10-03   20.9  21.75   21.5   20.9\n"
          ],
          "name": "stdout"
        }
      ]
    },
    {
      "cell_type": "code",
      "metadata": {
        "id": "cu9SpcOebYTx",
        "colab_type": "code",
        "colab": {
          "base_uri": "https://localhost:8080/",
          "height": 34
        },
        "outputId": "4698cfb9-83d2-4503-ca44-e14c1bdb7901"
      },
      "source": [
        "# number of rows = number of trading days\n",
        "\n",
        "print(df.shape)"
      ],
      "execution_count": null,
      "outputs": [
        {
          "output_type": "stream",
          "text": [
            "(3748, 5)\n"
          ],
          "name": "stdout"
        }
      ]
    },
    {
      "cell_type": "code",
      "metadata": {
        "id": "5Fmk4fYDbYY1",
        "colab_type": "code",
        "colab": {
          "base_uri": "https://localhost:8080/",
          "height": 404
        },
        "outputId": "ebed3f52-3b88-45a8-c60b-e33480bc52c0"
      },
      "source": [
        "# Prediction to be made on close price data\n",
        "# Visualisation of close price\n",
        "\n",
        "plt.figure(figsize=(12,6))\n",
        "plt.title('Stock Price Close')\n",
        "plt.xlabel('Days')\n",
        "plt.ylabel('Close Price')\n",
        "plt.plot(df['Close'])\n",
        "plt.show()"
      ],
      "execution_count": null,
      "outputs": [
        {
          "output_type": "display_data",
          "data": {
            "image/png": "[encoded data removed]",
            "text/plain": [
              "<Figure size 864x432 with 1 Axes>"
            ]
          },
          "metadata": {
            "tags": [],
            "needs_background": "light"
          }
        }
      ]
    },
    {
      "cell_type": "code",
      "metadata": {
        "id": "kRs40Dm7bYcW",
        "colab_type": "code",
        "colab": {
          "base_uri": "https://localhost:8080/",
          "height": 119
        },
        "outputId": "386bd2ff-60c5-4afa-8770-47a17ee920b6"
      },
      "source": [
        "# Create close price only dataframe\n",
        "\n",
        "close_df = df[['Close']]\n",
        "print(close_df.head())"
      ],
      "execution_count": null,
      "outputs": [
        {
          "output_type": "stream",
          "text": [
            "   Close\n",
            "0   19.3\n",
            "1   20.5\n",
            "2  20.21\n",
            "3  21.01\n",
            "4   21.5\n"
          ],
          "name": "stdout"
        }
      ]
    },
    {
      "cell_type": "code",
      "metadata": {
        "id": "OVE5-4RgbYhv",
        "colab_type": "code",
        "colab": {
          "base_uri": "https://localhost:8080/",
          "height": 221
        },
        "outputId": "ea087cdc-ad0a-45fa-a48e-4f037da4e888"
      },
      "source": [
        "# Define Variables\n",
        "\n",
        "days_to_future = 30    # Days into future model will predict into\n",
        "\n",
        "# Add target column to close_df with data for price shifted 'days_to_future' ahead\n",
        "close_df['Prediction'] = df[['Close']].shift(-days_to_future)\n",
        "print(close_df.head())"
      ],
      "execution_count": null,
      "outputs": [
        {
          "output_type": "stream",
          "text": [
            "   Close Prediction\n",
            "0   19.3      29.43\n",
            "1   20.5       31.3\n",
            "2  20.21       32.8\n",
            "3  21.01      33.35\n",
            "4   21.5      33.75\n"
          ],
          "name": "stdout"
        },
        {
          "output_type": "stream",
          "text": [
            "/usr/local/lib/python3.6/dist-packages/ipykernel_launcher.py:6: SettingWithCopyWarning: \n",
            "A value is trying to be set on a copy of a slice from a DataFrame.\n",
            "Try using .loc[row_indexer,col_indexer] = value instead\n",
            "\n",
            "See the caveats in the documentation: https://pandas.pydata.org/pandas-docs/stable/user_guide/indexing.html#returning-a-view-versus-a-copy\n",
            "  \n"
          ],
          "name": "stderr"
        }
      ]
    },
    {
      "cell_type": "code",
      "metadata": {
        "id": "1sk99m7UcHyc",
        "colab_type": "code",
        "colab": {
          "base_uri": "https://localhost:8080/",
          "height": 119
        },
        "outputId": "ca009e32-2032-4494-b82b-92832f840512"
      },
      "source": [
        "# Verify predictions for end of dataframe are NaN\n",
        "print(close_df.tail())"
      ],
      "execution_count": null,
      "outputs": [
        {
          "output_type": "stream",
          "text": [
            "      Close Prediction\n",
            "3743  13.73        NaN\n",
            "3744  13.54        NaN\n",
            "3745   13.3        NaN\n",
            "3746  13.33        NaN\n",
            "3747  12.62        NaN\n"
          ],
          "name": "stdout"
        }
      ]
    },
    {
      "cell_type": "code",
      "metadata": {
        "id": "Tie77I5TcIPR",
        "colab_type": "code",
        "colab": {
          "base_uri": "https://localhost:8080/",
          "height": 204
        },
        "outputId": "90d432f1-c9dd-41b8-f8d9-b544ee9cbb28"
      },
      "source": [
        "# Create feature dataset 'X'\n",
        "# Leave off last 'days_to_future' rows\n",
        "\n",
        "X = np.array(close_df.drop(['Prediction'], 1))[:-days_to_future]\n",
        "print(X[:10])\n",
        "print(X.shape)"
      ],
      "execution_count": null,
      "outputs": [
        {
          "output_type": "stream",
          "text": [
            "[[19.3]\n",
            " [20.5]\n",
            " [20.21]\n",
            " [21.01]\n",
            " [21.5]\n",
            " [22.16]\n",
            " [22.2]\n",
            " [22.58]\n",
            " [22.15]\n",
            " [22.21]]\n",
            "(3718, 1)\n"
          ],
          "name": "stdout"
        }
      ]
    },
    {
      "cell_type": "code",
      "metadata": {
        "id": "3RgtLlUNcIZX",
        "colab_type": "code",
        "colab": {
          "base_uri": "https://localhost:8080/",
          "height": 204
        },
        "outputId": "5b4fa43c-124c-456b-f474-8da91a2d68b1"
      },
      "source": [
        "# Create target dataset 'y'\n",
        "# Leave off last 'days_to_future' rows\n",
        "\n",
        "y = np.array(close_df.drop(['Close'], 1))[:-days_to_future]\n",
        "print(y[:10])\n",
        "print(y.shape)"
      ],
      "execution_count": null,
      "outputs": [
        {
          "output_type": "stream",
          "text": [
            "[[29.43]\n",
            " [31.3]\n",
            " [32.8]\n",
            " [33.35]\n",
            " [33.75]\n",
            " [33.88]\n",
            " [33.6]\n",
            " [34.32]\n",
            " [33.05]\n",
            " [31.99]]\n",
            "(3718, 1)\n"
          ],
          "name": "stdout"
        }
      ]
    },
    {
      "cell_type": "code",
      "metadata": {
        "id": "AlDhy66QcIgt",
        "colab_type": "code",
        "colab": {}
      },
      "source": [
        "# Split data into 20% test and 80% train data\n",
        "X_train, X_test, y_train, y_test = train_test_split(X, y, test_size = 0.20)"
      ],
      "execution_count": null,
      "outputs": []
    },
    {
      "cell_type": "code",
      "metadata": {
        "id": "GdnQBl8wcIoR",
        "colab_type": "code",
        "colab": {
          "base_uri": "https://localhost:8080/",
          "height": 34
        },
        "outputId": "a2ca3898-104e-46e5-8a62-18641b0dade7"
      },
      "source": [
        "# Create Decision Tree Regressor model\n",
        "\n",
        "tree_model = DecisionTreeRegressor()\n",
        "tree_model.fit(X_train, y_train)\n",
        "tree_pred = tree_model.predict(X_test)\n",
        "tree_mse = mean_squared_error(y_test, tree_pred)\n",
        "print(tree_mse)"
      ],
      "execution_count": null,
      "outputs": [
        {
          "output_type": "stream",
          "text": [
            "40.11097910985514\n"
          ],
          "name": "stdout"
        }
      ]
    },
    {
      "cell_type": "code",
      "metadata": {
        "id": "zNie3u9BcIvF",
        "colab_type": "code",
        "colab": {
          "base_uri": "https://localhost:8080/",
          "height": 34
        },
        "outputId": "ca0c48b4-36ba-4092-ef62-c40712c05c19"
      },
      "source": [
        "# Create Linear Regression model\n",
        "\n",
        "linear = LinearRegression()\n",
        "linear.fit(X_train, y_train)\n",
        "linear_pred = linear.predict(X_test)\n",
        "linear_mse = mean_squared_error(y_test, linear_pred)\n",
        "print(linear_mse)"
      ],
      "execution_count": null,
      "outputs": [
        {
          "output_type": "stream",
          "text": [
            "21.93799878111443\n"
          ],
          "name": "stdout"
        }
      ]
    },
    {
      "cell_type": "code",
      "metadata": {
        "id": "-kQUB8jLckXM",
        "colab_type": "code",
        "colab": {
          "base_uri": "https://localhost:8080/",
          "height": 527
        },
        "outputId": "43d3a803-0031-42c1-ed2f-5b7e2def96c7"
      },
      "source": [
        "future_days = close_df.drop(['Prediction'], 1)[:-days_to_future]\n",
        "future_days = future_days.tail(days_to_future)\n",
        "future_days = np.array(future_days)\n",
        "print(future_days)"
      ],
      "execution_count": null,
      "outputs": [
        {
          "output_type": "stream",
          "text": [
            "[[9.7]\n",
            " [11.14]\n",
            " [11.98]\n",
            " [10.98]\n",
            " [10.5]\n",
            " [11.11]\n",
            " [11.22]\n",
            " [11.85]\n",
            " [16.72]\n",
            " [18.59]\n",
            " [20.31]\n",
            " [18.55]\n",
            " [17.02]\n",
            " [14.38]\n",
            " [16.74]\n",
            " [16.7]\n",
            " [17.03]\n",
            " [16.98]\n",
            " [16.49]\n",
            " [16.0]\n",
            " [14.92]\n",
            " [14.0]\n",
            " [13.04]\n",
            " [13.17]\n",
            " [12.38]\n",
            " [13.32]\n",
            " [13.07]\n",
            " [12.81]\n",
            " [12.5]\n",
            " [12.8]]\n"
          ],
          "name": "stdout"
        }
      ]
    },
    {
      "cell_type": "code",
      "metadata": {
        "id": "rxVJ21YAckgQ",
        "colab_type": "code",
        "colab": {
          "base_uri": "https://localhost:8080/",
          "height": 102
        },
        "outputId": "68ae51bf-717e-4444-fb21-8ee5c5b4a5da"
      },
      "source": [
        "# Predict with Decision Tree Model\n",
        "tree_predict = tree_model.predict(future_days)\n",
        "print(tree_predict)"
      ],
      "execution_count": null,
      "outputs": [
        {
          "output_type": "stream",
          "text": [
            "[11.595      11.99       11.18       10.26333333 12.12       11.18\n",
            " 11.62       12.45       11.91       13.95       11.47       11.36\n",
            " 15.62333333 11.39       11.39       11.91       15.62333333 14.12\n",
            " 11.12       18.96       13.495      12.56       13.04       13.03\n",
            " 14.24       13.885      13.54       14.3        12.96333333 14.28      ]\n"
          ],
          "name": "stdout"
        }
      ]
    },
    {
      "cell_type": "code",
      "metadata": {
        "id": "kMTDcR7ecklX",
        "colab_type": "code",
        "colab": {
          "base_uri": "https://localhost:8080/",
          "height": 527
        },
        "outputId": "f22036ce-73de-41a1-a9f9-c094bbd54b18"
      },
      "source": [
        "# Preduct with Linear Regression Model\n",
        "\n",
        "linear_predict = linear.predict(future_days)\n",
        "print(linear_predict)"
      ],
      "execution_count": null,
      "outputs": [
        {
          "output_type": "stream",
          "text": [
            "[[10.17753476]\n",
            " [11.56900917]\n",
            " [12.38070258]\n",
            " [11.4144009 ]\n",
            " [10.9505761 ]\n",
            " [11.54002012]\n",
            " [11.64631331]\n",
            " [12.25508336]\n",
            " [16.96097253]\n",
            " [18.76795667]\n",
            " [20.42999555]\n",
            " [18.7293046 ]\n",
            " [17.25086304]\n",
            " [14.69982661]\n",
            " [16.98029857]\n",
            " [16.9416465 ]\n",
            " [17.26052605]\n",
            " [17.21221097]\n",
            " [16.73872315]\n",
            " [16.26523532]\n",
            " [15.22162951]\n",
            " [14.33263197]\n",
            " [13.40498236]\n",
            " [13.53060158]\n",
            " [12.76722325]\n",
            " [13.67554683]\n",
            " [13.43397141]\n",
            " [13.18273297]\n",
            " [12.88317945]\n",
            " [13.17306996]]\n"
          ],
          "name": "stdout"
        }
      ]
    },
    {
      "cell_type": "code",
      "metadata": {
        "id": "R-h6klZPckpl",
        "colab_type": "code",
        "colab": {
          "base_uri": "https://localhost:8080/",
          "height": 51
        },
        "outputId": "9ed8d7c2-dd0d-4344-c379-ac3225e80d0b"
      },
      "source": [
        "# Future Prediction MSE, linear and decision tree\n",
        "\n",
        "future_tree_mse = mean_squared_error(future_days, tree_predict)\n",
        "future_linear_mse = mean_squared_error(future_days, linear_predict)\n",
        "\n",
        "print('30 Day Tree Future Prediction MSE: ', future_tree_mse)\n",
        "print('30 Day Linear Future Prediction MSE: ', future_linear_mse)"
      ],
      "execution_count": null,
      "outputs": [
        {
          "output_type": "stream",
          "text": [
            "30 Day Tree Future Prediction MSE:  10.202891759259257\n",
            "30 Day Linear Future Prediction MSE:  0.11470168907507704\n"
          ],
          "name": "stdout"
        }
      ]
    },
    {
      "cell_type": "code",
      "metadata": {
        "id": "rT5HKcC3ckuG",
        "colab_type": "code",
        "colab": {
          "base_uri": "https://localhost:8080/",
          "height": 506
        },
        "outputId": "9c1c5f2d-9f10-4399-956e-0177f7786491"
      },
      "source": [
        "# Visualization of results\n",
        "\n",
        "predictions = tree_predict\n",
        "\n",
        "validation = close_df[X.shape[0]:]\n",
        "validation['Predictions'] = predictions\n",
        "\n",
        "plt.figure(figsize=(12,6))\n",
        "plt.title('Model Predictions')\n",
        "plt.xlabel('Days')\n",
        "plt.ylabel('Predictions')\n",
        "plt.plot(close_df['Close'].iloc[3600:])\n",
        "plt.plot(validation[['Close', 'Predictions']])\n",
        "plt.legend(['Observed', 'Validated', 'Predicted'])\n",
        "plt.show()"
      ],
      "execution_count": null,
      "outputs": [
        {
          "output_type": "stream",
          "text": [
            "/usr/local/lib/python3.6/dist-packages/ipykernel_launcher.py:6: SettingWithCopyWarning: \n",
            "A value is trying to be set on a copy of a slice from a DataFrame.\n",
            "Try using .loc[row_indexer,col_indexer] = value instead\n",
            "\n",
            "See the caveats in the documentation: https://pandas.pydata.org/pandas-docs/stable/user_guide/indexing.html#returning-a-view-versus-a-copy\n",
            "  \n"
          ],
          "name": "stderr"
        },
        {
          "output_type": "display_data",
          "data": {
            "image/png": "[encoded data removed]",
            "text/plain": [
              "<Figure size 864x432 with 1 Axes>"
            ]
          },
          "metadata": {
            "tags": [],
            "needs_background": "light"
          }
        }
      ]
    },
    {
      "cell_type": "code",
      "metadata": {
        "id": "822puL-7ckyL",
        "colab_type": "code",
        "colab": {
          "base_uri": "https://localhost:8080/",
          "height": 506
        },
        "outputId": "df4bde2d-e079-41c5-9aa9-e9ad33f116c5"
      },
      "source": [
        "# Visualize Linear Model Results\n",
        "\n",
        "lpredictions = linear_predict\n",
        "\n",
        "validation = close_df[X.shape[0]:]\n",
        "validation['Predictions'] = lpredictions\n",
        "\n",
        "plt.figure(figsize=(12,6))\n",
        "plt.title('Model Predictions')\n",
        "plt.xlabel('Days')\n",
        "plt.ylabel('Predictions')\n",
        "plt.plot(close_df['Close'].iloc[3600:])\n",
        "plt.plot(validation[['Close', 'Predictions']])\n",
        "plt.legend(['Observed', 'Validated', 'Predicted'])\n",
        "plt.show()"
      ],
      "execution_count": null,
      "outputs": [
        {
          "output_type": "stream",
          "text": [
            "/usr/local/lib/python3.6/dist-packages/ipykernel_launcher.py:6: SettingWithCopyWarning: \n",
            "A value is trying to be set on a copy of a slice from a DataFrame.\n",
            "Try using .loc[row_indexer,col_indexer] = value instead\n",
            "\n",
            "See the caveats in the documentation: https://pandas.pydata.org/pandas-docs/stable/user_guide/indexing.html#returning-a-view-versus-a-copy\n",
            "  \n"
          ],
          "name": "stderr"
        },
        {
          "output_type": "display_data",
          "data": {
            "image/png": "[encoded data removed]",
            "text/plain": [
              "<Figure size 864x432 with 1 Axes>"
            ]
          },
          "metadata": {
            "tags": [],
            "needs_background": "light"
          }
        }
      ]
    },
    {
      "cell_type": "markdown",
      "metadata": {
        "id": "VEzJw8HydK0c",
        "colab_type": "text"
      },
      "source": [
        "## XG Boost Model"
      ]
    },
    {
      "cell_type": "code",
      "metadata": {
        "id": "qK6Xs0v1cIz8",
        "colab_type": "code",
        "colab": {
          "base_uri": "https://localhost:8080/",
          "height": 34
        },
        "outputId": "0385008d-3547-45f4-c74a-41e1f8afa571"
      },
      "source": [
        "import xgboost as xgb\n",
        "\n",
        "# Convert the training and testing sets into DMatrixes: DM_train, DM_test\n",
        "DM_train = xgb.DMatrix(data=X_train, label=y_train)\n",
        "DM_test =  xgb.DMatrix(data=X_test, label=y_test)\n",
        "\n",
        "\n",
        "# Create the parameter dictionary: params\n",
        "params = {\"objective\":\"reg:squarederror\"}\n",
        "\n",
        "# Train the model: xg_reg\n",
        "xg_reg = xgb.train(params = params, dtrain=DM_train, num_boost_round=5)\n",
        "\n",
        "# Predict the labels of the test set: preds\n",
        "preds = xg_reg.predict(DM_test)\n",
        "\n",
        "# Compute and print the RMSE\n",
        "xgb_mse = mean_squared_error(X_test,preds)\n",
        "print(\"MSE: %f\" % (xgb_mse))"
      ],
      "execution_count": null,
      "outputs": [
        {
          "output_type": "stream",
          "text": [
            "MSE: 34.138867\n"
          ],
          "name": "stdout"
        }
      ]
    },
    {
      "cell_type": "code",
      "metadata": {
        "id": "XTwYcrXTbYoR",
        "colab_type": "code",
        "colab": {
          "base_uri": "https://localhost:8080/",
          "height": 153
        },
        "outputId": "5142f93d-c829-4e06-ed37-c083034ab7c5"
      },
      "source": [
        "# Cross Validation with XGBoost\n",
        "\n",
        "# Create the DMatrix: xgb_dmatrix\n",
        "xgb_dmatrix = xgb.DMatrix(data=X, label=y)\n",
        "\n",
        "# Create the parameter dictionary: params\n",
        "params = {\"objective\":\"reg:squarederror\", \"max_depth\":4}\n",
        "\n",
        "# Perform cross-validation: cv_results\n",
        "cv_results = xgb.cv(dtrain=xgb_dmatrix, params=params, nfold=4, num_boost_round=5, metrics='rmse', as_pandas=True, seed=123)\n",
        "\n",
        "# Print cv_results\n",
        "print(cv_results)\n",
        "\n",
        "# Extract and print final boosting round metric\n",
        "print((cv_results[\"test-rmse-mean\"]).tail(1))"
      ],
      "execution_count": null,
      "outputs": [
        {
          "output_type": "stream",
          "text": [
            "   train-rmse-mean  train-rmse-std  test-rmse-mean  test-rmse-std\n",
            "0        22.031730        0.162563       22.036907       0.509580\n",
            "1        15.750736        0.114377       15.764917       0.372458\n",
            "2        11.457997        0.080872       11.493924       0.282106\n",
            "3         8.586885        0.058762        8.651758       0.228157\n",
            "4         6.736303        0.044707        6.830037       0.186156\n",
            "4    6.830037\n",
            "Name: test-rmse-mean, dtype: float64\n"
          ],
          "name": "stdout"
        }
      ]
    },
    {
      "cell_type": "code",
      "metadata": {
        "id": "FOt-S1MQdTQi",
        "colab_type": "code",
        "colab": {
          "base_uri": "https://localhost:8080/",
          "height": 102
        },
        "outputId": "125173e0-3070-4932-c5d7-cc0fc843dc7a"
      },
      "source": [
        "# Hyperparameter tuning using RandomizedSearchCV\n",
        "\n",
        "from sklearn.model_selection import RandomizedSearchCV\n",
        "\n",
        "# Create the parameter grid: gbm_param_grid \n",
        "gbm_param_grid = {\n",
        "    'colsample_bytree': np.arange(0.2, 0.7, 0.1),\n",
        "    'learning_rate': np.arange(0.04, 1, 0.02),\n",
        "    'max_depth': np.arange(3, 10, 1),\n",
        "    'n_estimators': np.arange(50, 200, 50)\n",
        "\n",
        "}\n",
        "\n",
        "# Instantiate the regressor: gbm\n",
        "rs_gbm = xgb.XGBRegressor(objective=\"reg:squarederror\", n_estimators=10)\n",
        "\n",
        "# Perform random search: grid_mse\n",
        "randomized_mse = RandomizedSearchCV(param_distributions=gbm_param_grid, estimator=rs_gbm, scoring=\"neg_mean_squared_error\", verbose=1, n_iter=5, cv=4)\n",
        "\n",
        "\n",
        "# Fit randomized_mse to the data\n",
        "randomized_mse.fit(X,y)\n",
        "\n",
        "# Print the best parameters and lowest RMSE\n",
        "print(\"Best parameters found: \", randomized_mse.best_params_)\n",
        "print(\"Lowest RMSE found: \", np.sqrt(np.abs(randomized_mse.best_score_)))"
      ],
      "execution_count": null,
      "outputs": [
        {
          "output_type": "stream",
          "text": [
            "Fitting 4 folds for each of 5 candidates, totalling 20 fits\n"
          ],
          "name": "stdout"
        },
        {
          "output_type": "stream",
          "text": [
            "[Parallel(n_jobs=1)]: Using backend SequentialBackend with 1 concurrent workers.\n"
          ],
          "name": "stderr"
        },
        {
          "output_type": "stream",
          "text": [
            "Best parameters found:  {'n_estimators': 100, 'max_depth': 3, 'learning_rate': 0.31999999999999995, 'colsample_bytree': 0.2}\n",
            "Lowest RMSE found:  5.176408219230969\n"
          ],
          "name": "stdout"
        },
        {
          "output_type": "stream",
          "text": [
            "[Parallel(n_jobs=1)]: Done  20 out of  20 | elapsed:    2.3s finished\n"
          ],
          "name": "stderr"
        }
      ]
    },
    {
      "cell_type": "code",
      "metadata": {
        "id": "WYIr54XpdTae",
        "colab_type": "code",
        "colab": {
          "base_uri": "https://localhost:8080/",
          "height": 34
        },
        "outputId": "5d983fbf-e32b-497e-cf26-5777d38e63d6"
      },
      "source": [
        "# Create the parameter dictionary: params\n",
        "best_params = {\"objective\":\"reg:squarederror\", 'n_estimators': 100, 'max_depth': 3, 'learning_rate': 0.31999999999999995, 'colsample_bytree': 0.2 }\n",
        "\n",
        "# Train the model: xg_reg\n",
        "best_xg_reg = xgb.train(params = params, dtrain=DM_train, num_boost_round=5)\n",
        "\n",
        "# Predict the labels of the test set: preds\n",
        "best_preds = best_xg_reg.predict(DM_test)\n",
        "\n",
        "# Compute and print the RMSE\n",
        "best_xgb_mse = mean_squared_error(X_test,best_preds)\n",
        "print(\"MSE: %f\" % (best_xgb_mse))"
      ],
      "execution_count": null,
      "outputs": [
        {
          "output_type": "stream",
          "text": [
            "MSE: 33.709246\n"
          ],
          "name": "stdout"
        }
      ]
    },
    {
      "cell_type": "code",
      "metadata": {
        "id": "3gPEogmxdThu",
        "colab_type": "code",
        "colab": {
          "base_uri": "https://localhost:8080/",
          "height": 404
        },
        "outputId": "3637a21a-e0b0-452f-9dc1-ab9a49b0f29c"
      },
      "source": [
        "# Plot Best XGB Prediction for the final 43 days\n",
        "plt.figure(figsize=(12,6))\n",
        "plt.title('XGB Model Predictions')\n",
        "plt.xlabel('Days')\n",
        "plt.ylabel('XGB Predictions')\n",
        "plt.plot(best_preds[700:], c='red')\n",
        "plt.plot(X_test[700:], c='blue', alpha = 0.5)\n",
        "plt.show()"
      ],
      "execution_count": null,
      "outputs": [
        {
          "output_type": "display_data",
          "data": {
            "image/png": "[encoded data removed]",
            "text/plain": [
              "<Figure size 864x432 with 1 Axes>"
            ]
          },
          "metadata": {
            "tags": [],
            "needs_background": "light"
          }
        }
      ]
    },
    {
      "cell_type": "markdown",
      "metadata": {
        "id": "Iexbmto0fZWG",
        "colab_type": "text"
      },
      "source": [
        "## One step ahead prediction using Standard Averaging technique"
      ]
    },
    {
      "cell_type": "code",
      "metadata": {
        "id": "iLl3YpO4dTmU",
        "colab_type": "code",
        "colab": {
          "base_uri": "https://localhost:8080/",
          "height": 34
        },
        "outputId": "ca33629e-bfd0-42f5-f9b0-fe6d954afced"
      },
      "source": [
        "# One step ahead prediction using Standard Averaging technique\n",
        "\n",
        "# Define initial values and create empty arrays\n",
        "\n",
        "window_size = 50\n",
        "N = train_data.size\n",
        "\n",
        "\n",
        "std_avg_predictions = []\n",
        "std_avg_date = []\n",
        "std_mse_errors = []\n",
        "\n",
        "# Generate Predictions and append predictions, dates, and errors to correct arrays\n",
        "\n",
        "for idx in range(window_size, N):\n",
        "\n",
        "  if idx >= N:\n",
        "    date = dt.datetime.strptime(k, '%Y-%m-%d').date + dt.timedelta(days=1)\n",
        "  else:\n",
        "    date = df.loc[idx, 'Date']\n",
        "\n",
        "  std_avg_predictions.append(np.mean(train_data[idx-window_size:idx]))\n",
        "  std_mse_errors.append((std_avg_predictions[-1]-train_data[idx])**2)\n",
        "  std_avg_date.append(date)  \n",
        "\n",
        "\n",
        "# Print resulting MSE for Standard Averaging\n",
        "print('Standard Average MSE error: %.5f'%(0.5*np.mean(std_mse_errors)))"
      ],
      "execution_count": null,
      "outputs": [
        {
          "output_type": "stream",
          "text": [
            "Standard Average MSE error: 0.00410\n"
          ],
          "name": "stdout"
        }
      ]
    },
    {
      "cell_type": "code",
      "metadata": {
        "id": "O4AmEkGkdTrL",
        "colab_type": "code",
        "colab": {
          "base_uri": "https://localhost:8080/",
          "height": 388
        },
        "outputId": "6c0b3020-ff10-4883-f09e-759b1e36d3dc"
      },
      "source": [
        "# Visualize Standard Average Preduction and Actual Value on overlayed plot\n",
        "\n",
        "plt.figure(figsize=(12,6))\n",
        "plt.plot(range(df.shape[0]), all_mid_data, color='blue', label='Actual')\n",
        "plt.plot(range(window_size,N), std_avg_predictions, color = 'red', label='Predicted')\n",
        "plt.xlabel('Date')\n",
        "plt.ylabel('Mid Range Price')\n",
        "plt.legend()\n",
        "plt.show()"
      ],
      "execution_count": null,
      "outputs": [
        {
          "output_type": "display_data",
          "data": {
            "image/png": "[encoded data removed]",
            "text/plain": [
              "<Figure size 864x432 with 1 Axes>"
            ]
          },
          "metadata": {
            "tags": [],
            "needs_background": "light"
          }
        }
      ]
    },
    {
      "cell_type": "markdown",
      "metadata": {
        "id": "Xe2LbiJYfRRc",
        "colab_type": "text"
      },
      "source": [
        "## One step ahead prediction using the Exponential Moving Average"
      ]
    },
    {
      "cell_type": "code",
      "metadata": {
        "id": "hX-_P4FPdTzg",
        "colab_type": "code",
        "colab": {
          "base_uri": "https://localhost:8080/",
          "height": 34
        },
        "outputId": "49965bcc-ed40-4989-e8fb-d9015f93f672"
      },
      "source": [
        "# One step ahead prediction using the Exponential Moving Average\n",
        "\n",
        "# Define initial values and create empty arrays \n",
        "\n",
        "window_size = 50\n",
        "N = train_data.size\n",
        "\n",
        "run_avg_predictions = []\n",
        "run_avg_dates = []\n",
        "run_mse_errors = []\n",
        "\n",
        "running_mean = 0.0     # exponential moving average\n",
        "decay = 0.5            # gamma\n",
        "\n",
        "run_avg_predictions.append(running_mean)\n",
        "\n",
        "# Generate Predictions and append predictions, dates, and errors to correct arrays\n",
        "\n",
        "for ema_idx in range(1,N):\n",
        "  running_mean = running_mean*decay + (1-decay)*train_data[ema_idx-1]\n",
        "  run_avg_predictions.append(running_mean)\n",
        "  run_mse_errors.append((run_avg_predictions[-1]-train_data[ema_idx])**2)\n",
        "  run_avg_dates.append(date)\n",
        "\n",
        "\n",
        "# Print resulting MSE for Standard Averaging\n",
        "print('Standard Average MSE error: %.5f'%(0.5*np.mean(run_mse_errors)))  "
      ],
      "execution_count": null,
      "outputs": [
        {
          "output_type": "stream",
          "text": [
            "Standard Average MSE error: 0.00007\n"
          ],
          "name": "stdout"
        }
      ]
    },
    {
      "cell_type": "code",
      "metadata": {
        "id": "vop2Uar9dT7X",
        "colab_type": "code",
        "colab": {
          "base_uri": "https://localhost:8080/",
          "height": 388
        },
        "outputId": "769ece80-03f3-4908-a4d6-97686b471a5f"
      },
      "source": [
        "# Visualize Exponential Moving Average Preduction and Actual Value on overlayed plot\n",
        "\n",
        "plt.figure(figsize=(12,6))\n",
        "plt.plot(range(df.shape[0]), all_mid_data, color='blue', label='Actual')\n",
        "plt.plot(range(0,N), run_avg_predictions, color = 'red', label='Predicted')\n",
        "plt.xlabel('Date')\n",
        "plt.ylabel('Mid Range Price')\n",
        "plt.legend()\n",
        "plt.show()"
      ],
      "execution_count": null,
      "outputs": [
        {
          "output_type": "display_data",
          "data": {
            "image/png": "[encoded data removed]",
            "text/plain": [
              "<Figure size 864x432 with 1 Axes>"
            ]
          },
          "metadata": {
            "tags": [],
            "needs_background": "light"
          }
        }
      ]
    },
    {
      "cell_type": "markdown",
      "metadata": {
        "id": "RxSnnGBebZip",
        "colab_type": "text"
      },
      "source": [
        "Referrences:\n",
        "\n",
        "https://www.programmersought.com/article/5487636739/\n",
        "\n",
        "https://wingkiwong.wordpress.com/2019/01/13/long-short-term-memory-in-time-series-data/\n",
        "\n",
        "https://towardsdatascience.com/using-lstms-for-stock-market-predictions-tensorflow-9e83999d4653\n",
        "\n",
        "https://www.thepythoncode.com/article/stock-price-prediction-in-python-using-tensorflow-2-and-keras\n",
        "\n",
        "https://analyticsindiamag.com/hands-on-guide-to-lstm-recurrent-neural-network-for-stock-market-prediction/\n",
        "\n",
        "https://blog.usejournal.com/stock-market-prediction-by-recurrent-neural-network-on-lstm-model-56de700bff68\n",
        "\n",
        "https://github.com/jaungiers/LSTM-Neural-Network-for-Time-Series-Prediction\n",
        "\n",
        "http://colah.github.io/posts/2015-08-Understanding-LSTMs/\n",
        "\n"
      ]
    }
  ]
}
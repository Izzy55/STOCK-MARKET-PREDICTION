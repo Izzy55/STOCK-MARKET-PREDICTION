{
  "nbformat": 4,
  "nbformat_minor": 0,
  "metadata": {
    "colab": {
      "name": "AAPL_StockMarketPredictionNotebook.ipynb",
      "provenance": [],
      "collapsed_sections": [],
      "authorship_tag": "ABX9TyN+cgP0/GOia/1zTaLSdoz6",
      "include_colab_link": true
    },
    "kernelspec": {
      "name": "python3",
      "display_name": "Python 3"
    }
  },
  "cells": [
    {
      "cell_type": "markdown",
      "metadata": {
        "id": "view-in-github",
        "colab_type": "text"
      },
      "source": [
        "<a href=\"https://colab.research.google.com/github/Izzy55/STOCK-MARKET-PREDICTION/blob/master/AAPL_StockMarketPredictionNotebook.ipynb\" target=\"_parent\"><img src=\"https://colab.research.google.com/assets/colab-badge.svg\" alt=\"Open In Colab\"/></a>"
      ]
    },
    {
      "cell_type": "code",
      "metadata": {
        "id": "uwRjW-qRCBC2",
        "colab_type": "code",
        "colab": {
          "base_uri": "https://localhost:8080/",
          "height": 88
        },
        "outputId": "9492adc5-437f-4f3a-b308-580e8279f570"
      },
      "source": [
        "%tensorflow_version 1.x\n",
        "\n",
        "from pandas_datareader import data\n",
        "import matplotlib.pyplot as plt\n",
        "import pandas as pd\n",
        "import datetime as dt\n",
        "import urllib.request, json \n",
        "import os\n",
        "import numpy as np\n",
        "import tensorflow as tf \n",
        "from sklearn.preprocessing import MinMaxScaler"
      ],
      "execution_count": null,
      "outputs": [
        {
          "output_type": "stream",
          "text": [
            "TensorFlow 1.x selected.\n"
          ],
          "name": "stdout"
        },
        {
          "output_type": "stream",
          "text": [
            "/usr/local/lib/python3.6/dist-packages/pandas_datareader/compat/__init__.py:7: FutureWarning: pandas.util.testing is deprecated. Use the functions in the public API at pandas.testing instead.\n",
            "  from pandas.util.testing import assert_frame_equal\n"
          ],
          "name": "stderr"
        }
      ]
    },
    {
      "cell_type": "code",
      "metadata": {
        "id": "3fCyzZPJCCPC",
        "colab_type": "code",
        "colab": {
          "base_uri": "https://localhost:8080/",
          "height": 51
        },
        "outputId": "b8e30fb8-3fa6-4c09-c78c-f85a85002137"
      },
      "source": [
        "api_key = '9CU08VA5IYTPJ0CH'\n",
        "\n",
        "# ticker for stock market prices\n",
        "ticker = \"AAPL\" \n",
        "\n",
        "# JSON file with all the stock market data for AAL within the last 20 years\n",
        "url_string = \"https://www.alphavantage.co/query?function=TIME_SERIES_DAILY&symbol=%s&outputsize=full&apikey=%s\"%(ticker,api_key)\n",
        "print(url_string)\n",
        "# Save data to this file\n",
        "file_to_save = 'stock_market_data-%s.csv'%ticker\n",
        "\n",
        "# If data not already saved,\n",
        "# retrieve the data from the url\n",
        "# And store date, low, high, volume, close, open values to a Pandas dataframe\n",
        "if not os.path.exists(file_to_save):\n",
        "  with urllib.request.urlopen(url_string) as url:\n",
        "      data = json.loads(url.read().decode())\n",
        "      # extract stock market data\n",
        "      data = data['Time Series (Daily)']\n",
        "      df = pd.DataFrame(columns=['Date','Low','High','Close','Open'])\n",
        "      for k,v in data.items():\n",
        "          date = dt.datetime.strptime(k, '%Y-%m-%d')\n",
        "          data_row = [date.date(),float(v['3. low']),float(v['2. high']),\n",
        "                      float(v['4. close']),float(v['1. open'])]\n",
        "          df.loc[-1,:] = data_row\n",
        "          df.index = df.index + 1\n",
        "  print('Data saved to : %s'%file_to_save)        \n",
        "  df.to_csv(file_to_save)\n",
        "\n",
        "# If the data is already there, load it from the CSV\n",
        "else:\n",
        "  print('File already exists. Loading data from CSV')\n",
        "  df = pd.read_csv(file_to_save)\n",
        "\n"
      ],
      "execution_count": null,
      "outputs": [
        {
          "output_type": "stream",
          "text": [
            "https://www.alphavantage.co/query?function=TIME_SERIES_DAILY&symbol=AAPL&outputsize=full&apikey=9CU08VA5IYTPJ0CH\n",
            "File already exists. Loading data from CSV\n"
          ],
          "name": "stdout"
        }
      ]
    },
    {
      "cell_type": "code",
      "metadata": {
        "id": "L5L1BUtWMEQL",
        "colab_type": "code",
        "colab": {}
      },
      "source": [
        ""
      ],
      "execution_count": null,
      "outputs": []
    },
    {
      "cell_type": "code",
      "metadata": {
        "id": "jZIg6YodMEuT",
        "colab_type": "code",
        "colab": {
          "base_uri": "https://localhost:8080/",
          "height": 204
        },
        "outputId": "5349cdaf-88d7-4d5f-c9be-678e918ab471"
      },
      "source": [
        "# Sort DataFrame by date and print first 5 rows\n",
        "\n",
        "df = df.sort_values('Date')\n",
        "\n",
        "df.head()"
      ],
      "execution_count": null,
      "outputs": [
        {
          "output_type": "execute_result",
          "data": {
            "text/html": [
              "<div>\n",
              "<style scoped>\n",
              "    .dataframe tbody tr th:only-of-type {\n",
              "        vertical-align: middle;\n",
              "    }\n",
              "\n",
              "    .dataframe tbody tr th {\n",
              "        vertical-align: top;\n",
              "    }\n",
              "\n",
              "    .dataframe thead th {\n",
              "        text-align: right;\n",
              "    }\n",
              "</style>\n",
              "<table border=\"1\" class=\"dataframe\">\n",
              "  <thead>\n",
              "    <tr style=\"text-align: right;\">\n",
              "      <th></th>\n",
              "      <th>Unnamed: 0</th>\n",
              "      <th>Date</th>\n",
              "      <th>Low</th>\n",
              "      <th>High</th>\n",
              "      <th>Close</th>\n",
              "      <th>Open</th>\n",
              "    </tr>\n",
              "  </thead>\n",
              "  <tbody>\n",
              "    <tr>\n",
              "      <th>5248</th>\n",
              "      <td>0</td>\n",
              "      <td>1999-11-01</td>\n",
              "      <td>77.37</td>\n",
              "      <td>80.69</td>\n",
              "      <td>77.62</td>\n",
              "      <td>80.00</td>\n",
              "    </tr>\n",
              "    <tr>\n",
              "      <th>5247</th>\n",
              "      <td>1</td>\n",
              "      <td>1999-11-02</td>\n",
              "      <td>77.31</td>\n",
              "      <td>81.69</td>\n",
              "      <td>80.25</td>\n",
              "      <td>78.00</td>\n",
              "    </tr>\n",
              "    <tr>\n",
              "      <th>5246</th>\n",
              "      <td>2</td>\n",
              "      <td>1999-11-03</td>\n",
              "      <td>81.00</td>\n",
              "      <td>83.25</td>\n",
              "      <td>81.50</td>\n",
              "      <td>81.62</td>\n",
              "    </tr>\n",
              "    <tr>\n",
              "      <th>5245</th>\n",
              "      <td>3</td>\n",
              "      <td>1999-11-04</td>\n",
              "      <td>80.62</td>\n",
              "      <td>85.37</td>\n",
              "      <td>83.62</td>\n",
              "      <td>82.06</td>\n",
              "    </tr>\n",
              "    <tr>\n",
              "      <th>5244</th>\n",
              "      <td>4</td>\n",
              "      <td>1999-11-05</td>\n",
              "      <td>84.00</td>\n",
              "      <td>88.37</td>\n",
              "      <td>88.31</td>\n",
              "      <td>84.62</td>\n",
              "    </tr>\n",
              "  </tbody>\n",
              "</table>\n",
              "</div>"
            ],
            "text/plain": [
              "      Unnamed: 0        Date    Low   High  Close   Open\n",
              "5248           0  1999-11-01  77.37  80.69  77.62  80.00\n",
              "5247           1  1999-11-02  77.31  81.69  80.25  78.00\n",
              "5246           2  1999-11-03  81.00  83.25  81.50  81.62\n",
              "5245           3  1999-11-04  80.62  85.37  83.62  82.06\n",
              "5244           4  1999-11-05  84.00  88.37  88.31  84.62"
            ]
          },
          "metadata": {
            "tags": []
          },
          "execution_count": 3
        }
      ]
    },
    {
      "cell_type": "code",
      "metadata": {
        "id": "fDf0Os2rME54",
        "colab_type": "code",
        "colab": {
          "base_uri": "https://localhost:8080/",
          "height": 34
        },
        "outputId": "0cd50976-bfc4-4e1b-c56f-c05216c7b751"
      },
      "source": [
        "#Look at Shape\n",
        "\n",
        "df.shape"
      ],
      "execution_count": null,
      "outputs": [
        {
          "output_type": "execute_result",
          "data": {
            "text/plain": [
              "(5249, 6)"
            ]
          },
          "metadata": {
            "tags": []
          },
          "execution_count": 4
        }
      ]
    },
    {
      "cell_type": "code",
      "metadata": {
        "id": "E_VuV-BMMFER",
        "colab_type": "code",
        "colab": {
          "base_uri": "https://localhost:8080/",
          "height": 390
        },
        "outputId": "4951da87-dbdc-468b-c3aa-dd96df1ba25d"
      },
      "source": [
        "#General Summary\n",
        "\n",
        "df.describe(include='all')"
      ],
      "execution_count": null,
      "outputs": [
        {
          "output_type": "execute_result",
          "data": {
            "text/html": [
              "<div>\n",
              "<style scoped>\n",
              "    .dataframe tbody tr th:only-of-type {\n",
              "        vertical-align: middle;\n",
              "    }\n",
              "\n",
              "    .dataframe tbody tr th {\n",
              "        vertical-align: top;\n",
              "    }\n",
              "\n",
              "    .dataframe thead th {\n",
              "        text-align: right;\n",
              "    }\n",
              "</style>\n",
              "<table border=\"1\" class=\"dataframe\">\n",
              "  <thead>\n",
              "    <tr style=\"text-align: right;\">\n",
              "      <th></th>\n",
              "      <th>Unnamed: 0</th>\n",
              "      <th>Date</th>\n",
              "      <th>Low</th>\n",
              "      <th>High</th>\n",
              "      <th>Close</th>\n",
              "      <th>Open</th>\n",
              "    </tr>\n",
              "  </thead>\n",
              "  <tbody>\n",
              "    <tr>\n",
              "      <th>count</th>\n",
              "      <td>5249.000000</td>\n",
              "      <td>5249</td>\n",
              "      <td>5249.000000</td>\n",
              "      <td>5249.000000</td>\n",
              "      <td>5249.000000</td>\n",
              "      <td>5249.000000</td>\n",
              "    </tr>\n",
              "    <tr>\n",
              "      <th>unique</th>\n",
              "      <td>NaN</td>\n",
              "      <td>5249</td>\n",
              "      <td>NaN</td>\n",
              "      <td>NaN</td>\n",
              "      <td>NaN</td>\n",
              "      <td>NaN</td>\n",
              "    </tr>\n",
              "    <tr>\n",
              "      <th>top</th>\n",
              "      <td>NaN</td>\n",
              "      <td>2001-02-15</td>\n",
              "      <td>NaN</td>\n",
              "      <td>NaN</td>\n",
              "      <td>NaN</td>\n",
              "      <td>NaN</td>\n",
              "    </tr>\n",
              "    <tr>\n",
              "      <th>freq</th>\n",
              "      <td>NaN</td>\n",
              "      <td>1</td>\n",
              "      <td>NaN</td>\n",
              "      <td>NaN</td>\n",
              "      <td>NaN</td>\n",
              "      <td>NaN</td>\n",
              "    </tr>\n",
              "    <tr>\n",
              "      <th>mean</th>\n",
              "      <td>2624.000000</td>\n",
              "      <td>NaN</td>\n",
              "      <td>174.592558</td>\n",
              "      <td>178.655746</td>\n",
              "      <td>176.680097</td>\n",
              "      <td>176.693713</td>\n",
              "    </tr>\n",
              "    <tr>\n",
              "      <th>std</th>\n",
              "      <td>1515.400112</td>\n",
              "      <td>NaN</td>\n",
              "      <td>158.800792</td>\n",
              "      <td>161.665844</td>\n",
              "      <td>160.272039</td>\n",
              "      <td>160.340580</td>\n",
              "    </tr>\n",
              "    <tr>\n",
              "      <th>min</th>\n",
              "      <td>0.000000</td>\n",
              "      <td>NaN</td>\n",
              "      <td>12.720000</td>\n",
              "      <td>13.190000</td>\n",
              "      <td>13.120000</td>\n",
              "      <td>12.990000</td>\n",
              "    </tr>\n",
              "    <tr>\n",
              "      <th>25%</th>\n",
              "      <td>1312.000000</td>\n",
              "      <td>NaN</td>\n",
              "      <td>58.700000</td>\n",
              "      <td>61.200000</td>\n",
              "      <td>59.960000</td>\n",
              "      <td>59.850000</td>\n",
              "    </tr>\n",
              "    <tr>\n",
              "      <th>50%</th>\n",
              "      <td>2624.000000</td>\n",
              "      <td>NaN</td>\n",
              "      <td>121.600000</td>\n",
              "      <td>125.395100</td>\n",
              "      <td>123.660000</td>\n",
              "      <td>123.690000</td>\n",
              "    </tr>\n",
              "    <tr>\n",
              "      <th>75%</th>\n",
              "      <td>3936.000000</td>\n",
              "      <td>NaN</td>\n",
              "      <td>220.370000</td>\n",
              "      <td>225.370000</td>\n",
              "      <td>223.840000</td>\n",
              "      <td>223.640000</td>\n",
              "    </tr>\n",
              "    <tr>\n",
              "      <th>max</th>\n",
              "      <td>5248.000000</td>\n",
              "      <td>NaN</td>\n",
              "      <td>699.570000</td>\n",
              "      <td>705.070000</td>\n",
              "      <td>702.100000</td>\n",
              "      <td>702.410000</td>\n",
              "    </tr>\n",
              "  </tbody>\n",
              "</table>\n",
              "</div>"
            ],
            "text/plain": [
              "         Unnamed: 0        Date  ...        Close         Open\n",
              "count   5249.000000        5249  ...  5249.000000  5249.000000\n",
              "unique          NaN        5249  ...          NaN          NaN\n",
              "top             NaN  2001-02-15  ...          NaN          NaN\n",
              "freq            NaN           1  ...          NaN          NaN\n",
              "mean    2624.000000         NaN  ...   176.680097   176.693713\n",
              "std     1515.400112         NaN  ...   160.272039   160.340580\n",
              "min        0.000000         NaN  ...    13.120000    12.990000\n",
              "25%     1312.000000         NaN  ...    59.960000    59.850000\n",
              "50%     2624.000000         NaN  ...   123.660000   123.690000\n",
              "75%     3936.000000         NaN  ...   223.840000   223.640000\n",
              "max     5248.000000         NaN  ...   702.100000   702.410000\n",
              "\n",
              "[11 rows x 6 columns]"
            ]
          },
          "metadata": {
            "tags": []
          },
          "execution_count": 5
        }
      ]
    },
    {
      "cell_type": "code",
      "metadata": {
        "id": "E_QfiCHUNDMD",
        "colab_type": "code",
        "colab": {
          "base_uri": "https://localhost:8080/",
          "height": 238
        },
        "outputId": "c8828fc4-d98b-4363-b83e-61b2c163a80e"
      },
      "source": [
        "#column summaries\n",
        "\n",
        "df.info()"
      ],
      "execution_count": null,
      "outputs": [
        {
          "output_type": "stream",
          "text": [
            "<class 'pandas.core.frame.DataFrame'>\n",
            "Int64Index: 5249 entries, 5248 to 0\n",
            "Data columns (total 6 columns):\n",
            " #   Column      Non-Null Count  Dtype  \n",
            "---  ------      --------------  -----  \n",
            " 0   Unnamed: 0  5249 non-null   int64  \n",
            " 1   Date        5249 non-null   object \n",
            " 2   Low         5249 non-null   float64\n",
            " 3   High        5249 non-null   float64\n",
            " 4   Close       5249 non-null   float64\n",
            " 5   Open        5249 non-null   float64\n",
            "dtypes: float64(4), int64(1), object(1)\n",
            "memory usage: 287.1+ KB\n"
          ],
          "name": "stdout"
        }
      ]
    },
    {
      "cell_type": "code",
      "metadata": {
        "id": "RYFyDGjGNDaC",
        "colab_type": "code",
        "colab": {}
      },
      "source": [
        ""
      ],
      "execution_count": null,
      "outputs": []
    },
    {
      "cell_type": "code",
      "metadata": {
        "id": "HS3M76OmNDjQ",
        "colab_type": "code",
        "colab": {
          "base_uri": "https://localhost:8080/",
          "height": 451
        },
        "outputId": "ce4815bf-1d20-4139-b038-f9dcf8987da9"
      },
      "source": [
        "#Plot Visualization\n",
        "\n",
        "plt.figure(figsize = (12,6))\n",
        "plt.plot(range(df.shape[0]),(df['Low']+df['High'])/2.0)\n",
        "plt.xticks(range(0,df.shape[0],500),df['Date'].loc[::500],rotation=45)\n",
        "plt.xlabel('Date',fontsize=18)\n",
        "plt.ylabel('Mid Price',fontsize=18)"
      ],
      "execution_count": null,
      "outputs": [
        {
          "output_type": "execute_result",
          "data": {
            "text/plain": [
              "Text(0, 0.5, 'Mid Price')"
            ]
          },
          "metadata": {
            "tags": []
          },
          "execution_count": 7
        },
        {
          "output_type": "display_data",
          "data": {
            "image/png": "[encoded data removed]",
            "text/plain": [
              "<Figure size 864x432 with 1 Axes>"
            ]
          },
          "metadata": {
            "tags": [],
            "needs_background": "light"
          }
        }
      ]
    },
    {
      "cell_type": "code",
      "metadata": {
        "id": "puO36qYeNDry",
        "colab_type": "code",
        "colab": {}
      },
      "source": [
        ""
      ],
      "execution_count": null,
      "outputs": []
    },
    {
      "cell_type": "markdown",
      "metadata": {
        "id": "b1ZdXzGO2sTr",
        "colab_type": "text"
      },
      "source": [
        "Now we have to devide the data into test and train set and standardize the data for training"
      ]
    },
    {
      "cell_type": "code",
      "metadata": {
        "id": "WIL1ZjKW2wBe",
        "colab_type": "code",
        "colab": {
          "base_uri": "https://localhost:8080/",
          "height": 136
        },
        "outputId": "f08b8e9f-cff5-45e4-f7f4-be851be69b94"
      },
      "source": [
        "df.count()"
      ],
      "execution_count": null,
      "outputs": [
        {
          "output_type": "execute_result",
          "data": {
            "text/plain": [
              "Unnamed: 0    5249\n",
              "Date          5249\n",
              "Low           5249\n",
              "High          5249\n",
              "Close         5249\n",
              "Open          5249\n",
              "dtype: int64"
            ]
          },
          "metadata": {
            "tags": []
          },
          "execution_count": 8
        }
      ]
    },
    {
      "cell_type": "code",
      "metadata": {
        "id": "RPfYox9520st",
        "colab_type": "code",
        "colab": {}
      },
      "source": [
        "train_test_split_i = 4550\n",
        "high_prices = df['High'].to_numpy()\n",
        "low_prices = df['Low'].to_numpy()\n",
        "mid_prices = (high_prices+low_prices)/2.0"
      ],
      "execution_count": null,
      "outputs": []
    },
    {
      "cell_type": "code",
      "metadata": {
        "id": "6PccNs9ru_4s",
        "colab_type": "code",
        "colab": {}
      },
      "source": [
        "# Split data training vs testing\n",
        "train_data = mid_prices[:train_test_split_i]\n",
        "test_data = mid_prices[train_test_split_i:]"
      ],
      "execution_count": null,
      "outputs": []
    },
    {
      "cell_type": "code",
      "metadata": {
        "id": "Nwfamds6vADY",
        "colab_type": "code",
        "colab": {}
      },
      "source": [
        "# Normalize data\n",
        "scaler = MinMaxScaler()\n",
        "train_data = train_data.reshape(-1,1)\n",
        "test_data = test_data.reshape(-1,1)"
      ],
      "execution_count": null,
      "outputs": []
    },
    {
      "cell_type": "code",
      "metadata": {
        "id": "o73MwbDBvAHZ",
        "colab_type": "code",
        "colab": {}
      },
      "source": [
        "# Smoothing\n",
        "smoothing_window_size = 900\n",
        "for di in range(0, 4500, smoothing_window_size):\n",
        "    scaler.fit(train_data[di:di+smoothing_window_size,:])\n",
        "    train_data[di:di+smoothing_window_size,:]=scaler.transform(train_data[di:di+smoothing_window_size,:])\n",
        "scaler.fit(train_data[di+smoothing_window_size:,:])\n",
        "train_data[di+smoothing_window_size:,:] = scaler.transform(train_data[di+smoothing_window_size:,:])"
      ],
      "execution_count": null,
      "outputs": []
    },
    {
      "cell_type": "code",
      "metadata": {
        "id": "7njljSgRvAMM",
        "colab_type": "code",
        "colab": {}
      },
      "source": [
        "# Reshape data\n",
        "train_data = train_data.reshape(-1)"
      ],
      "execution_count": null,
      "outputs": []
    },
    {
      "cell_type": "code",
      "metadata": {
        "id": "DCCU2CQLvAPX",
        "colab_type": "code",
        "colab": {}
      },
      "source": [
        "# Normalize test data\n",
        "test_data = scaler.transform(test_data).reshape(-1)"
      ],
      "execution_count": null,
      "outputs": []
    },
    {
      "cell_type": "code",
      "metadata": {
        "id": "GS2bH0-DvASq",
        "colab_type": "code",
        "colab": {}
      },
      "source": [
        "# EMA\n",
        "EMA = 0.0\n",
        "gamma = 0.1\n",
        "for ti in range(train_test_split_i):\n",
        "    EMA = gamma*train_data[ti] + (1-gamma)*EMA\n",
        "    train_data[ti] = EMA\n",
        "all_mid_data = np.concatenate([train_data,test_data],axis=0)"
      ],
      "execution_count": null,
      "outputs": []
    },
    {
      "cell_type": "code",
      "metadata": {
        "id": "F9tlI7P2vAWY",
        "colab_type": "code",
        "colab": {}
      },
      "source": [
        "# Long Short-Term Memory models\n",
        "class DataGeneratorSeq(object):\n",
        "    def __init__(self, prices, batch_size, num_unroll):\n",
        "        self._prices = prices\n",
        "        self._prices_length = len(self._prices)-num_unroll\n",
        "        self._batch_size = batch_size\n",
        "        self._num_unroll = num_unroll\n",
        "        self._segments = self._prices_length//self._batch_size\n",
        "        self._cursor = [offset * self._segments for offset in range(self._batch_size)]\n",
        "         \n",
        "    def next_batch(self):\n",
        "        batch_data = np.zeros((self._batch_size),dtype=np.float32)\n",
        "        batch_labels = np.zeros((self._batch_size),dtype=np.float32)\n",
        "         \n",
        "        for b in range(self._batch_size):\n",
        "            if self._cursor[b]+1>=self._prices_length:\n",
        "                self._cursor[b] = np.random.randint(0,(b+1)*self._segments)\n",
        "            batch_data[b] = self._prices[self._cursor[b]]\n",
        "            batch_labels[b] = self._prices[self._cursor[b]+np.random.randint(0,5)]\n",
        "            self._cursor[b] = (self._cursor[b]+1)%self._prices_length\n",
        "        return batch_data, batch_labels\n",
        "     \n",
        "    def unroll_batches(self):\n",
        "        unroll_data, unroll_labels = [], []\n",
        "        init_data, init_label = None, None\n",
        "        for ui in range(self._num_unroll):\n",
        "            data, labels = self.next_batch()\n",
        "            unroll_data.append(data)\n",
        "            unroll_labels.append(labels)\n",
        "        return unroll_data, unroll_labels\n",
        "    def reset_indices(self):\n",
        "        for b in range(self._batch_size):\n",
        "            self._cursor[b] = np.random.randint(0,min((b+1)*self._segments,self._prices_length-1))"
      ],
      "execution_count": null,
      "outputs": []
    },
    {
      "cell_type": "code",
      "metadata": {
        "id": "iwauParyvYx3",
        "colab_type": "code",
        "colab": {}
      },
      "source": [
        "dg = DataGeneratorSeq(train_data,5,5)\n",
        "u_data, u_labels = dg.unroll_batches()"
      ],
      "execution_count": null,
      "outputs": []
    },
    {
      "cell_type": "code",
      "metadata": {
        "id": "af0taJ8XvY3Q",
        "colab_type": "code",
        "colab": {
          "base_uri": "https://localhost:8080/",
          "height": 357
        },
        "outputId": "cb4465a9-76f2-41df-abbe-024fb658206f"
      },
      "source": [
        "for ui, (dat,lbl) in enumerate(zip(u_data,u_labels)):\n",
        "    print('\\nUnrolled index %d' %ui)\n",
        "    print('\\tInputs: ', dat)\n",
        "    print('\\tOutputs: ', lbl)"
      ],
      "execution_count": null,
      "outputs": [
        {
          "output_type": "stream",
          "text": [
            "\n",
            "Unrolled index 0\n",
            "\tInputs:  [0.04995651 0.01838971 0.16313984 0.06766853 0.781181  ]\n",
            "\tOutputs:  [0.17719448 0.02267178 0.12673196 0.06335865 0.7811992 ]\n",
            "\n",
            "Unrolled index 1\n",
            "\tInputs:  [0.09527287 0.01929546 0.14991714 0.06496208 0.7807593 ]\n",
            "\tOutputs:  [0.21484359 0.0235498  0.10742117 0.06496208 0.7820845 ]\n",
            "\n",
            "Unrolled index 2\n",
            "\tInputs:  [0.13804315 0.02050445 0.13790318 0.06335865 0.7811992 ]\n",
            "\tOutputs:  [0.2533078  0.02165918 0.10742117 0.06130918 0.7890829 ]\n",
            "\n",
            "Unrolled index 3\n",
            "\tInputs:  [0.17719448 0.02165918 0.12673196 0.06255794 0.7817948 ]\n",
            "\tOutputs:  [0.31723142 0.02267178 0.09899365 0.06166131 0.79584944]\n",
            "\n",
            "Unrolled index 4\n",
            "\tInputs:  [0.21484359 0.02267178 0.11684815 0.06145512 0.7820845 ]\n",
            "\tOutputs:  [0.34470424 0.02463674 0.11684815 0.06145512 0.79584944]\n"
          ],
          "name": "stdout"
        }
      ]
    },
    {
      "cell_type": "code",
      "metadata": {
        "id": "dYPg9lbGvY7A",
        "colab_type": "code",
        "colab": {}
      },
      "source": [
        "D = 1 # Dimensionality of the data\n",
        "num_unrollings = 50 # Number of time steps into the future\n",
        "batch_size = 500 # Number of samples in a batch\n",
        "num_nodes = [200, 200, 150] # Number of hidden nodes in each layer of the deep LSTM stack\n",
        "n_layers = len(num_nodes) # Number of layers\n",
        "dropout = 0.2 # Dropout amount"
      ],
      "execution_count": null,
      "outputs": []
    },
    {
      "cell_type": "code",
      "metadata": {
        "id": "KWCplwdVvY-M",
        "colab_type": "code",
        "colab": {}
      },
      "source": [
        "# Reinitialize\n",
        "tf.reset_default_graph()"
      ],
      "execution_count": null,
      "outputs": []
    },
    {
      "cell_type": "code",
      "metadata": {
        "id": "7812TwWNvZB4",
        "colab_type": "code",
        "colab": {}
      },
      "source": [
        "# Inputs\n",
        "train_inputs = [tf.placeholder(tf.float32, shape=[batch_size,D],name='train_inputs_%d'%ui) for ui in range(num_unrollings)]\n",
        "train_outputs = [tf.placeholder(tf.float32, shape=[batch_size,1], name = 'train_outputs_%d'%ui) for ui in range(num_unrollings)]"
      ],
      "execution_count": null,
      "outputs": []
    },
    {
      "cell_type": "code",
      "metadata": {
        "id": "GtcsZSCPvZFM",
        "colab_type": "code",
        "colab": {
          "base_uri": "https://localhost:8080/",
          "height": 275
        },
        "outputId": "ccd9adba-55dc-44c5-9109-37f847ddfb52"
      },
      "source": [
        "# Set up the LSTM and Regression layers\n",
        "lstm_cells = [\n",
        "    tf.contrib.rnn.LSTMCell(num_units=num_nodes[li],\n",
        "                           state_is_tuple=True,\n",
        "                           initializer=tf.contrib.layers.xavier_initializer())\n",
        "    for li in range(n_layers)]\n",
        " \n",
        "drop_lstm_cells = [\n",
        "    tf.contrib.rnn.DropoutWrapper(lstm, input_keep_prob=1.0,\n",
        "                                 output_keep_prob=1.0-dropout,\n",
        "                                 state_keep_prob=1.0-dropout)\n",
        "    for lstm in lstm_cells]\n",
        "drop_multi_cell = tf.contrib.rnn.MultiRNNCell(drop_lstm_cells)\n",
        "multi_cell = tf.contrib.rnn.MultiRNNCell(lstm_cells)"
      ],
      "execution_count": null,
      "outputs": [
        {
          "output_type": "stream",
          "text": [
            "WARNING:tensorflow:\n",
            "The TensorFlow contrib module will not be included in TensorFlow 2.0.\n",
            "For more information, please see:\n",
            "  * https://github.com/tensorflow/community/blob/master/rfcs/20180907-contrib-sunset.md\n",
            "  * https://github.com/tensorflow/addons\n",
            "  * https://github.com/tensorflow/io (for I/O related ops)\n",
            "If you depend on functionality not listed there, please file an issue.\n",
            "\n",
            "WARNING:tensorflow:From <ipython-input-22-fb89578c81ad>:6: LSTMCell.__init__ (from tensorflow.python.ops.rnn_cell_impl) is deprecated and will be removed in a future version.\n",
            "Instructions for updating:\n",
            "This class is equivalent as tf.keras.layers.LSTMCell, and will be replaced by that in Tensorflow 2.0.\n",
            "WARNING:tensorflow:From <ipython-input-22-fb89578c81ad>:13: MultiRNNCell.__init__ (from tensorflow.python.ops.rnn_cell_impl) is deprecated and will be removed in a future version.\n",
            "Instructions for updating:\n",
            "This class is equivalent as tf.keras.layers.StackedRNNCells, and will be replaced by that in Tensorflow 2.0.\n"
          ],
          "name": "stdout"
        }
      ]
    },
    {
      "cell_type": "code",
      "metadata": {
        "id": "iXvkwfUUvZIe",
        "colab_type": "code",
        "colab": {}
      },
      "source": [
        "# LSTM layers\n",
        "w = tf.get_variable('w',shape=[num_nodes[-1],1],\n",
        "                   initializer=tf.contrib.layers.xavier_initializer())\n",
        "# Linear regression layer\n",
        "b = tf.get_variable('b',initializer=tf.random_uniform([1],-0.1,0.1))\n",
        " \n",
        "# Cell state and hidden state\n",
        "c = [tf.Variable(tf.zeros([batch_size, num_nodes[li]]), trainable=False) for li in range(n_layers)]\n",
        "h = [tf.Variable(tf.zeros([batch_size, num_nodes[li]]), trainable=False) for li in range(n_layers)]\n",
        "initial_state = [tf.contrib.rnn.LSTMStateTuple(c[li], h[li]) for li in range(n_layers)]"
      ],
      "execution_count": null,
      "outputs": []
    },
    {
      "cell_type": "code",
      "metadata": {
        "id": "Hxbmd8sbvZLb",
        "colab_type": "code",
        "colab": {
          "base_uri": "https://localhost:8080/",
          "height": 190
        },
        "outputId": "88cbf666-53ab-4512-a2e9-f16dfabee9a2"
      },
      "source": [
        "# Formatting\n",
        "all_inputs = tf.concat([tf.expand_dims(t,0) for t in train_inputs], axis=0)\n",
        "all_lstm_outputs, state = tf.nn.dynamic_rnn(\n",
        "    drop_multi_cell, all_inputs, initial_state=tuple(initial_state),\n",
        "    time_major=True, dtype=tf.float32)\n",
        "all_lstm_outputs = tf.reshape(all_lstm_outputs, [batch_size*num_unrollings, num_nodes[-1]])\n",
        " \n",
        "all_outputs = tf.nn.xw_plus_b(all_lstm_outputs, w, b)\n",
        "split_outputs = tf.split(all_outputs,num_unrollings, axis=0)"
      ],
      "execution_count": null,
      "outputs": [
        {
          "output_type": "stream",
          "text": [
            "WARNING:tensorflow:From <ipython-input-24-7d3786cefeb0>:5: dynamic_rnn (from tensorflow.python.ops.rnn) is deprecated and will be removed in a future version.\n",
            "Instructions for updating:\n",
            "Please use `keras.layers.RNN(cell)`, which is equivalent to this API\n",
            "WARNING:tensorflow:From /tensorflow-1.15.2/python3.6/tensorflow_core/python/ops/rnn_cell_impl.py:958: Layer.add_variable (from tensorflow.python.keras.engine.base_layer) is deprecated and will be removed in a future version.\n",
            "Instructions for updating:\n",
            "Please use `layer.add_weight` method instead.\n",
            "WARNING:tensorflow:From /tensorflow-1.15.2/python3.6/tensorflow_core/python/ops/rnn_cell_impl.py:962: calling Zeros.__init__ (from tensorflow.python.ops.init_ops) with dtype is deprecated and will be removed in a future version.\n",
            "Instructions for updating:\n",
            "Call initializer instance with the dtype argument instead of passing it to the constructor\n"
          ],
          "name": "stdout"
        }
      ]
    },
    {
      "cell_type": "code",
      "metadata": {
        "id": "DIjgC7MZwIA1",
        "colab_type": "code",
        "colab": {}
      },
      "source": [
        "# Training loss\n",
        "# Mean Squared Error (MSE)\n",
        "loss = 0.0\n",
        "with tf.control_dependencies([tf.assign(c[li],state[li][0]) for li in range(n_layers)]+\n",
        "                            [tf.assign(h[li],state[li][1]) for li in range(n_layers)]):\n",
        "    loss += sum([tf.reduce_mean(0.5*(split_outputs[ui]-train_outputs[ui])**2) for ui in range(num_unrollings)])\n",
        " \n",
        "global_step = tf.Variable(0, trainable=False)\n",
        "inc_gstep = tf.assign(global_step, global_step+1)\n",
        "tf_learning_rate = tf.placeholder(shape=None, dtype=tf.float32)\n",
        "tf_min_learning_rate = tf.placeholder(shape=None, dtype=tf.float32)\n",
        " \n",
        "learning_rate = tf.maximum(\n",
        "    tf.train.exponential_decay(tf_learning_rate,global_step,\n",
        "                               decay_steps=1, decay_rate=0.5,\n",
        "                              staircase=True),\n",
        "    tf_min_learning_rate)"
      ],
      "execution_count": null,
      "outputs": []
    },
    {
      "cell_type": "code",
      "metadata": {
        "id": "KaRUFzS9wIEI",
        "colab_type": "code",
        "colab": {
          "base_uri": "https://localhost:8080/",
          "height": 88
        },
        "outputId": "1ec44ee7-134f-437b-de19-b9c3715322d6"
      },
      "source": [
        "# Optimizer\n",
        "optimizer = tf.train.AdamOptimizer(learning_rate)\n",
        "gradients, v = zip(*optimizer.compute_gradients(loss))\n",
        "gradients, _ = tf.clip_by_global_norm(gradients, 5.0)\n",
        "optimizer = optimizer.apply_gradients(zip(gradients,v))"
      ],
      "execution_count": null,
      "outputs": [
        {
          "output_type": "stream",
          "text": [
            "WARNING:tensorflow:From /tensorflow-1.15.2/python3.6/tensorflow_core/python/ops/math_grad.py:1375: where (from tensorflow.python.ops.array_ops) is deprecated and will be removed in a future version.\n",
            "Instructions for updating:\n",
            "Use tf.where in 2.0, which has the same broadcast rule as np.where\n"
          ],
          "name": "stdout"
        }
      ]
    },
    {
      "cell_type": "code",
      "metadata": {
        "id": "ra305YbpwIHh",
        "colab_type": "code",
        "colab": {}
      },
      "source": [
        "# Defining prediction related TF calculations\n",
        "sample_inputs = tf.placeholder(tf.float32, shape=[1,D])\n",
        "sample_c = [tf.Variable(tf.zeros([1, num_nodes[li]]), trainable=False) for li in range(n_layers)]\n",
        "sample_h = [tf.Variable(tf.zeros([1, num_nodes[li]]), trainable=False) for li in range(n_layers)]\n",
        "initial_sample_state = [tf.contrib.rnn.LSTMStateTuple(sample_c[li],sample_h[li]) for li in range(n_layers)]\n",
        " \n",
        "reset_sample_states = tf.group(*[[tf.assign(sample_c[li],tf.zeros([1, num_nodes[li]])) for li in range(n_layers)]+\n",
        "                               [tf.assign(sample_h[li],tf.zeros([1, num_nodes[li]])) for li in range(n_layers)]])\n",
        "sample_outputs, sample_state = tf.nn.dynamic_rnn(multi_cell, tf.expand_dims(sample_inputs,0),\n",
        "                                                initial_state=tuple(initial_sample_state),\n",
        "                                                time_major=True,\n",
        "                                                dtype=tf.float32)\n",
        "with tf.control_dependencies([tf.assign(sample_c[li],sample_state[li][0]) for li in range(n_layers)]+\n",
        "                            [tf.assign(sample_h[li], sample_state[li][1]) for li in range(n_layers)]):\n",
        "    sample_prediction = tf.nn.xw_plus_b(tf.reshape(sample_outputs,[1,-1]),w,b)"
      ],
      "execution_count": null,
      "outputs": []
    },
    {
      "cell_type": "code",
      "metadata": {
        "id": "ARqdI4NnwINW",
        "colab_type": "code",
        "colab": {
          "base_uri": "https://localhost:8080/",
          "height": 71
        },
        "outputId": "779c6269-412d-4e57-c24d-1b3d946dfd67"
      },
      "source": [
        "# Initialise before Running\n",
        "epochs = 30\n",
        "valid_summary = 1\n",
        "n_predict_once = 50\n",
        "train_seq_length = train_data.size\n",
        "train_mse_ot = []\n",
        "test_mse_ot = []\n",
        "predictions_over_time = []\n",
        " \n",
        "session = tf.InteractiveSession()\n",
        "tf.global_variables_initializer().run()\n",
        "loss_nondecrease_count = 0\n",
        "loss_nondecrease_threshold = 2\n",
        "average_loss = 0\n",
        " \n",
        "data_gen = DataGeneratorSeq(train_data,batch_size,num_unrollings)\n",
        "x_axis_seq = []\n",
        "test_points_seq = np.arange(train_test_split_i,train_test_split_i+650,n_predict_once).tolist()"
      ],
      "execution_count": null,
      "outputs": [
        {
          "output_type": "stream",
          "text": [
            "/tensorflow-1.15.2/python3.6/tensorflow_core/python/client/session.py:1750: UserWarning: An interactive session is already active. This can cause out-of-memory errors in some cases. You must explicitly call `InteractiveSession.close()` to release resources held by the other session(s).\n",
            "  warnings.warn('An interactive session is already active. This can '\n"
          ],
          "name": "stderr"
        }
      ]
    },
    {
      "cell_type": "code",
      "metadata": {
        "id": "j5czSeTewITW",
        "colab_type": "code",
        "colab": {
          "base_uri": "https://localhost:8080/",
          "height": 1000
        },
        "outputId": "1289a9bd-7602-4bf6-c0a8-2197ae6fd4e3"
      },
      "source": [
        "for ep in range(epochs):\n",
        "    # =================== Training =======================\n",
        "    for step in range(train_seq_length//batch_size):\n",
        "        u_data, u_labels = data_gen.unroll_batches()\n",
        "        feed_dict = {}\n",
        "        for ui, (dat,lbl) in enumerate(zip(u_data,u_labels)):\n",
        "            feed_dict[train_inputs[ui]] = dat.reshape(-1,1)\n",
        "            feed_dict[train_outputs[ui]] = lbl.reshape(-1,1)\n",
        "        feed_dict.update({tf_learning_rate: 0.0001, tf_min_learning_rate:0.000001})\n",
        "        _, l = session.run([optimizer, loss], feed_dict=feed_dict)\n",
        "        average_loss += l\n",
        "    # =================== Validation =======================\n",
        "    if (ep+1) % valid_summary == 0:\n",
        "        average_loss = average_loss/(valid_summary*(train_seq_length//batch_size))\n",
        "        if (ep+1)%valid_summary==0:\n",
        "            print('Average loss at step %d: %f' %(ep+1, average_loss))\n",
        "        train_mse_ot.append(average_loss)\n",
        "        average_loss = 0\n",
        "        predictions_seq, mse_test_loss_seq = [], []\n",
        "    # =================== Update and make prediction =======================\n",
        "    for w_i in test_points_seq:\n",
        "        mse_test_loss = 0.0\n",
        "        our_predictions = []\n",
        "        if (ep+1)-valid_summary==0:\n",
        "            x_axis=[]\n",
        "        for tr_i in range(w_i-num_unrollings+1, w_i-1):\n",
        "            current_price = all_mid_data[tr_i]\n",
        "            feed_dict[sample_inputs] = np.array(current_price).reshape(1,1)\n",
        "            _ = session.run(sample_prediction, feed_dict=feed_dict)\n",
        "         \n",
        "        feed_dict = {}\n",
        "        current_price = all_mid_data[w_i-1]\n",
        "        feed_dict[sample_inputs] = np.array(current_price).reshape(1,1)\n",
        "        for pred_i in range(n_predict_once):\n",
        "            pred = session.run(sample_prediction, feed_dict=feed_dict)\n",
        "            our_predictions.append(np.asscalar(pred))\n",
        "            feed_dict[sample_inputs] = np.asarray(pred).reshape(-1,1)\n",
        "            if (ep+1)-valid_summary==0:\n",
        "                x_axis.append(w_i+pred_i)\n",
        "            mse_test_loss += 0.5 *(pred-all_mid_data[w_i+pred_i])**2\n",
        "        session.run(reset_sample_states)\n",
        "        predictions_seq.append(np.array(our_predictions))\n",
        "        mse_test_loss/=n_predict_once\n",
        "        mse_test_loss_seq.append(mse_test_loss)\n",
        "        if (ep+1)-valid_summary==0:\n",
        "            x_axis_seq.append(x_axis)\n",
        "    current_test_mse = np.mean(mse_test_loss_seq)\n",
        "     \n",
        "    # learning rate decay logic\n",
        "    if len(test_mse_ot)>0 and current_test_mse>min(test_mse_ot):\n",
        "        loss_nondecrease_count += 1\n",
        "    else:\n",
        "        loss_nondecrease_count = 0\n",
        "     \n",
        "    if loss_nondecrease_count > loss_nondecrease_threshold:\n",
        "        session.run(inc_gstep)\n",
        "        loss_nondecrease_count = 0\n",
        "        # Decreasing learning rate by 0.5\n",
        "    test_mse_ot.append(current_test_mse)\n",
        "    print('\\tTest MSE: %.5f'%np.mean(mse_test_loss_seq))\n",
        "    predictions_over_time.append(predictions_seq)\n",
        "    print('\\tFinished Predictions') "
      ],
      "execution_count": null,
      "outputs": [
        {
          "output_type": "stream",
          "text": [
            "Average loss at step 1: 2.308585\n"
          ],
          "name": "stdout"
        },
        {
          "output_type": "stream",
          "text": [
            "/usr/local/lib/python3.6/dist-packages/ipykernel_launcher.py:36: DeprecationWarning: np.asscalar(a) is deprecated since NumPy v1.16, use a.item() instead\n"
          ],
          "name": "stderr"
        },
        {
          "output_type": "stream",
          "text": [
            "\tTest MSE: 4.24302\n",
            "\tFinished Predictions\n",
            "Average loss at step 2: 0.634373\n",
            "\tTest MSE: 1.90196\n",
            "\tFinished Predictions\n",
            "Average loss at step 3: 0.487020\n",
            "\tTest MSE: 3.14520\n",
            "\tFinished Predictions\n",
            "Average loss at step 4: 0.288713\n",
            "\tTest MSE: 2.11614\n",
            "\tFinished Predictions\n",
            "Average loss at step 5: 0.217057\n",
            "\tTest MSE: 2.39042\n",
            "\tFinished Predictions\n",
            "Average loss at step 6: 0.171101\n",
            "\tTest MSE: 1.93265\n",
            "\tFinished Predictions\n",
            "Average loss at step 7: 0.158114\n",
            "\tTest MSE: 2.14413\n",
            "\tFinished Predictions\n",
            "Average loss at step 8: 0.144651\n",
            "\tTest MSE: 1.98789\n",
            "\tFinished Predictions\n",
            "Average loss at step 9: 0.135325\n",
            "\tTest MSE: 2.10030\n",
            "\tFinished Predictions\n",
            "Average loss at step 10: 0.125916\n",
            "\tTest MSE: 2.11548\n",
            "\tFinished Predictions\n",
            "Average loss at step 11: 0.126602\n",
            "\tTest MSE: 2.10237\n",
            "\tFinished Predictions\n",
            "Average loss at step 12: 0.132383\n",
            "\tTest MSE: 2.20434\n",
            "\tFinished Predictions\n",
            "Average loss at step 13: 0.133703\n",
            "\tTest MSE: 2.25083\n",
            "\tFinished Predictions\n",
            "Average loss at step 14: 0.135475\n",
            "\tTest MSE: 2.30443\n",
            "\tFinished Predictions\n",
            "Average loss at step 15: 0.117472\n",
            "\tTest MSE: 2.31261\n",
            "\tFinished Predictions\n",
            "Average loss at step 16: 0.127283\n",
            "\tTest MSE: 2.31382\n",
            "\tFinished Predictions\n",
            "Average loss at step 17: 0.115896\n",
            "\tTest MSE: 2.35196\n",
            "\tFinished Predictions\n",
            "Average loss at step 18: 0.114420\n",
            "\tTest MSE: 2.38206\n",
            "\tFinished Predictions\n",
            "Average loss at step 19: 0.106176\n",
            "\tTest MSE: 2.41031\n",
            "\tFinished Predictions\n",
            "Average loss at step 20: 0.115940\n",
            "\tTest MSE: 2.41250\n",
            "\tFinished Predictions\n",
            "Average loss at step 21: 0.111896\n",
            "\tTest MSE: 2.41461\n",
            "\tFinished Predictions\n",
            "Average loss at step 22: 0.117756\n",
            "\tTest MSE: 2.41087\n",
            "\tFinished Predictions\n",
            "Average loss at step 23: 0.120747\n",
            "\tTest MSE: 2.41474\n",
            "\tFinished Predictions\n",
            "Average loss at step 24: 0.120724\n",
            "\tTest MSE: 2.41546\n",
            "\tFinished Predictions\n",
            "Average loss at step 25: 0.115041\n",
            "\tTest MSE: 2.42690\n",
            "\tFinished Predictions\n",
            "Average loss at step 26: 0.111979\n",
            "\tTest MSE: 2.43562\n",
            "\tFinished Predictions\n",
            "Average loss at step 27: 0.100474\n",
            "\tTest MSE: 2.43736\n",
            "\tFinished Predictions\n",
            "Average loss at step 28: 0.112311\n",
            "\tTest MSE: 2.44051\n",
            "\tFinished Predictions\n",
            "Average loss at step 29: 0.107148\n",
            "\tTest MSE: 2.45202\n",
            "\tFinished Predictions\n",
            "Average loss at step 30: 0.115583\n",
            "\tTest MSE: 2.46263\n",
            "\tFinished Predictions\n"
          ],
          "name": "stdout"
        }
      ]
    },
    {
      "cell_type": "code",
      "metadata": {
        "id": "N0RLcagKwIYo",
        "colab_type": "code",
        "colab": {
          "base_uri": "https://localhost:8080/",
          "height": 299
        },
        "outputId": "6ad108df-6b50-4145-b5c9-2214758c898e"
      },
      "source": [
        "# Plot\n",
        " \n",
        "best_prediction_epoch = 2\n",
        " \n",
        "plt.plot(range(df.shape[0]),all_mid_data,color='b')\n",
        "for xval,yval in zip(x_axis_seq,predictions_over_time[best_prediction_epoch]):\n",
        "    plt.plot(xval,yval,color='r')\n",
        "plt.title('Best Test Predictions Over Time', fontsize=18)\n",
        "plt.xlabel('Date',fontsize=10)\n",
        "plt.ylabel('Mid Price',fontsize=10)\n",
        "plt.xlim(train_test_split_i,len(df))\n",
        "plt.show()"
      ],
      "execution_count": null,
      "outputs": [
        {
          "output_type": "display_data",
          "data": {
            "image/png": "[encoded data removed]",
            "text/plain": [
              "<Figure size 432x288 with 1 Axes>"
            ]
          },
          "metadata": {
            "tags": [],
            "needs_background": "light"
          }
        }
      ]
    },
    {
      "cell_type": "markdown",
      "metadata": {
        "id": "WLIsa6Bzblmb",
        "colab_type": "text"
      },
      "source": [
        "## Decision Tree Regression Model and Linear Regression Model"
      ]
    },
    {
      "cell_type": "code",
      "metadata": {
        "id": "oLQ672F1bYKK",
        "colab_type": "code",
        "colab": {}
      },
      "source": [
        "# Import necessary models from sklearn\n",
        "\n",
        "from sklearn.tree import DecisionTreeRegressor\n",
        "from sklearn.linear_model import LinearRegression\n",
        "from sklearn.model_selection import train_test_split\n",
        "from sklearn.metrics import mean_squared_error"
      ],
      "execution_count": null,
      "outputs": []
    },
    {
      "cell_type": "code",
      "metadata": {
        "id": "_ZJ-lQUObYO7",
        "colab_type": "code",
        "colab": {
          "base_uri": "https://localhost:8080/",
          "height": 357
        },
        "outputId": "ee3852cf-d773-4630-e7d6-83fe0abd062e"
      },
      "source": [
        "# re-look at the initial data\n",
        "\n",
        "print(df.info())\n",
        "print(df.head())"
      ],
      "execution_count": null,
      "outputs": [
        {
          "output_type": "stream",
          "text": [
            "<class 'pandas.core.frame.DataFrame'>\n",
            "Int64Index: 5249 entries, 5248 to 0\n",
            "Data columns (total 6 columns):\n",
            " #   Column      Non-Null Count  Dtype  \n",
            "---  ------      --------------  -----  \n",
            " 0   Unnamed: 0  5249 non-null   int64  \n",
            " 1   Date        5249 non-null   object \n",
            " 2   Low         5249 non-null   float64\n",
            " 3   High        5249 non-null   float64\n",
            " 4   Close       5249 non-null   float64\n",
            " 5   Open        5249 non-null   float64\n",
            "dtypes: float64(4), int64(1), object(1)\n",
            "memory usage: 287.1+ KB\n",
            "None\n",
            "      Unnamed: 0        Date    Low   High  Close   Open\n",
            "5248           0  1999-11-01  77.37  80.69  77.62  80.00\n",
            "5247           1  1999-11-02  77.31  81.69  80.25  78.00\n",
            "5246           2  1999-11-03  81.00  83.25  81.50  81.62\n",
            "5245           3  1999-11-04  80.62  85.37  83.62  82.06\n",
            "5244           4  1999-11-05  84.00  88.37  88.31  84.62\n"
          ],
          "name": "stdout"
        }
      ]
    },
    {
      "cell_type": "code",
      "metadata": {
        "id": "cu9SpcOebYTx",
        "colab_type": "code",
        "colab": {
          "base_uri": "https://localhost:8080/",
          "height": 34
        },
        "outputId": "ec8f9ba5-38b6-4d9b-cd57-8568eb415a2f"
      },
      "source": [
        "# number of rows = number of trading days\n",
        "\n",
        "print(df.shape)"
      ],
      "execution_count": null,
      "outputs": [
        {
          "output_type": "stream",
          "text": [
            "(5249, 6)\n"
          ],
          "name": "stdout"
        }
      ]
    },
    {
      "cell_type": "code",
      "metadata": {
        "id": "5Fmk4fYDbYY1",
        "colab_type": "code",
        "colab": {
          "base_uri": "https://localhost:8080/",
          "height": 404
        },
        "outputId": "e4d0e874-0d0d-4e50-abee-23a6e031c0d9"
      },
      "source": [
        "# Prediction to be made on close price data\n",
        "# Visualisation of close price\n",
        "\n",
        "plt.figure(figsize=(12,6))\n",
        "plt.title('Stock Price Close')\n",
        "plt.xlabel('Days')\n",
        "plt.ylabel('Close Price')\n",
        "plt.plot(df['Close'])\n",
        "plt.show()"
      ],
      "execution_count": null,
      "outputs": [
        {
          "output_type": "display_data",
          "data": {
            "image/png": "[encoded data removed]",
            "text/plain": [
              "<Figure size 864x432 with 1 Axes>"
            ]
          },
          "metadata": {
            "tags": [],
            "needs_background": "light"
          }
        }
      ]
    },
    {
      "cell_type": "code",
      "metadata": {
        "id": "kRs40Dm7bYcW",
        "colab_type": "code",
        "colab": {
          "base_uri": "https://localhost:8080/",
          "height": 119
        },
        "outputId": "6364cf67-6438-4a84-dcdc-4851fc6c5a21"
      },
      "source": [
        "# Create close price only dataframe\n",
        "\n",
        "close_df = df[['Close']]\n",
        "print(close_df.head())"
      ],
      "execution_count": null,
      "outputs": [
        {
          "output_type": "stream",
          "text": [
            "      Close\n",
            "5248  77.62\n",
            "5247  80.25\n",
            "5246  81.50\n",
            "5245  83.62\n",
            "5244  88.31\n"
          ],
          "name": "stdout"
        }
      ]
    },
    {
      "cell_type": "code",
      "metadata": {
        "id": "OVE5-4RgbYhv",
        "colab_type": "code",
        "colab": {
          "base_uri": "https://localhost:8080/",
          "height": 221
        },
        "outputId": "6b36ff2a-9c64-4f79-a537-80277a324b26"
      },
      "source": [
        "# Define Variables\n",
        "\n",
        "days_to_future = 30    # Days into future model will predict into\n",
        "\n",
        "# Add target column to close_df with data for price shifted 'days_to_future' ahead\n",
        "close_df['Prediction'] = df[['Close']].shift(-days_to_future)\n",
        "print(close_df.head())"
      ],
      "execution_count": null,
      "outputs": [
        {
          "output_type": "stream",
          "text": [
            "      Close  Prediction\n",
            "5248  77.62       94.87\n",
            "5247  80.25       97.00\n",
            "5246  81.50       98.31\n",
            "5245  83.62      100.00\n",
            "5244  88.31       98.00\n"
          ],
          "name": "stdout"
        },
        {
          "output_type": "stream",
          "text": [
            "/usr/local/lib/python3.6/dist-packages/ipykernel_launcher.py:6: SettingWithCopyWarning: \n",
            "A value is trying to be set on a copy of a slice from a DataFrame.\n",
            "Try using .loc[row_indexer,col_indexer] = value instead\n",
            "\n",
            "See the caveats in the documentation: https://pandas.pydata.org/pandas-docs/stable/user_guide/indexing.html#returning-a-view-versus-a-copy\n",
            "  \n"
          ],
          "name": "stderr"
        }
      ]
    },
    {
      "cell_type": "code",
      "metadata": {
        "id": "1sk99m7UcHyc",
        "colab_type": "code",
        "colab": {
          "base_uri": "https://localhost:8080/",
          "height": 119
        },
        "outputId": "77b24686-fa19-4a08-d823-64ce7ae93255"
      },
      "source": [
        "# Verify predictions for end of dataframe are NaN\n",
        "print(close_df.tail())"
      ],
      "execution_count": null,
      "outputs": [
        {
          "output_type": "stream",
          "text": [
            "    Close  Prediction\n",
            "4  120.88         NaN\n",
            "3  120.96         NaN\n",
            "2  112.82         NaN\n",
            "1  117.32         NaN\n",
            "0  113.49         NaN\n"
          ],
          "name": "stdout"
        }
      ]
    },
    {
      "cell_type": "code",
      "metadata": {
        "id": "Tie77I5TcIPR",
        "colab_type": "code",
        "colab": {
          "base_uri": "https://localhost:8080/",
          "height": 204
        },
        "outputId": "cb4e4bfd-eedb-45b2-f24b-a52e39f1f7db"
      },
      "source": [
        "# Create feature dataset 'X'\n",
        "# Leave off last 'days_to_future' rows\n",
        "\n",
        "X = np.array(close_df.drop(['Prediction'], 1))[:-days_to_future]\n",
        "print(X[:10])\n",
        "print(X.shape)"
      ],
      "execution_count": null,
      "outputs": [
        {
          "output_type": "stream",
          "text": [
            "[[77.62]\n",
            " [80.25]\n",
            " [81.5 ]\n",
            " [83.62]\n",
            " [88.31]\n",
            " [96.37]\n",
            " [89.62]\n",
            " [91.44]\n",
            " [92.25]\n",
            " [90.62]]\n",
            "(5219, 1)\n"
          ],
          "name": "stdout"
        }
      ]
    },
    {
      "cell_type": "code",
      "metadata": {
        "id": "3RgtLlUNcIZX",
        "colab_type": "code",
        "colab": {
          "base_uri": "https://localhost:8080/",
          "height": 204
        },
        "outputId": "a9646b42-f3d4-4c6b-cfd7-ef0ba19bea2e"
      },
      "source": [
        "# Create target dataset 'y'\n",
        "# Leave off last 'days_to_future' rows\n",
        "\n",
        "y = np.array(close_df.drop(['Close'], 1))[:-days_to_future]\n",
        "print(y[:10])\n",
        "print(y.shape)"
      ],
      "execution_count": null,
      "outputs": [
        {
          "output_type": "stream",
          "text": [
            "[[ 94.87]\n",
            " [ 97.  ]\n",
            " [ 98.31]\n",
            " [100.  ]\n",
            " [ 98.  ]\n",
            " [102.5 ]\n",
            " [ 99.94]\n",
            " [103.5 ]\n",
            " [ 99.31]\n",
            " [ 98.19]]\n",
            "(5219, 1)\n"
          ],
          "name": "stdout"
        }
      ]
    },
    {
      "cell_type": "code",
      "metadata": {
        "id": "AlDhy66QcIgt",
        "colab_type": "code",
        "colab": {}
      },
      "source": [
        "# Split data into 20% test and 80% train data\n",
        "X_train, X_test, y_train, y_test = train_test_split(X, y, test_size = 0.20)"
      ],
      "execution_count": null,
      "outputs": []
    },
    {
      "cell_type": "code",
      "metadata": {
        "id": "GdnQBl8wcIoR",
        "colab_type": "code",
        "colab": {
          "base_uri": "https://localhost:8080/",
          "height": 34
        },
        "outputId": "400c286d-c502-45a4-edb2-eba4299b89db"
      },
      "source": [
        "# Create Decision Tree Regressor model\n",
        "\n",
        "tree_model = DecisionTreeRegressor()\n",
        "tree_model.fit(X_train, y_train)\n",
        "tree_pred = tree_model.predict(X_test)\n",
        "tree_mse = mean_squared_error(y_test, tree_pred)\n",
        "print(tree_mse)"
      ],
      "execution_count": null,
      "outputs": [
        {
          "output_type": "stream",
          "text": [
            "2970.6857593684304\n"
          ],
          "name": "stdout"
        }
      ]
    },
    {
      "cell_type": "code",
      "metadata": {
        "id": "zNie3u9BcIvF",
        "colab_type": "code",
        "colab": {
          "base_uri": "https://localhost:8080/",
          "height": 34
        },
        "outputId": "2d0dbbd5-912a-4dbd-92e2-c49776e60751"
      },
      "source": [
        "# Create Linear Regression model\n",
        "\n",
        "linear = LinearRegression()\n",
        "linear.fit(X_train, y_train)\n",
        "linear_pred = linear.predict(X_test)\n",
        "linear_mse = mean_squared_error(y_test, linear_pred)\n",
        "print(linear_mse)"
      ],
      "execution_count": null,
      "outputs": [
        {
          "output_type": "stream",
          "text": [
            "2325.980792249422\n"
          ],
          "name": "stdout"
        }
      ]
    },
    {
      "cell_type": "code",
      "metadata": {
        "id": "-kQUB8jLckXM",
        "colab_type": "code",
        "colab": {
          "base_uri": "https://localhost:8080/",
          "height": 527
        },
        "outputId": "1bd818aa-478e-4db7-e1fb-bb47ee9d1068"
      },
      "source": [
        "future_days = close_df.drop(['Prediction'], 1)[:-days_to_future]\n",
        "future_days = future_days.tail(days_to_future)\n",
        "future_days = np.array(future_days)\n",
        "print(future_days)"
      ],
      "execution_count": null,
      "outputs": [
        {
          "output_type": "stream",
          "text": [
            "[[351.59]\n",
            " [351.73]\n",
            " [349.72]\n",
            " [358.87]\n",
            " [366.53]\n",
            " [360.06]\n",
            " [364.84]\n",
            " [353.63]\n",
            " [361.78]\n",
            " [364.8 ]\n",
            " [364.11]\n",
            " [364.11]\n",
            " [373.85]\n",
            " [372.69]\n",
            " [381.37]\n",
            " [383.01]\n",
            " [383.68]\n",
            " [381.91]\n",
            " [388.23]\n",
            " [390.9 ]\n",
            " [386.09]\n",
            " [385.31]\n",
            " [393.43]\n",
            " [388.  ]\n",
            " [389.09]\n",
            " [371.38]\n",
            " [370.46]\n",
            " [379.24]\n",
            " [373.01]\n",
            " [380.16]]\n"
          ],
          "name": "stdout"
        }
      ]
    },
    {
      "cell_type": "code",
      "metadata": {
        "id": "rxVJ21YAckgQ",
        "colab_type": "code",
        "colab": {
          "base_uri": "https://localhost:8080/",
          "height": 85
        },
        "outputId": "d3494f7a-b2a1-48a4-f322-5c07226f907d"
      },
      "source": [
        "# Predict with Decision Tree Model\n",
        "tree_predict = tree_model.predict(future_days)\n",
        "print(tree_predict)"
      ],
      "execution_count": null,
      "outputs": [
        {
          "output_type": "stream",
          "text": [
            "[384.76   425.04   435.75   438.66   440.25   327.46   383.58   450.91\n",
            " 348.5075 383.58   459.835  459.835  369.8    462.25   462.83   473.1\n",
            " 388.81   419.81   499.3    420.3    500.04   499.23   129.04   424.7\n",
            " 279.4045 120.88   120.96   112.82   117.32   113.49  ]\n"
          ],
          "name": "stdout"
        }
      ]
    },
    {
      "cell_type": "code",
      "metadata": {
        "id": "kMTDcR7ecklX",
        "colab_type": "code",
        "colab": {
          "base_uri": "https://localhost:8080/",
          "height": 527
        },
        "outputId": "fe58aaef-cf69-4287-9f33-93e90977c01f"
      },
      "source": [
        "# Preduct with Linear Regression Model\n",
        "\n",
        "linear_predict = linear.predict(future_days)\n",
        "print(linear_predict)"
      ],
      "execution_count": null,
      "outputs": [
        {
          "output_type": "stream",
          "text": [
            "[[346.17101498]\n",
            " [346.30545246]\n",
            " [344.37531434]\n",
            " [353.161764  ]\n",
            " [360.51741475]\n",
            " [354.30448259]\n",
            " [358.8945623 ]\n",
            " [348.12996113]\n",
            " [355.95614307]\n",
            " [358.85615159]\n",
            " [358.19356686]\n",
            " [358.19356686]\n",
            " [367.54657447]\n",
            " [366.43266391]\n",
            " [374.76778774]\n",
            " [376.3426268 ]\n",
            " [376.98600618]\n",
            " [375.28633231]\n",
            " [381.35522431]\n",
            " [383.91913913]\n",
            " [379.30025138]\n",
            " [378.55124256]\n",
            " [386.34861646]\n",
            " [381.13436273]\n",
            " [382.18105455]\n",
            " [365.1747132 ]\n",
            " [364.29126689]\n",
            " [372.72241749]\n",
            " [366.73994958]\n",
            " [373.60586379]]\n"
          ],
          "name": "stdout"
        }
      ]
    },
    {
      "cell_type": "code",
      "metadata": {
        "id": "R-h6klZPckpl",
        "colab_type": "code",
        "colab": {
          "base_uri": "https://localhost:8080/",
          "height": 51
        },
        "outputId": "29ce9949-37d6-4202-b16d-2eb4148cb385"
      },
      "source": [
        "# Future Prediction MSE, linear and decision tree\n",
        "\n",
        "future_tree_mse = mean_squared_error(future_days, tree_predict)\n",
        "future_linear_mse = mean_squared_error(future_days, linear_predict)\n",
        "\n",
        "print('30 Day Tree Future Prediction MSE: ', future_tree_mse)\n",
        "print('30 Day Linear Future Prediction MSE: ', future_linear_mse)"
      ],
      "execution_count": null,
      "outputs": [
        {
          "output_type": "stream",
          "text": [
            "30 Day Tree Future Prediction MSE:  17819.172740550002\n",
            "30 Day Linear Future Prediction MSE:  39.45951669073987\n"
          ],
          "name": "stdout"
        }
      ]
    },
    {
      "cell_type": "code",
      "metadata": {
        "id": "rT5HKcC3ckuG",
        "colab_type": "code",
        "colab": {
          "base_uri": "https://localhost:8080/",
          "height": 506
        },
        "outputId": "d6958a23-8109-44a8-f9b6-db60679ec734"
      },
      "source": [
        "# Visualization of results\n",
        "\n",
        "predictions = tree_predict\n",
        "\n",
        "validation = close_df[X.shape[0]:]\n",
        "validation['Predictions'] = predictions\n",
        "\n",
        "plt.figure(figsize=(12,6))\n",
        "plt.title('Model Predictions')\n",
        "plt.xlabel('Days')\n",
        "plt.ylabel('Predictions')\n",
        "plt.plot(close_df['Close'].iloc[5100:])\n",
        "plt.plot(validation[['Close', 'Predictions']])\n",
        "plt.legend(['Observed', 'Validated', 'Predicted'])\n",
        "plt.show()"
      ],
      "execution_count": null,
      "outputs": [
        {
          "output_type": "stream",
          "text": [
            "/usr/local/lib/python3.6/dist-packages/ipykernel_launcher.py:6: SettingWithCopyWarning: \n",
            "A value is trying to be set on a copy of a slice from a DataFrame.\n",
            "Try using .loc[row_indexer,col_indexer] = value instead\n",
            "\n",
            "See the caveats in the documentation: https://pandas.pydata.org/pandas-docs/stable/user_guide/indexing.html#returning-a-view-versus-a-copy\n",
            "  \n"
          ],
          "name": "stderr"
        },
        {
          "output_type": "display_data",
          "data": {
            "image/png": "[encoded data removed]",
            "text/plain": [
              "<Figure size 864x432 with 1 Axes>"
            ]
          },
          "metadata": {
            "tags": [],
            "needs_background": "light"
          }
        }
      ]
    },
    {
      "cell_type": "code",
      "metadata": {
        "id": "822puL-7ckyL",
        "colab_type": "code",
        "colab": {
          "base_uri": "https://localhost:8080/",
          "height": 506
        },
        "outputId": "bd1d4e3b-5c26-494c-a63d-050b95bd199e"
      },
      "source": [
        "# Visualize Linear Model Results\n",
        "\n",
        "lpredictions = linear_predict\n",
        "\n",
        "validation = close_df[X.shape[0]:]\n",
        "validation['Predictions'] = lpredictions\n",
        "\n",
        "plt.figure(figsize=(12,6))\n",
        "plt.title('Model Predictions')\n",
        "plt.xlabel('Days')\n",
        "plt.ylabel('Predictions')\n",
        "plt.plot(close_df['Close'].iloc[5100:])\n",
        "plt.plot(validation[['Close', 'Predictions']])\n",
        "plt.legend(['Observed', 'Validated', 'Predicted'])\n",
        "plt.show()"
      ],
      "execution_count": null,
      "outputs": [
        {
          "output_type": "stream",
          "text": [
            "/usr/local/lib/python3.6/dist-packages/ipykernel_launcher.py:6: SettingWithCopyWarning: \n",
            "A value is trying to be set on a copy of a slice from a DataFrame.\n",
            "Try using .loc[row_indexer,col_indexer] = value instead\n",
            "\n",
            "See the caveats in the documentation: https://pandas.pydata.org/pandas-docs/stable/user_guide/indexing.html#returning-a-view-versus-a-copy\n",
            "  \n"
          ],
          "name": "stderr"
        },
        {
          "output_type": "display_data",
          "data": {
            "image/png": "[encoded data removed]",
            "text/plain": [
              "<Figure size 864x432 with 1 Axes>"
            ]
          },
          "metadata": {
            "tags": [],
            "needs_background": "light"
          }
        }
      ]
    },
    {
      "cell_type": "markdown",
      "metadata": {
        "id": "VEzJw8HydK0c",
        "colab_type": "text"
      },
      "source": [
        "## XG Boost Model"
      ]
    },
    {
      "cell_type": "code",
      "metadata": {
        "id": "qK6Xs0v1cIz8",
        "colab_type": "code",
        "colab": {
          "base_uri": "https://localhost:8080/",
          "height": 34
        },
        "outputId": "eaa8a770-0869-4916-aa90-c1a04aeed37b"
      },
      "source": [
        "import xgboost as xgb\n",
        "\n",
        "# Convert the training and testing sets into DMatrixes: DM_train, DM_test\n",
        "DM_train = xgb.DMatrix(data=X_train, label=y_train)\n",
        "DM_test =  xgb.DMatrix(data=X_test, label=y_test)\n",
        "\n",
        "\n",
        "# Create the parameter dictionary: params\n",
        "params = {\"objective\":\"reg:squarederror\"}\n",
        "\n",
        "# Train the model: xg_reg\n",
        "xg_reg = xgb.train(params = params, dtrain=DM_train, num_boost_round=5)\n",
        "\n",
        "# Predict the labels of the test set: preds\n",
        "preds = xg_reg.predict(DM_test)\n",
        "\n",
        "# Compute and print the RMSE\n",
        "xgb_mse = mean_squared_error(X_test,preds)\n",
        "print(\"MSE: %f\" % (xgb_mse))"
      ],
      "execution_count": null,
      "outputs": [
        {
          "output_type": "stream",
          "text": [
            "MSE: 2075.320157\n"
          ],
          "name": "stdout"
        }
      ]
    },
    {
      "cell_type": "code",
      "metadata": {
        "id": "XTwYcrXTbYoR",
        "colab_type": "code",
        "colab": {
          "base_uri": "https://localhost:8080/",
          "height": 153
        },
        "outputId": "e244987f-18ff-44d0-e7bc-551ba4bcebde"
      },
      "source": [
        "# Cross Validation with XGBoost\n",
        "\n",
        "# Create the DMatrix: xgb_dmatrix\n",
        "xgb_dmatrix = xgb.DMatrix(data=X, label=y)\n",
        "\n",
        "# Create the parameter dictionary: params\n",
        "params = {\"objective\":\"reg:squarederror\", \"max_depth\":4}\n",
        "\n",
        "# Perform cross-validation: cv_results\n",
        "cv_results = xgb.cv(dtrain=xgb_dmatrix, params=params, nfold=4, num_boost_round=5, metrics='rmse', as_pandas=True, seed=123)\n",
        "\n",
        "# Print cv_results\n",
        "print(cv_results)\n",
        "\n",
        "# Extract and print final boosting round metric\n",
        "print((cv_results[\"test-rmse-mean\"]).tail(1))"
      ],
      "execution_count": null,
      "outputs": [
        {
          "output_type": "stream",
          "text": [
            "   train-rmse-mean  train-rmse-std  test-rmse-mean  test-rmse-std\n",
            "0       170.448429        1.032406      170.518906       3.602331\n",
            "1       123.595009        0.643585      123.853552       2.573095\n",
            "2        92.054792        0.427136       92.309601       1.886896\n",
            "3        71.190990        0.389426       71.847767       1.254815\n",
            "4        57.747428        0.450903       58.901878       1.352387\n",
            "4    58.901878\n",
            "Name: test-rmse-mean, dtype: float64\n"
          ],
          "name": "stdout"
        }
      ]
    },
    {
      "cell_type": "code",
      "metadata": {
        "id": "FOt-S1MQdTQi",
        "colab_type": "code",
        "colab": {
          "base_uri": "https://localhost:8080/",
          "height": 102
        },
        "outputId": "7a9464a9-ce33-41f3-a8a9-f80ce7b177cb"
      },
      "source": [
        "# Hyperparameter tuning using RandomizedSearchCV\n",
        "\n",
        "from sklearn.model_selection import RandomizedSearchCV\n",
        "\n",
        "# Create the parameter grid: gbm_param_grid \n",
        "gbm_param_grid = {\n",
        "    'colsample_bytree': np.arange(0.2, 0.7, 0.1),\n",
        "    'learning_rate': np.arange(0.04, 1, 0.02),\n",
        "    'max_depth': np.arange(3, 10, 1),\n",
        "    'n_estimators': np.arange(50, 200, 50)\n",
        "\n",
        "}\n",
        "\n",
        "# Instantiate the regressor: gbm\n",
        "rs_gbm = xgb.XGBRegressor(objective=\"reg:squarederror\", n_estimators=10)\n",
        "\n",
        "# Perform random search: grid_mse\n",
        "randomized_mse = RandomizedSearchCV(param_distributions=gbm_param_grid, estimator=rs_gbm, scoring=\"neg_mean_squared_error\", verbose=1, n_iter=5, cv=4)\n",
        "\n",
        "\n",
        "# Fit randomized_mse to the data\n",
        "randomized_mse.fit(X,y)\n",
        "\n",
        "# Print the best parameters and lowest RMSE\n",
        "print(\"Best parameters found: \", randomized_mse.best_params_)\n",
        "print(\"Lowest RMSE found: \", np.sqrt(np.abs(randomized_mse.best_score_)))"
      ],
      "execution_count": null,
      "outputs": [
        {
          "output_type": "stream",
          "text": [
            "Fitting 4 folds for each of 5 candidates, totalling 20 fits\n"
          ],
          "name": "stdout"
        },
        {
          "output_type": "stream",
          "text": [
            "[Parallel(n_jobs=1)]: Using backend SequentialBackend with 1 concurrent workers.\n"
          ],
          "name": "stderr"
        },
        {
          "output_type": "stream",
          "text": [
            "Best parameters found:  {'n_estimators': 50, 'max_depth': 5, 'learning_rate': 0.27999999999999997, 'colsample_bytree': 0.2}\n",
            "Lowest RMSE found:  140.45734399622464\n"
          ],
          "name": "stdout"
        },
        {
          "output_type": "stream",
          "text": [
            "[Parallel(n_jobs=1)]: Done  20 out of  20 | elapsed:    2.3s finished\n"
          ],
          "name": "stderr"
        }
      ]
    },
    {
      "cell_type": "code",
      "metadata": {
        "id": "WYIr54XpdTae",
        "colab_type": "code",
        "colab": {
          "base_uri": "https://localhost:8080/",
          "height": 34
        },
        "outputId": "52b3a42d-cc41-42ec-ca79-e850fef92e81"
      },
      "source": [
        "# Create the parameter dictionary: params\n",
        "best_params = {\"objective\":\"reg:squarederror\", 'n_estimators': 100, 'max_depth': 3, 'learning_rate': 0.31999999999999995, 'colsample_bytree': 0.2 }\n",
        "\n",
        "# Train the model: xg_reg\n",
        "best_xg_reg = xgb.train(params = params, dtrain=DM_train, num_boost_round=5)\n",
        "\n",
        "# Predict the labels of the test set: preds\n",
        "best_preds = best_xg_reg.predict(DM_test)\n",
        "\n",
        "# Compute and print the RMSE\n",
        "best_xgb_mse = mean_squared_error(X_test,best_preds)\n",
        "print(\"RMSE: %f\" % (best_xgb_mse))"
      ],
      "execution_count": null,
      "outputs": [
        {
          "output_type": "stream",
          "text": [
            "RMSE: 2143.250960\n"
          ],
          "name": "stdout"
        }
      ]
    },
    {
      "cell_type": "code",
      "metadata": {
        "id": "3gPEogmxdThu",
        "colab_type": "code",
        "colab": {
          "base_uri": "https://localhost:8080/",
          "height": 404
        },
        "outputId": "bd2293da-a991-401e-df0d-639367de395e"
      },
      "source": [
        "# Plot Best XGB Prediction for the final 43 days\n",
        "plt.figure(figsize=(12,6))\n",
        "plt.title('XGB Model Predictions')\n",
        "plt.xlabel('Days')\n",
        "plt.ylabel('XGB Predictions')\n",
        "plt.plot(best_preds[700:], c='red')\n",
        "plt.plot(X_test[700:], c='blue', alpha = 0.5)\n",
        "plt.show()"
      ],
      "execution_count": null,
      "outputs": [
        {
          "output_type": "display_data",
          "data": {
            "image/png": "[encoded data removed]",
            "text/plain": [
              "<Figure size 864x432 with 1 Axes>"
            ]
          },
          "metadata": {
            "tags": [],
            "needs_background": "light"
          }
        }
      ]
    },
    {
      "cell_type": "markdown",
      "metadata": {
        "id": "Iexbmto0fZWG",
        "colab_type": "text"
      },
      "source": [
        "## One step ahead prediction using Standard Averaging technique"
      ]
    },
    {
      "cell_type": "code",
      "metadata": {
        "id": "iLl3YpO4dTmU",
        "colab_type": "code",
        "colab": {
          "base_uri": "https://localhost:8080/",
          "height": 34
        },
        "outputId": "b197acfe-20b8-4e55-977d-87d21bcc8a5b"
      },
      "source": [
        "# One step ahead prediction using Standard Averaging technique\n",
        "\n",
        "# Define initial values and create empty arrays\n",
        "\n",
        "window_size = 50\n",
        "N = train_data.size\n",
        "\n",
        "\n",
        "std_avg_predictions = []\n",
        "std_avg_date = []\n",
        "std_mse_errors = []\n",
        "\n",
        "# Generate Predictions and append predictions, dates, and errors to correct arrays\n",
        "\n",
        "for idx in range(window_size, N):\n",
        "\n",
        "  if idx >= N:\n",
        "    date = dt.datetime.strptime(k, '%Y-%m-%d').date + dt.timedelta(days=1)\n",
        "  else:\n",
        "    date = df.loc[idx, 'Date']\n",
        "\n",
        "  std_avg_predictions.append(np.mean(train_data[idx-window_size:idx]))\n",
        "  std_mse_errors.append((std_avg_predictions[-1]-train_data[idx])**2)\n",
        "  std_avg_date.append(date)  \n",
        "\n",
        "\n",
        "# Print resulting MSE for Standard Averaging\n",
        "print('Standard Average MSE error: %.5f'%(0.5*np.mean(std_mse_errors)))"
      ],
      "execution_count": null,
      "outputs": [
        {
          "output_type": "stream",
          "text": [
            "Standard Average MSE error: 0.00614\n"
          ],
          "name": "stdout"
        }
      ]
    },
    {
      "cell_type": "code",
      "metadata": {
        "id": "O4AmEkGkdTrL",
        "colab_type": "code",
        "colab": {
          "base_uri": "https://localhost:8080/",
          "height": 388
        },
        "outputId": "f8d49858-77d8-4f07-a11d-036526a59f86"
      },
      "source": [
        "# Visualize Standard Average Preduction and Actual Value on overlayed plot\n",
        "\n",
        "plt.figure(figsize=(12,6))\n",
        "plt.plot(range(df.shape[0]), all_mid_data, color='blue', label='Actual')\n",
        "plt.plot(range(window_size,N), std_avg_predictions, color = 'red', label='Predicted')\n",
        "plt.xlabel('Date')\n",
        "plt.ylabel('Mid Range Price')\n",
        "plt.legend()\n",
        "plt.show()"
      ],
      "execution_count": null,
      "outputs": [
        {
          "output_type": "display_data",
          "data": {
            "image/png": "[encoded data removed]",
            "text/plain": [
              "<Figure size 864x432 with 1 Axes>"
            ]
          },
          "metadata": {
            "tags": [],
            "needs_background": "light"
          }
        }
      ]
    },
    {
      "cell_type": "markdown",
      "metadata": {
        "id": "Xe2LbiJYfRRc",
        "colab_type": "text"
      },
      "source": [
        "## One step ahead prediction using the Exponential Moving Average"
      ]
    },
    {
      "cell_type": "code",
      "metadata": {
        "id": "hX-_P4FPdTzg",
        "colab_type": "code",
        "colab": {
          "base_uri": "https://localhost:8080/",
          "height": 34
        },
        "outputId": "c37b8b4f-608f-4628-d873-28e66debca66"
      },
      "source": [
        "# One step ahead prediction using the Exponential Moving Average\n",
        "\n",
        "# Define initial values and create empty arrays \n",
        "\n",
        "window_size = 50\n",
        "N = train_data.size\n",
        "\n",
        "run_avg_predictions = []\n",
        "run_avg_dates = []\n",
        "run_mse_errors = []\n",
        "\n",
        "running_mean = 0.0     # exponential moving average\n",
        "decay = 0.5            # gamma\n",
        "\n",
        "run_avg_predictions.append(running_mean)\n",
        "\n",
        "# Generate Predictions and append predictions, dates, and errors to correct arrays\n",
        "\n",
        "for ema_idx in range(1,N):\n",
        "  running_mean = running_mean*decay + (1-decay)*train_data[ema_idx-1]\n",
        "  run_avg_predictions.append(running_mean)\n",
        "  run_mse_errors.append((run_avg_predictions[-1]-train_data[ema_idx])**2)\n",
        "  run_avg_dates.append(date)\n",
        "\n",
        "\n",
        "# Print resulting MSE for Standard Averaging\n",
        "print('Standard Average MSE error: %.5f'%(0.5*np.mean(run_mse_errors)))  "
      ],
      "execution_count": null,
      "outputs": [
        {
          "output_type": "stream",
          "text": [
            "Standard Average MSE error: 0.00010\n"
          ],
          "name": "stdout"
        }
      ]
    },
    {
      "cell_type": "code",
      "metadata": {
        "id": "vop2Uar9dT7X",
        "colab_type": "code",
        "colab": {
          "base_uri": "https://localhost:8080/",
          "height": 388
        },
        "outputId": "08eac403-99f7-4911-d4ba-5fef045ef750"
      },
      "source": [
        "# Visualize Exponential Moving Average Preduction and Actual Value on overlayed plot\n",
        "\n",
        "plt.figure(figsize=(12,6))\n",
        "plt.plot(range(df.shape[0]), all_mid_data, color='blue', label='Actual')\n",
        "plt.plot(range(0,N), run_avg_predictions, color = 'red', label='Predicted')\n",
        "plt.xlabel('Date')\n",
        "plt.ylabel('Mid Range Price')\n",
        "plt.legend()\n",
        "plt.show()"
      ],
      "execution_count": null,
      "outputs": [
        {
          "output_type": "display_data",
          "data": {
            "image/png": "[encoded data removed]",
            "text/plain": [
              "<Figure size 864x432 with 1 Axes>"
            ]
          },
          "metadata": {
            "tags": [],
            "needs_background": "light"
          }
        }
      ]
    },
    {
      "cell_type": "markdown",
      "metadata": {
        "id": "tqZ_31FqwmBz",
        "colab_type": "text"
      },
      "source": [
        "## Part Two:\n",
        "## Prediction Accuracy Improvement with Hyperparameter Tuning of Simple Models"
      ]
    },
    {
      "cell_type": "code",
      "metadata": {
        "id": "N60kV2Xawgxi",
        "colab_type": "code",
        "colab": {
          "base_uri": "https://localhost:8080/",
          "height": 34
        },
        "outputId": "7ac1cb37-6774-44b2-b8f9-a1fcac384d3e"
      },
      "source": [
        "# Ridge Regression\n",
        "\n",
        "from sklearn import linear_model\n",
        "ridge = linear_model.Ridge(alpha=.5)\n",
        "ridge.fit(X_train, y_train)\n",
        "ridge_pred = ridge.predict(X_test)\n",
        "ridge_mse = mean_squared_error(y_test, ridge_pred)\n",
        "print(ridge_mse)\n"
      ],
      "execution_count": null,
      "outputs": [
        {
          "output_type": "stream",
          "text": [
            "2325.9807920446265\n"
          ],
          "name": "stdout"
        }
      ]
    },
    {
      "cell_type": "code",
      "metadata": {
        "id": "_5QcSMhjwhEc",
        "colab_type": "code",
        "colab": {
          "base_uri": "https://localhost:8080/",
          "height": 51
        },
        "outputId": "0155b7f8-29b5-4683-c1e3-e7cef96a4793"
      },
      "source": [
        "# Cross Validated RidgeCV\n",
        "\n",
        "ridge_cv = linear_model.RidgeCV(alphas=np.logspace(-6, 6, 13), cv=10)\n",
        "ridge_cv.fit(X_train, y_train)\n",
        "ridge_cv_pred = ridge_cv.predict(X_test)\n",
        "ridge_cv_mse = mean_squared_error(y_test, ridge_cv_pred)\n",
        "print(ridge_cv_mse)\n",
        "print(ridge_cv.alpha_)\n"
      ],
      "execution_count": null,
      "outputs": [
        {
          "output_type": "stream",
          "text": [
            "2325.9604827036796\n",
            "100000.0\n"
          ],
          "name": "stdout"
        }
      ]
    },
    {
      "cell_type": "code",
      "metadata": {
        "id": "2TdJvv1ZwhN9",
        "colab_type": "code",
        "colab": {
          "base_uri": "https://localhost:8080/",
          "height": 527
        },
        "outputId": "fb072d97-ad19-4a84-800e-367da95d53bf"
      },
      "source": [
        "# Future Predict with Ridge Model\n",
        "ridge_predict = ridge.predict(future_days)\n",
        "print(ridge_predict)"
      ],
      "execution_count": null,
      "outputs": [
        {
          "output_type": "stream",
          "text": [
            "[[346.17101418]\n",
            " [346.30545166]\n",
            " [344.37531355]\n",
            " [353.16176316]\n",
            " [360.51741388]\n",
            " [354.30448175]\n",
            " [358.89456144]\n",
            " [348.12996032]\n",
            " [355.95614222]\n",
            " [358.85615073]\n",
            " [358.193566  ]\n",
            " [358.193566  ]\n",
            " [367.54657357]\n",
            " [366.43266302]\n",
            " [374.7677868 ]\n",
            " [376.34262586]\n",
            " [376.98600523]\n",
            " [375.28633137]\n",
            " [381.35522334]\n",
            " [383.91913815]\n",
            " [379.30025043]\n",
            " [378.55124161]\n",
            " [386.34861547]\n",
            " [381.13436177]\n",
            " [382.18105358]\n",
            " [365.17471231]\n",
            " [364.29126601]\n",
            " [372.72241656]\n",
            " [366.73994869]\n",
            " [373.60586286]]\n"
          ],
          "name": "stdout"
        }
      ]
    },
    {
      "cell_type": "code",
      "metadata": {
        "id": "FF7FECkTwhYJ",
        "colab_type": "code",
        "colab": {
          "base_uri": "https://localhost:8080/",
          "height": 527
        },
        "outputId": "ceb99171-f392-4875-c1e1-648af9fe2da6"
      },
      "source": [
        "# Future Predict with Ridge CV Model\n",
        "ridge_cv_predict = ridge_cv.predict(future_days)\n",
        "print(ridge_cv_predict)"
      ],
      "execution_count": null,
      "outputs": [
        {
          "output_type": "stream",
          "text": [
            "[[346.01105631]\n",
            " [346.14536766]\n",
            " [344.21704052]\n",
            " [352.99524614]\n",
            " [360.34399533]\n",
            " [354.13689256]\n",
            " [358.72266555]\n",
            " [347.96816445]\n",
            " [355.78700334]\n",
            " [358.68429088]\n",
            " [358.02232783]\n",
            " [358.02232783]\n",
            " [367.36655983]\n",
            " [366.25369442]\n",
            " [374.58099768]\n",
            " [376.15435912]\n",
            " [376.79713483]\n",
            " [375.09905571]\n",
            " [381.16225348]\n",
            " [383.72376266]\n",
            " [379.10920867]\n",
            " [378.36090261]\n",
            " [386.1509605 ]\n",
            " [380.94159913]\n",
            " [381.98730887]\n",
            " [364.996924  ]\n",
            " [364.1143066 ]\n",
            " [372.53754653]\n",
            " [366.56069177]\n",
            " [373.42016393]]\n"
          ],
          "name": "stdout"
        }
      ]
    },
    {
      "cell_type": "code",
      "metadata": {
        "id": "wH6j5Zs8whh7",
        "colab_type": "code",
        "colab": {
          "base_uri": "https://localhost:8080/",
          "height": 51
        },
        "outputId": "e7c408ac-6af4-4959-9096-e086fd7096d2"
      },
      "source": [
        "# Future Prediction MSE, Ridge and Ridge CV\n",
        "\n",
        "future_ridge_mse = mean_squared_error(future_days, ridge_predict)\n",
        "future_ridgecv_mse = mean_squared_error(future_days, ridge_cv_predict)\n",
        "\n",
        "print('30 Day Ridge Regression Prediction MSE: ', future_ridge_mse)\n",
        "print('30 Day Cross Validated Ridge Regression Prediction MSE: ', future_ridgecv_mse)"
      ],
      "execution_count": null,
      "outputs": [
        {
          "output_type": "stream",
          "text": [
            "30 Day Ridge Regression Prediction MSE:  39.45952797068527\n",
            "30 Day Cross Validated Ridge Regression Prediction MSE:  41.74558204231466\n"
          ],
          "name": "stdout"
        }
      ]
    },
    {
      "cell_type": "code",
      "metadata": {
        "id": "q5r-Ishrwhrm",
        "colab_type": "code",
        "colab": {
          "base_uri": "https://localhost:8080/",
          "height": 506
        },
        "outputId": "35fcb21d-114c-449a-b591-9368e478a379"
      },
      "source": [
        "# Visualize Ridge Model Results\n",
        "\n",
        "rpredictions = ridge_predict\n",
        "\n",
        "validation = close_df[X.shape[0]:]\n",
        "validation['Predictions'] = rpredictions\n",
        "\n",
        "plt.figure(figsize=(12,6))\n",
        "plt.title('Model Predictions')\n",
        "plt.xlabel('Days')\n",
        "plt.ylabel('Predictions')\n",
        "plt.plot(close_df['Close'].iloc[5100:])\n",
        "plt.plot(validation[['Close', 'Predictions']])\n",
        "plt.legend(['Observed', 'Validated', 'Predicted'])\n",
        "plt.show()"
      ],
      "execution_count": null,
      "outputs": [
        {
          "output_type": "stream",
          "text": [
            "/usr/local/lib/python3.6/dist-packages/ipykernel_launcher.py:6: SettingWithCopyWarning: \n",
            "A value is trying to be set on a copy of a slice from a DataFrame.\n",
            "Try using .loc[row_indexer,col_indexer] = value instead\n",
            "\n",
            "See the caveats in the documentation: https://pandas.pydata.org/pandas-docs/stable/user_guide/indexing.html#returning-a-view-versus-a-copy\n",
            "  \n"
          ],
          "name": "stderr"
        },
        {
          "output_type": "display_data",
          "data": {
            "image/png": "[encoded data removed]",
            "text/plain": [
              "<Figure size 864x432 with 1 Axes>"
            ]
          },
          "metadata": {
            "tags": [],
            "needs_background": "light"
          }
        }
      ]
    },
    {
      "cell_type": "code",
      "metadata": {
        "id": "SbKAotqzwh3F",
        "colab_type": "code",
        "colab": {
          "base_uri": "https://localhost:8080/",
          "height": 506
        },
        "outputId": "06f4c24a-560e-4d9d-9e4a-032ef88a55a9"
      },
      "source": [
        "# Visualize Cross Validated Ridge Model Results\n",
        "\n",
        "rcvpredictions = ridge_cv_predict\n",
        "\n",
        "validation = close_df[X.shape[0]:]\n",
        "validation['Predictions'] = rcvpredictions\n",
        "\n",
        "plt.figure(figsize=(12,6))\n",
        "plt.title('Model Predictions')\n",
        "plt.xlabel('Days')\n",
        "plt.ylabel('Predictions')\n",
        "plt.plot(close_df['Close'].iloc[5100:])\n",
        "plt.plot(validation[['Close', 'Predictions']])\n",
        "plt.legend(['Observed', 'Validated', 'Predicted'])\n",
        "plt.show()"
      ],
      "execution_count": null,
      "outputs": [
        {
          "output_type": "stream",
          "text": [
            "/usr/local/lib/python3.6/dist-packages/ipykernel_launcher.py:6: SettingWithCopyWarning: \n",
            "A value is trying to be set on a copy of a slice from a DataFrame.\n",
            "Try using .loc[row_indexer,col_indexer] = value instead\n",
            "\n",
            "See the caveats in the documentation: https://pandas.pydata.org/pandas-docs/stable/user_guide/indexing.html#returning-a-view-versus-a-copy\n",
            "  \n"
          ],
          "name": "stderr"
        },
        {
          "output_type": "display_data",
          "data": {
            "image/png": "[encoded data removed]",
            "text/plain": [
              "<Figure size 864x432 with 1 Axes>"
            ]
          },
          "metadata": {
            "tags": [],
            "needs_background": "light"
          }
        }
      ]
    },
    {
      "cell_type": "code",
      "metadata": {
        "id": "a8DsvBL_4wi0",
        "colab_type": "code",
        "colab": {
          "base_uri": "https://localhost:8080/",
          "height": 34
        },
        "outputId": "765d94f1-2d00-451d-8a10-43295e3c0fe8"
      },
      "source": [
        "# Lasso\n",
        "\n",
        "clf = linear_model.Lasso(alpha=0.1)\n",
        "clf.fit(X_train, y_train)\n",
        "clf_pred = clf.predict(X_test)\n",
        "clf_mse = mean_squared_error(y_test, clf_pred)\n",
        "print(clf_mse)"
      ],
      "execution_count": null,
      "outputs": [
        {
          "output_type": "stream",
          "text": [
            "2325.980614559886\n"
          ],
          "name": "stdout"
        }
      ]
    },
    {
      "cell_type": "code",
      "metadata": {
        "id": "Nn5SABZg4w1B",
        "colab_type": "code",
        "colab": {
          "base_uri": "https://localhost:8080/",
          "height": 119
        },
        "outputId": "2a4ccc3d-1255-4f0c-a483-4dbfa56b653b"
      },
      "source": [
        "# Future Predict with Lasso Model\n",
        "\n",
        "clf_predict = clf.predict(future_days)\n",
        "print(clf_predict)"
      ],
      "execution_count": null,
      "outputs": [
        {
          "output_type": "stream",
          "text": [
            "[346.17031887 346.3047558  344.37462556 353.16103934 360.51666005\n",
            " 354.30375326 358.89381423 348.12925702 355.955407   358.85540368\n",
            " 358.19282166 358.19282166 367.54579108 366.43188507 374.76697486\n",
            " 376.34180749 376.98518424 375.28551731 381.35438453 383.91828888\n",
            " 379.29942    378.55041423 386.3477563  381.13352386 382.1802114\n",
            " 365.17393949 364.29049679 372.72161296 366.73916948 373.60505566]\n"
          ],
          "name": "stdout"
        }
      ]
    },
    {
      "cell_type": "code",
      "metadata": {
        "id": "TgAtjs-54w-T",
        "colab_type": "code",
        "colab": {
          "base_uri": "https://localhost:8080/",
          "height": 34
        },
        "outputId": "f13f9308-da42-41ff-ad27-5a92bc250bb7"
      },
      "source": [
        "# Future Prediction MSE for Lasso\n",
        "\n",
        "future_clf_mse = mean_squared_error(future_days, clf_predict)\n",
        "\n",
        "print('30 Day Lasso Future Prediction MSE: ', future_clf_mse)\n"
      ],
      "execution_count": null,
      "outputs": [
        {
          "output_type": "stream",
          "text": [
            "30 Day Lasso Future Prediction MSE:  39.469325765521255\n"
          ],
          "name": "stdout"
        }
      ]
    },
    {
      "cell_type": "code",
      "metadata": {
        "id": "E0AqL95k4xIb",
        "colab_type": "code",
        "colab": {
          "base_uri": "https://localhost:8080/",
          "height": 506
        },
        "outputId": "2ceb8316-f274-4d70-e42d-5942c3ac57cc"
      },
      "source": [
        "# Visualize Lasso Model Results\n",
        "\n",
        "clfpredictions = clf_predict\n",
        "\n",
        "validation = close_df[X.shape[0]:]\n",
        "validation['Predictions'] = clfpredictions\n",
        "\n",
        "plt.figure(figsize=(12,6))\n",
        "plt.title('Model Predictions')\n",
        "plt.xlabel('Days')\n",
        "plt.ylabel('Predictions')\n",
        "plt.plot(close_df['Close'].iloc[5100:])\n",
        "plt.plot(validation[['Close', 'Predictions']])\n",
        "plt.legend(['Observed', 'Validated', 'Predicted'])\n",
        "plt.show()"
      ],
      "execution_count": null,
      "outputs": [
        {
          "output_type": "stream",
          "text": [
            "/usr/local/lib/python3.6/dist-packages/ipykernel_launcher.py:6: SettingWithCopyWarning: \n",
            "A value is trying to be set on a copy of a slice from a DataFrame.\n",
            "Try using .loc[row_indexer,col_indexer] = value instead\n",
            "\n",
            "See the caveats in the documentation: https://pandas.pydata.org/pandas-docs/stable/user_guide/indexing.html#returning-a-view-versus-a-copy\n",
            "  \n"
          ],
          "name": "stderr"
        },
        {
          "output_type": "display_data",
          "data": {
            "image/png": "[encoded data removed]",
            "text/plain": [
              "<Figure size 864x432 with 1 Axes>"
            ]
          },
          "metadata": {
            "tags": [],
            "needs_background": "light"
          }
        }
      ]
    },
    {
      "cell_type": "code",
      "metadata": {
        "id": "JFcqy1zE4xSN",
        "colab_type": "code",
        "colab": {
          "base_uri": "https://localhost:8080/",
          "height": 204
        },
        "outputId": "db739ac5-1078-4b2d-e8b2-7576ab372fd0"
      },
      "source": [
        "# Decision Tree Regression with Randomized Hyperparameter Search\n",
        "\n",
        "# Create the parameter grid\n",
        "param_grid = {'max_depth': list(range(2,10)), \n",
        "              'max_features': ['auto' , 'sqrt'],\n",
        "              'criterion' : ['mse', 'mae'],\n",
        "              'splitter':['best', 'random'],\n",
        "              'min_samples_leaf': list(range(5,20))\n",
        "              } \n",
        "\n",
        "# Create a random search object\n",
        "tree_rs = RandomizedSearchCV(\n",
        "    estimator = DecisionTreeRegressor(),\n",
        "    param_distributions = param_grid, n_iter = 10,\n",
        "    scoring='neg_mean_squared_error', cv = 5, refit=True, return_train_score =True, verbose=1 )\n",
        "\n",
        "# Fit to the training data\n",
        "tree_rs.fit(X_train, y_train)\n",
        "\n",
        "# Print the values used for both hyperparameters\n",
        "print(tree_rs.cv_results_['param_max_depth'])\n",
        "print(tree_rs.cv_results_['param_max_features'])\n",
        "print(tree_rs.cv_results_['param_criterion'])\n",
        "print(tree_rs.cv_results_['param_splitter'])\n",
        "print(tree_rs.cv_results_['param_min_samples_leaf'])\n",
        "\n",
        "# Print the best parameters and lowest RMSE\n",
        "print(\"Best parameters found: \", tree_rs.best_params_)\n",
        "print(\"Lowest RMSE found: \", np.abs(tree_rs.best_score_))\n"
      ],
      "execution_count": null,
      "outputs": [
        {
          "output_type": "stream",
          "text": [
            "Fitting 5 folds for each of 10 candidates, totalling 50 fits\n"
          ],
          "name": "stdout"
        },
        {
          "output_type": "stream",
          "text": [
            "[Parallel(n_jobs=1)]: Using backend SequentialBackend with 1 concurrent workers.\n"
          ],
          "name": "stderr"
        },
        {
          "output_type": "stream",
          "text": [
            "[8 6 9 8 9 7 2 5 7 8]\n",
            "['sqrt' 'auto' 'auto' 'sqrt' 'auto' 'auto' 'auto' 'auto' 'auto' 'sqrt']\n",
            "['mae' 'mse' 'mse' 'mse' 'mse' 'mae' 'mae' 'mae' 'mse' 'mae']\n",
            "['random' 'random' 'best' 'best' 'random' 'best' 'best' 'best' 'random'\n",
            " 'best']\n",
            "[18 11 12 10 7 6 5 5 12 16]\n",
            "Best parameters found:  {'splitter': 'best', 'min_samples_leaf': 12, 'max_features': 'auto', 'max_depth': 9, 'criterion': 'mse'}\n",
            "Lowest RMSE found:  1931.2199288390962\n"
          ],
          "name": "stdout"
        },
        {
          "output_type": "stream",
          "text": [
            "[Parallel(n_jobs=1)]: Done  50 out of  50 | elapsed:    2.0s finished\n"
          ],
          "name": "stderr"
        }
      ]
    },
    {
      "cell_type": "code",
      "metadata": {
        "id": "niOFrVogiSx3",
        "colab_type": "code",
        "colab": {
          "base_uri": "https://localhost:8080/",
          "height": 34
        },
        "outputId": "0bc64820-3d7d-4a11-9d5e-e0d83c9c13f3"
      },
      "source": [
        "#Create new Decision Tree model using best parameters\n",
        "\n",
        "# Create the parameter dictionary: params\n",
        "best_rs_params = {'splitter':'best', 'min_samples_leaf': 10, 'max_features': 'auto', 'max_depth': 5, 'criterion': 'mse'}\n",
        "\n",
        "# Train the model: xg_reg\n",
        "best_tree_rs = DecisionTreeRegressor(splitter='best', min_samples_leaf=10, max_features='auto', max_depth=5, criterion='mse')\n",
        "best_tree_rs.fit(X_train, y_train)\n",
        "\n",
        "# Predict the labels of the test set: preds\n",
        "tree_rs_preds = best_tree_rs.predict(X_test)\n",
        "\n",
        "# Compute and print the MSE\n",
        "best_treers_mse = mean_squared_error(X_test,tree_rs_preds)\n",
        "print(\"MSE: %f\" % (best_treers_mse))"
      ],
      "execution_count": null,
      "outputs": [
        {
          "output_type": "stream",
          "text": [
            "MSE: 523.117335\n"
          ],
          "name": "stdout"
        }
      ]
    },
    {
      "cell_type": "code",
      "metadata": {
        "id": "wUBxZ5ToiTLe",
        "colab_type": "code",
        "colab": {
          "base_uri": "https://localhost:8080/",
          "height": 119
        },
        "outputId": "495787a5-4997-46ec-d323-2020382bb0ba"
      },
      "source": [
        "# Future Prediction with Best Decision Tree Model\n",
        "\n",
        "future_tree_rs = best_tree_rs.predict(future_days)\n",
        "print(future_tree_rs)"
      ],
      "execution_count": null,
      "outputs": [
        {
          "output_type": "stream",
          "text": [
            "[366.02961207 366.02961207 349.67520455 366.02961207 366.02961207\n",
            " 366.02961207 366.02961207 366.02961207 366.02961207 366.02961207\n",
            " 366.02961207 366.02961207 366.02961207 366.02961207 429.11380952\n",
            " 429.11380952 429.11380952 429.11380952 429.11380952 394.31713514\n",
            " 429.11380952 429.11380952 394.31713514 429.11380952 394.31713514\n",
            " 366.02961207 366.02961207 366.02961207 366.02961207 366.02961207]\n"
          ],
          "name": "stdout"
        }
      ]
    },
    {
      "cell_type": "code",
      "metadata": {
        "id": "S04R-dciiTU1",
        "colab_type": "code",
        "colab": {
          "base_uri": "https://localhost:8080/",
          "height": 34
        },
        "outputId": "1da614f2-7ffe-49f7-9362-2eb5d1ee922e"
      },
      "source": [
        "# Future Prediction MSE for Best Decision Tree Model\n",
        "\n",
        "future_treers_mse = mean_squared_error(future_days, future_tree_rs)\n",
        "\n",
        "print('30 Day Best Tree Future Prediction MSE: ', future_treers_mse)"
      ],
      "execution_count": null,
      "outputs": [
        {
          "output_type": "stream",
          "text": [
            "30 Day Best Tree Future Prediction MSE:  570.9273987088787\n"
          ],
          "name": "stdout"
        }
      ]
    },
    {
      "cell_type": "code",
      "metadata": {
        "id": "D_LHMQmaiTeY",
        "colab_type": "code",
        "colab": {
          "base_uri": "https://localhost:8080/",
          "height": 506
        },
        "outputId": "c6c4619d-b3fd-41ac-8987-d954463d9c44"
      },
      "source": [
        "# Visualize Best Tree Model Results\n",
        "\n",
        "treerspredictions = future_tree_rs\n",
        "\n",
        "validation = close_df[X.shape[0]:]\n",
        "validation['Predictions'] = treerspredictions\n",
        "\n",
        "plt.figure(figsize=(12,6))\n",
        "plt.title('Model Predictions')\n",
        "plt.xlabel('Days')\n",
        "plt.ylabel('Predictions')\n",
        "plt.plot(close_df['Close'].iloc[5100:])\n",
        "plt.plot(validation[['Close', 'Predictions']])\n",
        "plt.legend(['Observed', 'Validated', 'Predicted'])\n",
        "plt.show()"
      ],
      "execution_count": null,
      "outputs": [
        {
          "output_type": "stream",
          "text": [
            "/usr/local/lib/python3.6/dist-packages/ipykernel_launcher.py:6: SettingWithCopyWarning: \n",
            "A value is trying to be set on a copy of a slice from a DataFrame.\n",
            "Try using .loc[row_indexer,col_indexer] = value instead\n",
            "\n",
            "See the caveats in the documentation: https://pandas.pydata.org/pandas-docs/stable/user_guide/indexing.html#returning-a-view-versus-a-copy\n",
            "  \n"
          ],
          "name": "stderr"
        },
        {
          "output_type": "display_data",
          "data": {
            "image/png": "[encoded data removed]",
            "text/plain": [
              "<Figure size 864x432 with 1 Axes>"
            ]
          },
          "metadata": {
            "tags": [],
            "needs_background": "light"
          }
        }
      ]
    },
    {
      "cell_type": "code",
      "metadata": {
        "id": "ZL1hVThVoT-7",
        "colab_type": "code",
        "colab": {}
      },
      "source": [
        ""
      ],
      "execution_count": null,
      "outputs": []
    },
    {
      "cell_type": "code",
      "metadata": {
        "id": "laRpRXVLoUIg",
        "colab_type": "code",
        "colab": {}
      },
      "source": [
        ""
      ],
      "execution_count": null,
      "outputs": []
    },
    {
      "cell_type": "code",
      "metadata": {
        "id": "s6lllX_xoURX",
        "colab_type": "code",
        "colab": {}
      },
      "source": [
        ""
      ],
      "execution_count": null,
      "outputs": []
    },
    {
      "cell_type": "code",
      "metadata": {
        "id": "hpiMPZIjoUaJ",
        "colab_type": "code",
        "colab": {}
      },
      "source": [
        ""
      ],
      "execution_count": null,
      "outputs": []
    },
    {
      "cell_type": "code",
      "metadata": {
        "id": "HdpOGK5g4xb0",
        "colab_type": "code",
        "colab": {}
      },
      "source": [
        ""
      ],
      "execution_count": null,
      "outputs": []
    },
    {
      "cell_type": "markdown",
      "metadata": {
        "id": "RxSnnGBebZip",
        "colab_type": "text"
      },
      "source": [
        "Referrences:\n",
        "\n",
        "https://www.programmersought.com/article/5487636739/\n",
        "\n",
        "https://wingkiwong.wordpress.com/2019/01/13/long-short-term-memory-in-time-series-data/\n",
        "\n",
        "https://towardsdatascience.com/using-lstms-for-stock-market-predictions-tensorflow-9e83999d4653\n",
        "\n",
        "https://www.thepythoncode.com/article/stock-price-prediction-in-python-using-tensorflow-2-and-keras\n",
        "\n",
        "https://analyticsindiamag.com/hands-on-guide-to-lstm-recurrent-neural-network-for-stock-market-prediction/\n",
        "\n",
        "https://blog.usejournal.com/stock-market-prediction-by-recurrent-neural-network-on-lstm-model-56de700bff68\n",
        "\n",
        "https://github.com/jaungiers/LSTM-Neural-Network-for-Time-Series-Prediction\n",
        "\n",
        "http://colah.github.io/posts/2015-08-Understanding-LSTMs/\n",
        "\n"
      ]
    }
  ]
}
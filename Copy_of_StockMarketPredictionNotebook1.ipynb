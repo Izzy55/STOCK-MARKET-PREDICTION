{
  "nbformat": 4,
  "nbformat_minor": 0,
  "metadata": {
    "colab": {
      "name": "Copy of StockMarketPredictionNotebook1.ipynb",
      "provenance": [],
      "collapsed_sections": [],
      "authorship_tag": "ABX9TyMf8m4w4weyeZA1fGQ1jEdx",
      "include_colab_link": true
    },
    "kernelspec": {
      "name": "python3",
      "display_name": "Python 3"
    }
  },
  "cells": [
    {
      "cell_type": "markdown",
      "metadata": {
        "id": "view-in-github",
        "colab_type": "text"
      },
      "source": [
        "<a href=\"https://colab.research.google.com/github/Izzy55/STOCK-MARKET-PREDICTION/blob/master/Copy_of_StockMarketPredictionNotebook1.ipynb\" target=\"_parent\"><img src=\"https://colab.research.google.com/assets/colab-badge.svg\" alt=\"Open In Colab\"/></a>"
      ]
    },
    {
      "cell_type": "code",
      "metadata": {
        "id": "uwRjW-qRCBC2",
        "colab_type": "code",
        "colab": {
          "base_uri": "https://localhost:8080/",
          "height": 88
        },
        "outputId": "625aac83-db78-469a-8a61-8dcaa3872868"
      },
      "source": [
        "%tensorflow_version 1.x\n",
        "\n",
        "from pandas_datareader import data\n",
        "import matplotlib.pyplot as plt\n",
        "import pandas as pd\n",
        "import datetime as dt\n",
        "import urllib.request, json \n",
        "import os\n",
        "import numpy as np\n",
        "import tensorflow as tf \n",
        "from sklearn.preprocessing import MinMaxScaler"
      ],
      "execution_count": null,
      "outputs": [
        {
          "output_type": "stream",
          "text": [
            "TensorFlow 1.x selected.\n"
          ],
          "name": "stdout"
        },
        {
          "output_type": "stream",
          "text": [
            "/usr/local/lib/python3.6/dist-packages/pandas_datareader/compat/__init__.py:7: FutureWarning: pandas.util.testing is deprecated. Use the functions in the public API at pandas.testing instead.\n",
            "  from pandas.util.testing import assert_frame_equal\n"
          ],
          "name": "stderr"
        }
      ]
    },
    {
      "cell_type": "code",
      "metadata": {
        "id": "3fCyzZPJCCPC",
        "colab_type": "code",
        "colab": {
          "base_uri": "https://localhost:8080/",
          "height": 51
        },
        "outputId": "154528b7-f67e-4c43-b229-29525f932cf2"
      },
      "source": [
        "api_key = '9CU08VA5IYTPJ0CH'\n",
        "\n",
        "# ticker for stock market prices\n",
        "ticker = \"AAL\" \n",
        "\n",
        "# JSON file with all the stock market data for AAL within the last 20 years\n",
        "url_string = \"https://www.alphavantage.co/query?function=TIME_SERIES_DAILY&symbol=%s&outputsize=full&apikey=%s\"%(ticker,api_key)\n",
        "print(url_string)\n",
        "# Save data to this file\n",
        "file_to_save = 'stock_market_data-%s.csv'%ticker\n",
        "\n",
        "# If data not already saved,\n",
        "# retrieve the data from the url\n",
        "# And store date, low, high, volume, close, open values to a Pandas dataframe\n",
        "if not os.path.exists(file_to_save):\n",
        "  with urllib.request.urlopen(url_string) as url:\n",
        "      data = json.loads(url.read().decode())\n",
        "      # extract stock market data\n",
        "      data = data['Time Series (Daily)']\n",
        "      df = pd.DataFrame(columns=['Date','Low','High','Close','Open'])\n",
        "      for k,v in data.items():\n",
        "          date = dt.datetime.strptime(k, '%Y-%m-%d')\n",
        "          data_row = [date.date(),float(v['3. low']),float(v['2. high']),\n",
        "                      float(v['4. close']),float(v['1. open'])]\n",
        "          df.loc[-1,:] = data_row\n",
        "          df.index = df.index + 1\n",
        "  print('Data saved to : %s'%file_to_save)        \n",
        "  df.to_csv(file_to_save)\n",
        "\n",
        "# If the data is already there, load it from the CSV\n",
        "else:\n",
        "  print('File already exists. Loading data from CSV')\n",
        "  df = pd.read_csv(file_to_save)\n",
        "\n"
      ],
      "execution_count": null,
      "outputs": [
        {
          "output_type": "stream",
          "text": [
            "https://www.alphavantage.co/query?function=TIME_SERIES_DAILY&symbol=AAL&outputsize=full&apikey=9CU08VA5IYTPJ0CH\n",
            "Data saved to : stock_market_data-AAL.csv\n"
          ],
          "name": "stdout"
        }
      ]
    },
    {
      "cell_type": "code",
      "metadata": {
        "id": "L5L1BUtWMEQL",
        "colab_type": "code",
        "colab": {}
      },
      "source": [
        ""
      ],
      "execution_count": null,
      "outputs": []
    },
    {
      "cell_type": "code",
      "metadata": {
        "id": "jZIg6YodMEuT",
        "colab_type": "code",
        "colab": {
          "base_uri": "https://localhost:8080/",
          "height": 204
        },
        "outputId": "a3ec64ae-8a9c-4dfc-e1e3-0772914cd5fa"
      },
      "source": [
        "# Sort DataFrame by date and print first 5 rows\n",
        "\n",
        "df = df.sort_values('Date')\n",
        "\n",
        "df.head()"
      ],
      "execution_count": null,
      "outputs": [
        {
          "output_type": "execute_result",
          "data": {
            "text/html": [
              "<div>\n",
              "<style scoped>\n",
              "    .dataframe tbody tr th:only-of-type {\n",
              "        vertical-align: middle;\n",
              "    }\n",
              "\n",
              "    .dataframe tbody tr th {\n",
              "        vertical-align: top;\n",
              "    }\n",
              "\n",
              "    .dataframe thead th {\n",
              "        text-align: right;\n",
              "    }\n",
              "</style>\n",
              "<table border=\"1\" class=\"dataframe\">\n",
              "  <thead>\n",
              "    <tr style=\"text-align: right;\">\n",
              "      <th></th>\n",
              "      <th>Date</th>\n",
              "      <th>Low</th>\n",
              "      <th>High</th>\n",
              "      <th>Close</th>\n",
              "      <th>Open</th>\n",
              "    </tr>\n",
              "  </thead>\n",
              "  <tbody>\n",
              "    <tr>\n",
              "      <th>0</th>\n",
              "      <td>2005-09-27</td>\n",
              "      <td>19.1</td>\n",
              "      <td>21.4</td>\n",
              "      <td>19.3</td>\n",
              "      <td>21.05</td>\n",
              "    </tr>\n",
              "    <tr>\n",
              "      <th>1</th>\n",
              "      <td>2005-09-28</td>\n",
              "      <td>19.2</td>\n",
              "      <td>20.53</td>\n",
              "      <td>20.5</td>\n",
              "      <td>19.3</td>\n",
              "    </tr>\n",
              "    <tr>\n",
              "      <th>2</th>\n",
              "      <td>2005-09-29</td>\n",
              "      <td>20.1</td>\n",
              "      <td>20.58</td>\n",
              "      <td>20.21</td>\n",
              "      <td>20.4</td>\n",
              "    </tr>\n",
              "    <tr>\n",
              "      <th>3</th>\n",
              "      <td>2005-09-30</td>\n",
              "      <td>20.18</td>\n",
              "      <td>21.05</td>\n",
              "      <td>21.01</td>\n",
              "      <td>20.26</td>\n",
              "    </tr>\n",
              "    <tr>\n",
              "      <th>4</th>\n",
              "      <td>2005-10-03</td>\n",
              "      <td>20.9</td>\n",
              "      <td>21.75</td>\n",
              "      <td>21.5</td>\n",
              "      <td>20.9</td>\n",
              "    </tr>\n",
              "  </tbody>\n",
              "</table>\n",
              "</div>"
            ],
            "text/plain": [
              "         Date    Low   High  Close   Open\n",
              "0  2005-09-27   19.1   21.4   19.3  21.05\n",
              "1  2005-09-28   19.2  20.53   20.5   19.3\n",
              "2  2005-09-29   20.1  20.58  20.21   20.4\n",
              "3  2005-09-30  20.18  21.05  21.01  20.26\n",
              "4  2005-10-03   20.9  21.75   21.5   20.9"
            ]
          },
          "metadata": {
            "tags": []
          },
          "execution_count": 3
        }
      ]
    },
    {
      "cell_type": "code",
      "metadata": {
        "id": "fDf0Os2rME54",
        "colab_type": "code",
        "colab": {
          "base_uri": "https://localhost:8080/",
          "height": 34
        },
        "outputId": "30174f00-b229-4e8e-95e1-ca693d177422"
      },
      "source": [
        "#Look at Shape\n",
        "\n",
        "df.shape"
      ],
      "execution_count": null,
      "outputs": [
        {
          "output_type": "execute_result",
          "data": {
            "text/plain": [
              "(3759, 5)"
            ]
          },
          "metadata": {
            "tags": []
          },
          "execution_count": 4
        }
      ]
    },
    {
      "cell_type": "code",
      "metadata": {
        "id": "E_VuV-BMMFER",
        "colab_type": "code",
        "colab": {
          "base_uri": "https://localhost:8080/",
          "height": 173
        },
        "outputId": "0371bc2b-5f87-4e83-ce72-a7372a9027b1"
      },
      "source": [
        "#General Summary\n",
        "\n",
        "df.describe(include='all')"
      ],
      "execution_count": null,
      "outputs": [
        {
          "output_type": "execute_result",
          "data": {
            "text/html": [
              "<div>\n",
              "<style scoped>\n",
              "    .dataframe tbody tr th:only-of-type {\n",
              "        vertical-align: middle;\n",
              "    }\n",
              "\n",
              "    .dataframe tbody tr th {\n",
              "        vertical-align: top;\n",
              "    }\n",
              "\n",
              "    .dataframe thead th {\n",
              "        text-align: right;\n",
              "    }\n",
              "</style>\n",
              "<table border=\"1\" class=\"dataframe\">\n",
              "  <thead>\n",
              "    <tr style=\"text-align: right;\">\n",
              "      <th></th>\n",
              "      <th>Date</th>\n",
              "      <th>Low</th>\n",
              "      <th>High</th>\n",
              "      <th>Close</th>\n",
              "      <th>Open</th>\n",
              "    </tr>\n",
              "  </thead>\n",
              "  <tbody>\n",
              "    <tr>\n",
              "      <th>count</th>\n",
              "      <td>3759</td>\n",
              "      <td>3759.0</td>\n",
              "      <td>3759.0</td>\n",
              "      <td>3759.0</td>\n",
              "      <td>3759.0</td>\n",
              "    </tr>\n",
              "    <tr>\n",
              "      <th>unique</th>\n",
              "      <td>3759</td>\n",
              "      <td>2547.0</td>\n",
              "      <td>2634.0</td>\n",
              "      <td>2606.0</td>\n",
              "      <td>2525.0</td>\n",
              "    </tr>\n",
              "    <tr>\n",
              "      <th>top</th>\n",
              "      <td>2008-01-28</td>\n",
              "      <td>33.0</td>\n",
              "      <td>9.1</td>\n",
              "      <td>42.3</td>\n",
              "      <td>47.4</td>\n",
              "    </tr>\n",
              "    <tr>\n",
              "      <th>freq</th>\n",
              "      <td>1</td>\n",
              "      <td>6.0</td>\n",
              "      <td>6.0</td>\n",
              "      <td>6.0</td>\n",
              "      <td>6.0</td>\n",
              "    </tr>\n",
              "  </tbody>\n",
              "</table>\n",
              "</div>"
            ],
            "text/plain": [
              "              Date     Low    High   Close    Open\n",
              "count         3759  3759.0  3759.0  3759.0  3759.0\n",
              "unique        3759  2547.0  2634.0  2606.0  2525.0\n",
              "top     2008-01-28    33.0     9.1    42.3    47.4\n",
              "freq             1     6.0     6.0     6.0     6.0"
            ]
          },
          "metadata": {
            "tags": []
          },
          "execution_count": 5
        }
      ]
    },
    {
      "cell_type": "code",
      "metadata": {
        "id": "E_QfiCHUNDMD",
        "colab_type": "code",
        "colab": {
          "base_uri": "https://localhost:8080/",
          "height": 221
        },
        "outputId": "c3df535d-a182-4295-b541-cf26cf36d36e"
      },
      "source": [
        "#column summaries\n",
        "\n",
        "df.info()"
      ],
      "execution_count": null,
      "outputs": [
        {
          "output_type": "stream",
          "text": [
            "<class 'pandas.core.frame.DataFrame'>\n",
            "Int64Index: 3759 entries, 0 to 3758\n",
            "Data columns (total 5 columns):\n",
            " #   Column  Non-Null Count  Dtype \n",
            "---  ------  --------------  ----- \n",
            " 0   Date    3759 non-null   object\n",
            " 1   Low     3759 non-null   object\n",
            " 2   High    3759 non-null   object\n",
            " 3   Close   3759 non-null   object\n",
            " 4   Open    3759 non-null   object\n",
            "dtypes: object(5)\n",
            "memory usage: 176.2+ KB\n"
          ],
          "name": "stdout"
        }
      ]
    },
    {
      "cell_type": "code",
      "metadata": {
        "id": "RYFyDGjGNDaC",
        "colab_type": "code",
        "colab": {}
      },
      "source": [
        ""
      ],
      "execution_count": null,
      "outputs": []
    },
    {
      "cell_type": "code",
      "metadata": {
        "id": "HS3M76OmNDjQ",
        "colab_type": "code",
        "colab": {
          "base_uri": "https://localhost:8080/",
          "height": 451
        },
        "outputId": "64d6c289-dd72-4082-c3bf-f5a0ebe8b1f6"
      },
      "source": [
        "#Plot Visualization\n",
        "\n",
        "plt.figure(figsize = (12,6))\n",
        "plt.plot(range(df.shape[0]),(df['Low']+df['High'])/2.0)\n",
        "plt.xticks(range(0,df.shape[0],500),df['Date'].loc[::500],rotation=45)\n",
        "plt.xlabel('Date',fontsize=18)\n",
        "plt.ylabel('Mid Price',fontsize=18)"
      ],
      "execution_count": null,
      "outputs": [
        {
          "output_type": "execute_result",
          "data": {
            "text/plain": [
              "Text(0, 0.5, 'Mid Price')"
            ]
          },
          "metadata": {
            "tags": []
          },
          "execution_count": 7
        },
        {
          "output_type": "display_data",
          "data": {
            "image/png": "[encoded data removed]",
            "text/plain": [
              "<Figure size 864x432 with 1 Axes>"
            ]
          },
          "metadata": {
            "tags": [],
            "needs_background": "light"
          }
        }
      ]
    },
    {
      "cell_type": "code",
      "metadata": {
        "id": "puO36qYeNDry",
        "colab_type": "code",
        "colab": {}
      },
      "source": [
        ""
      ],
      "execution_count": null,
      "outputs": []
    },
    {
      "cell_type": "markdown",
      "metadata": {
        "id": "b1ZdXzGO2sTr",
        "colab_type": "text"
      },
      "source": [
        "Now we have to devide the data into test and train set and standardize the data for training"
      ]
    },
    {
      "cell_type": "code",
      "metadata": {
        "id": "WIL1ZjKW2wBe",
        "colab_type": "code",
        "colab": {
          "base_uri": "https://localhost:8080/",
          "height": 119
        },
        "outputId": "cdae7fa8-b127-449e-e042-3563f476d2b8"
      },
      "source": [
        "df.count()"
      ],
      "execution_count": null,
      "outputs": [
        {
          "output_type": "execute_result",
          "data": {
            "text/plain": [
              "Date     3759\n",
              "Low      3759\n",
              "High     3759\n",
              "Close    3759\n",
              "Open     3759\n",
              "dtype: int64"
            ]
          },
          "metadata": {
            "tags": []
          },
          "execution_count": 8
        }
      ]
    },
    {
      "cell_type": "code",
      "metadata": {
        "id": "RPfYox9520st",
        "colab_type": "code",
        "colab": {}
      },
      "source": [
        "train_test_split_i = 3230\n",
        "high_prices = df['High'].to_numpy()\n",
        "low_prices = df['Low'].to_numpy()\n",
        "mid_prices = (high_prices+low_prices)/2.0"
      ],
      "execution_count": null,
      "outputs": []
    },
    {
      "cell_type": "code",
      "metadata": {
        "id": "6PccNs9ru_4s",
        "colab_type": "code",
        "colab": {}
      },
      "source": [
        "# Split data training vs testing\n",
        "train_data = mid_prices[:train_test_split_i]\n",
        "test_data = mid_prices[train_test_split_i:]"
      ],
      "execution_count": null,
      "outputs": []
    },
    {
      "cell_type": "code",
      "metadata": {
        "id": "Nwfamds6vADY",
        "colab_type": "code",
        "colab": {}
      },
      "source": [
        "# Normalize data\n",
        "scaler = MinMaxScaler()\n",
        "train_data = train_data.reshape(-1,1)\n",
        "test_data = test_data.reshape(-1,1)"
      ],
      "execution_count": null,
      "outputs": []
    },
    {
      "cell_type": "code",
      "metadata": {
        "id": "o73MwbDBvAHZ",
        "colab_type": "code",
        "colab": {}
      },
      "source": [
        "# Smoothing\n",
        "smoothing_window_size = 800\n",
        "for di in range(0, 3200, smoothing_window_size):\n",
        "    scaler.fit(train_data[di:di+smoothing_window_size,:])\n",
        "    train_data[di:di+smoothing_window_size,:]=scaler.transform(train_data[di:di+smoothing_window_size,:])\n",
        "scaler.fit(train_data[di+smoothing_window_size:,:])\n",
        "train_data[di+smoothing_window_size:,:] = scaler.transform(train_data[di+smoothing_window_size:,:])"
      ],
      "execution_count": null,
      "outputs": []
    },
    {
      "cell_type": "code",
      "metadata": {
        "id": "7njljSgRvAMM",
        "colab_type": "code",
        "colab": {}
      },
      "source": [
        "# Reshape data\n",
        "train_data = train_data.reshape(-1)"
      ],
      "execution_count": null,
      "outputs": []
    },
    {
      "cell_type": "code",
      "metadata": {
        "id": "DCCU2CQLvAPX",
        "colab_type": "code",
        "colab": {}
      },
      "source": [
        "# Normalize test data\n",
        "test_data = scaler.transform(test_data).reshape(-1)"
      ],
      "execution_count": null,
      "outputs": []
    },
    {
      "cell_type": "code",
      "metadata": {
        "id": "GS2bH0-DvASq",
        "colab_type": "code",
        "colab": {}
      },
      "source": [
        "# EMA\n",
        "EMA = 0.0\n",
        "gamma = 0.1\n",
        "for ti in range(train_test_split_i):\n",
        "    EMA = gamma*train_data[ti] + (1-gamma)*EMA\n",
        "    train_data[ti] = EMA\n",
        "all_mid_data = np.concatenate([train_data,test_data],axis=0)"
      ],
      "execution_count": null,
      "outputs": []
    },
    {
      "cell_type": "code",
      "metadata": {
        "id": "F9tlI7P2vAWY",
        "colab_type": "code",
        "colab": {}
      },
      "source": [
        "# Long Short-Term Memory models\n",
        "class DataGeneratorSeq(object):\n",
        "    def __init__(self, prices, batch_size, num_unroll):\n",
        "        self._prices = prices\n",
        "        self._prices_length = len(self._prices)-num_unroll\n",
        "        self._batch_size = batch_size\n",
        "        self._num_unroll = num_unroll\n",
        "        self._segments = self._prices_length//self._batch_size\n",
        "        self._cursor = [offset * self._segments for offset in range(self._batch_size)]\n",
        "         \n",
        "    def next_batch(self):\n",
        "        batch_data = np.zeros((self._batch_size),dtype=np.float32)\n",
        "        batch_labels = np.zeros((self._batch_size),dtype=np.float32)\n",
        "         \n",
        "        for b in range(self._batch_size):\n",
        "            if self._cursor[b]+1>=self._prices_length:\n",
        "                self._cursor[b] = np.random.randint(0,(b+1)*self._segments)\n",
        "            batch_data[b] = self._prices[self._cursor[b]]\n",
        "            batch_labels[b] = self._prices[self._cursor[b]+np.random.randint(0,5)]\n",
        "            self._cursor[b] = (self._cursor[b]+1)%self._prices_length\n",
        "        return batch_data, batch_labels\n",
        "     \n",
        "    def unroll_batches(self):\n",
        "        unroll_data, unroll_labels = [], []\n",
        "        init_data, init_label = None, None\n",
        "        for ui in range(self._num_unroll):\n",
        "            data, labels = self.next_batch()\n",
        "            unroll_data.append(data)\n",
        "            unroll_labels.append(labels)\n",
        "        return unroll_data, unroll_labels\n",
        "    def reset_indices(self):\n",
        "        for b in range(self._batch_size):\n",
        "            self._cursor[b] = np.random.randint(0,min((b+1)*self._segments,self._prices_length-1))"
      ],
      "execution_count": null,
      "outputs": []
    },
    {
      "cell_type": "code",
      "metadata": {
        "id": "iwauParyvYx3",
        "colab_type": "code",
        "colab": {}
      },
      "source": [
        "dg = DataGeneratorSeq(train_data,5,5)\n",
        "u_data, u_labels = dg.unroll_batches()"
      ],
      "execution_count": null,
      "outputs": []
    },
    {
      "cell_type": "code",
      "metadata": {
        "id": "af0taJ8XvY3Q",
        "colab_type": "code",
        "colab": {
          "base_uri": "https://localhost:8080/",
          "height": 357
        },
        "outputId": "215e6475-2982-4483-91c3-6f6596bac920"
      },
      "source": [
        "for ui, (dat,lbl) in enumerate(zip(u_data,u_labels)):\n",
        "    print('\\nUnrolled index %d' %ui)\n",
        "    print('\\tInputs: ', dat)\n",
        "    print('\\tOutputs: ', lbl)"
      ],
      "execution_count": null,
      "outputs": [
        {
          "output_type": "stream",
          "text": [
            "\n",
            "Unrolled index 0\n",
            "\tInputs:  [0.03039658 0.11386113 0.9086873  0.22098817 0.5297762 ]\n",
            "\tOutputs:  [0.08195353 0.10582841 0.9019714  0.21745555 0.5297762 ]\n",
            "\n",
            "Unrolled index 1\n",
            "\tInputs:  [0.05712127 0.11038207 0.9052055  0.21936335 0.5306424 ]\n",
            "\tOutputs:  [0.12644066 0.10658476 0.89662695 0.2150911  0.5212461 ]\n",
            "\n",
            "Unrolled index 2\n",
            "\tInputs:  [0.08195353 0.10770252 0.9019714  0.21857075 0.5305746 ]\n",
            "\tOutputs:  [0.10475415 0.10770252 0.8982064  0.2150911  0.50966275]\n",
            "\n",
            "Unrolled index 3\n",
            "\tInputs:  [0.10475415 0.10637474 0.8982064  0.21745555 0.5278946 ]\n",
            "\tOutputs:  [0.18349193 0.10637474 0.8982064  0.21437539 0.5149388 ]\n",
            "\n",
            "Unrolled index 4\n",
            "\tInputs:  [0.12644066 0.10582841 0.89662695 0.21628703 0.5212461 ]\n",
            "\tOutputs:  [0.1470177  0.10897837 0.89463466 0.21628703 0.504144  ]\n"
          ],
          "name": "stdout"
        }
      ]
    },
    {
      "cell_type": "code",
      "metadata": {
        "id": "dYPg9lbGvY7A",
        "colab_type": "code",
        "colab": {}
      },
      "source": [
        "D = 1 # Dimensionality of the data\n",
        "num_unrollings = 50 # Number of time steps into the future\n",
        "batch_size = 500 # Number of samples in a batch\n",
        "num_nodes = [200, 200, 150] # Number of hidden nodes in each layer of the deep LSTM stack\n",
        "n_layers = len(num_nodes) # Number of layers\n",
        "dropout = 0.2 # Dropout amount"
      ],
      "execution_count": null,
      "outputs": []
    },
    {
      "cell_type": "code",
      "metadata": {
        "id": "KWCplwdVvY-M",
        "colab_type": "code",
        "colab": {}
      },
      "source": [
        "# Reinitialize\n",
        "tf.reset_default_graph()"
      ],
      "execution_count": null,
      "outputs": []
    },
    {
      "cell_type": "code",
      "metadata": {
        "id": "7812TwWNvZB4",
        "colab_type": "code",
        "colab": {}
      },
      "source": [
        "# Inputs\n",
        "train_inputs = [tf.placeholder(tf.float32, shape=[batch_size,D],name='train_inputs_%d'%ui) for ui in range(num_unrollings)]\n",
        "train_outputs = [tf.placeholder(tf.float32, shape=[batch_size,1], name = 'train_outputs_%d'%ui) for ui in range(num_unrollings)]"
      ],
      "execution_count": null,
      "outputs": []
    },
    {
      "cell_type": "code",
      "metadata": {
        "id": "GtcsZSCPvZFM",
        "colab_type": "code",
        "colab": {
          "base_uri": "https://localhost:8080/",
          "height": 275
        },
        "outputId": "ba22e95c-3b43-4a5d-9444-54319ee21ddf"
      },
      "source": [
        "# Set up the LSTM and Regression layers\n",
        "lstm_cells = [\n",
        "    tf.contrib.rnn.LSTMCell(num_units=num_nodes[li],\n",
        "                           state_is_tuple=True,\n",
        "                           initializer=tf.contrib.layers.xavier_initializer())\n",
        "    for li in range(n_layers)]\n",
        " \n",
        "drop_lstm_cells = [\n",
        "    tf.contrib.rnn.DropoutWrapper(lstm, input_keep_prob=1.0,\n",
        "                                 output_keep_prob=1.0-dropout,\n",
        "                                 state_keep_prob=1.0-dropout)\n",
        "    for lstm in lstm_cells]\n",
        "drop_multi_cell = tf.contrib.rnn.MultiRNNCell(drop_lstm_cells)\n",
        "multi_cell = tf.contrib.rnn.MultiRNNCell(lstm_cells)"
      ],
      "execution_count": null,
      "outputs": [
        {
          "output_type": "stream",
          "text": [
            "WARNING:tensorflow:\n",
            "The TensorFlow contrib module will not be included in TensorFlow 2.0.\n",
            "For more information, please see:\n",
            "  * https://github.com/tensorflow/community/blob/master/rfcs/20180907-contrib-sunset.md\n",
            "  * https://github.com/tensorflow/addons\n",
            "  * https://github.com/tensorflow/io (for I/O related ops)\n",
            "If you depend on functionality not listed there, please file an issue.\n",
            "\n",
            "WARNING:tensorflow:From <ipython-input-22-fb89578c81ad>:6: LSTMCell.__init__ (from tensorflow.python.ops.rnn_cell_impl) is deprecated and will be removed in a future version.\n",
            "Instructions for updating:\n",
            "This class is equivalent as tf.keras.layers.LSTMCell, and will be replaced by that in Tensorflow 2.0.\n",
            "WARNING:tensorflow:From <ipython-input-22-fb89578c81ad>:13: MultiRNNCell.__init__ (from tensorflow.python.ops.rnn_cell_impl) is deprecated and will be removed in a future version.\n",
            "Instructions for updating:\n",
            "This class is equivalent as tf.keras.layers.StackedRNNCells, and will be replaced by that in Tensorflow 2.0.\n"
          ],
          "name": "stdout"
        }
      ]
    },
    {
      "cell_type": "code",
      "metadata": {
        "id": "iXvkwfUUvZIe",
        "colab_type": "code",
        "colab": {}
      },
      "source": [
        "# LSTM layers\n",
        "w = tf.get_variable('w',shape=[num_nodes[-1],1],\n",
        "                   initializer=tf.contrib.layers.xavier_initializer())\n",
        "# Linear regression layer\n",
        "b = tf.get_variable('b',initializer=tf.random_uniform([1],-0.1,0.1))\n",
        " \n",
        "# Cell state and hidden state\n",
        "c = [tf.Variable(tf.zeros([batch_size, num_nodes[li]]), trainable=False) for li in range(n_layers)]\n",
        "h = [tf.Variable(tf.zeros([batch_size, num_nodes[li]]), trainable=False) for li in range(n_layers)]\n",
        "initial_state = [tf.contrib.rnn.LSTMStateTuple(c[li], h[li]) for li in range(n_layers)]"
      ],
      "execution_count": null,
      "outputs": []
    },
    {
      "cell_type": "code",
      "metadata": {
        "id": "Hxbmd8sbvZLb",
        "colab_type": "code",
        "colab": {
          "base_uri": "https://localhost:8080/",
          "height": 190
        },
        "outputId": "da9b3773-155b-4deb-ba41-d9609c637b46"
      },
      "source": [
        "# Formatting\n",
        "all_inputs = tf.concat([tf.expand_dims(t,0) for t in train_inputs], axis=0)\n",
        "all_lstm_outputs, state = tf.nn.dynamic_rnn(\n",
        "    drop_multi_cell, all_inputs, initial_state=tuple(initial_state),\n",
        "    time_major=True, dtype=tf.float32)\n",
        "all_lstm_outputs = tf.reshape(all_lstm_outputs, [batch_size*num_unrollings, num_nodes[-1]])\n",
        " \n",
        "all_outputs = tf.nn.xw_plus_b(all_lstm_outputs, w, b)\n",
        "split_outputs = tf.split(all_outputs,num_unrollings, axis=0)"
      ],
      "execution_count": null,
      "outputs": [
        {
          "output_type": "stream",
          "text": [
            "WARNING:tensorflow:From <ipython-input-24-7d3786cefeb0>:5: dynamic_rnn (from tensorflow.python.ops.rnn) is deprecated and will be removed in a future version.\n",
            "Instructions for updating:\n",
            "Please use `keras.layers.RNN(cell)`, which is equivalent to this API\n",
            "WARNING:tensorflow:From /tensorflow-1.15.2/python3.6/tensorflow_core/python/ops/rnn_cell_impl.py:958: Layer.add_variable (from tensorflow.python.keras.engine.base_layer) is deprecated and will be removed in a future version.\n",
            "Instructions for updating:\n",
            "Please use `layer.add_weight` method instead.\n",
            "WARNING:tensorflow:From /tensorflow-1.15.2/python3.6/tensorflow_core/python/ops/rnn_cell_impl.py:962: calling Zeros.__init__ (from tensorflow.python.ops.init_ops) with dtype is deprecated and will be removed in a future version.\n",
            "Instructions for updating:\n",
            "Call initializer instance with the dtype argument instead of passing it to the constructor\n"
          ],
          "name": "stdout"
        }
      ]
    },
    {
      "cell_type": "code",
      "metadata": {
        "id": "DIjgC7MZwIA1",
        "colab_type": "code",
        "colab": {}
      },
      "source": [
        "# Training loss\n",
        "# Mean Squared Error (MSE)\n",
        "loss = 0.0\n",
        "with tf.control_dependencies([tf.assign(c[li],state[li][0]) for li in range(n_layers)]+\n",
        "                            [tf.assign(h[li],state[li][1]) for li in range(n_layers)]):\n",
        "    loss += sum([tf.reduce_mean(0.5*(split_outputs[ui]-train_outputs[ui])**2) for ui in range(num_unrollings)])\n",
        " \n",
        "global_step = tf.Variable(0, trainable=False)\n",
        "inc_gstep = tf.assign(global_step, global_step+1)\n",
        "tf_learning_rate = tf.placeholder(shape=None, dtype=tf.float32)\n",
        "tf_min_learning_rate = tf.placeholder(shape=None, dtype=tf.float32)\n",
        " \n",
        "learning_rate = tf.maximum(\n",
        "    tf.train.exponential_decay(tf_learning_rate,global_step,\n",
        "                               decay_steps=1, decay_rate=0.5,\n",
        "                              staircase=True),\n",
        "    tf_min_learning_rate)"
      ],
      "execution_count": null,
      "outputs": []
    },
    {
      "cell_type": "code",
      "metadata": {
        "id": "KaRUFzS9wIEI",
        "colab_type": "code",
        "colab": {
          "base_uri": "https://localhost:8080/",
          "height": 88
        },
        "outputId": "50445d59-4266-4b32-8a62-29a1af875776"
      },
      "source": [
        "# Optimizer\n",
        "optimizer = tf.train.AdamOptimizer(learning_rate)\n",
        "gradients, v = zip(*optimizer.compute_gradients(loss))\n",
        "gradients, _ = tf.clip_by_global_norm(gradients, 5.0)\n",
        "optimizer = optimizer.apply_gradients(zip(gradients,v))"
      ],
      "execution_count": null,
      "outputs": [
        {
          "output_type": "stream",
          "text": [
            "WARNING:tensorflow:From /tensorflow-1.15.2/python3.6/tensorflow_core/python/ops/math_grad.py:1375: where (from tensorflow.python.ops.array_ops) is deprecated and will be removed in a future version.\n",
            "Instructions for updating:\n",
            "Use tf.where in 2.0, which has the same broadcast rule as np.where\n"
          ],
          "name": "stdout"
        }
      ]
    },
    {
      "cell_type": "code",
      "metadata": {
        "id": "ra305YbpwIHh",
        "colab_type": "code",
        "colab": {}
      },
      "source": [
        "# Defining prediction related TF calculations\n",
        "sample_inputs = tf.placeholder(tf.float32, shape=[1,D])\n",
        "sample_c = [tf.Variable(tf.zeros([1, num_nodes[li]]), trainable=False) for li in range(n_layers)]\n",
        "sample_h = [tf.Variable(tf.zeros([1, num_nodes[li]]), trainable=False) for li in range(n_layers)]\n",
        "initial_sample_state = [tf.contrib.rnn.LSTMStateTuple(sample_c[li],sample_h[li]) for li in range(n_layers)]\n",
        " \n",
        "reset_sample_states = tf.group(*[[tf.assign(sample_c[li],tf.zeros([1, num_nodes[li]])) for li in range(n_layers)]+\n",
        "                               [tf.assign(sample_h[li],tf.zeros([1, num_nodes[li]])) for li in range(n_layers)]])\n",
        "sample_outputs, sample_state = tf.nn.dynamic_rnn(multi_cell, tf.expand_dims(sample_inputs,0),\n",
        "                                                initial_state=tuple(initial_sample_state),\n",
        "                                                time_major=True,\n",
        "                                                dtype=tf.float32)\n",
        "with tf.control_dependencies([tf.assign(sample_c[li],sample_state[li][0]) for li in range(n_layers)]+\n",
        "                            [tf.assign(sample_h[li], sample_state[li][1]) for li in range(n_layers)]):\n",
        "    sample_prediction = tf.nn.xw_plus_b(tf.reshape(sample_outputs,[1,-1]),w,b)"
      ],
      "execution_count": null,
      "outputs": []
    },
    {
      "cell_type": "code",
      "metadata": {
        "id": "ARqdI4NnwINW",
        "colab_type": "code",
        "colab": {}
      },
      "source": [
        "# Initialise before Running\n",
        "epochs = 30\n",
        "valid_summary = 1\n",
        "n_predict_once = 50\n",
        "train_seq_length = train_data.size\n",
        "train_mse_ot = []\n",
        "test_mse_ot = []\n",
        "predictions_over_time = []\n",
        " \n",
        "session = tf.InteractiveSession()\n",
        "tf.global_variables_initializer().run()\n",
        "loss_nondecrease_count = 0\n",
        "loss_nondecrease_threshold = 2\n",
        "average_loss = 0\n",
        " \n",
        "data_gen = DataGeneratorSeq(train_data,batch_size,num_unrollings)\n",
        "x_axis_seq = []\n",
        "test_points_seq = np.arange(train_test_split_i,train_test_split_i+100,n_predict_once).tolist()"
      ],
      "execution_count": null,
      "outputs": []
    },
    {
      "cell_type": "code",
      "metadata": {
        "id": "j5czSeTewITW",
        "colab_type": "code",
        "colab": {
          "base_uri": "https://localhost:8080/",
          "height": 1000
        },
        "outputId": "02fc6064-d0a9-433a-90b6-e87659f5046d"
      },
      "source": [
        "for ep in range(epochs):\n",
        "    # =================== Training =======================\n",
        "    for step in range(train_seq_length//batch_size):\n",
        "        u_data, u_labels = data_gen.unroll_batches()\n",
        "        feed_dict = {}\n",
        "        for ui, (dat,lbl) in enumerate(zip(u_data,u_labels)):\n",
        "            feed_dict[train_inputs[ui]] = dat.reshape(-1,1)\n",
        "            feed_dict[train_outputs[ui]] = lbl.reshape(-1,1)\n",
        "        feed_dict.update({tf_learning_rate: 0.0001, tf_min_learning_rate:0.000001})\n",
        "        _, l = session.run([optimizer, loss], feed_dict=feed_dict)\n",
        "        average_loss += l\n",
        "    # =================== Validation =======================\n",
        "    if (ep+1) % valid_summary == 0:\n",
        "        average_loss = average_loss/(valid_summary*(train_seq_length//batch_size))\n",
        "        if (ep+1)%valid_summary==0:\n",
        "            print('Average loss at step %d: %f' %(ep+1, average_loss))\n",
        "        train_mse_ot.append(average_loss)\n",
        "        average_loss = 0\n",
        "        predictions_seq, mse_test_loss_seq = [], []\n",
        "    # =================== Update and make prediction =======================\n",
        "    for w_i in test_points_seq:\n",
        "        mse_test_loss = 0.0\n",
        "        our_predictions = []\n",
        "        if (ep+1)-valid_summary==0:\n",
        "            x_axis=[]\n",
        "        for tr_i in range(w_i-num_unrollings+1, w_i-1):\n",
        "            current_price = all_mid_data[tr_i]\n",
        "            feed_dict[sample_inputs] = np.array(current_price).reshape(1,1)\n",
        "            _ = session.run(sample_prediction, feed_dict=feed_dict)\n",
        "         \n",
        "        feed_dict = {}\n",
        "        current_price = all_mid_data[w_i-1]\n",
        "        feed_dict[sample_inputs] = np.array(current_price).reshape(1,1)\n",
        "        for pred_i in range(n_predict_once):\n",
        "            pred = session.run(sample_prediction, feed_dict=feed_dict)\n",
        "            our_predictions.append(np.asscalar(pred))\n",
        "            feed_dict[sample_inputs] = np.asarray(pred).reshape(-1,1)\n",
        "            if (ep+1)-valid_summary==0:\n",
        "                x_axis.append(w_i+pred_i)\n",
        "            mse_test_loss += 0.5 *(pred-all_mid_data[w_i+pred_i])**2\n",
        "        session.run(reset_sample_states)\n",
        "        predictions_seq.append(np.array(our_predictions))\n",
        "        mse_test_loss/=n_predict_once\n",
        "        mse_test_loss_seq.append(mse_test_loss)\n",
        "        if (ep+1)-valid_summary==0:\n",
        "            x_axis_seq.append(x_axis)\n",
        "    current_test_mse = np.mean(mse_test_loss_seq)\n",
        "     \n",
        "    # learning rate decay logic\n",
        "    if len(test_mse_ot)>0 and current_test_mse>min(test_mse_ot):\n",
        "        loss_nondecrease_count += 1\n",
        "    else:\n",
        "        loss_nondecrease_count = 0\n",
        "     \n",
        "    if loss_nondecrease_count > loss_nondecrease_threshold:\n",
        "        session.run(inc_gstep)\n",
        "        loss_nondecrease_count = 0\n",
        "        # Decreasing learning rate by 0.5\n",
        "    test_mse_ot.append(current_test_mse)\n",
        "    print('\\tTest MSE: %.5f'%np.mean(mse_test_loss_seq))\n",
        "    predictions_over_time.append(predictions_seq)\n",
        "    print('\\tFinished Predictions') "
      ],
      "execution_count": null,
      "outputs": [
        {
          "output_type": "stream",
          "text": [
            "Average loss at step 1: 3.560909\n"
          ],
          "name": "stdout"
        },
        {
          "output_type": "stream",
          "text": [
            "/usr/local/lib/python3.6/dist-packages/ipykernel_launcher.py:36: DeprecationWarning: np.asscalar(a) is deprecated since NumPy v1.16, use a.item() instead\n"
          ],
          "name": "stderr"
        },
        {
          "output_type": "stream",
          "text": [
            "\tTest MSE: 0.10107\n",
            "\tFinished Predictions\n",
            "Average loss at step 2: 1.032883\n",
            "\tTest MSE: 0.19390\n",
            "\tFinished Predictions\n",
            "Average loss at step 3: 0.686213\n",
            "\tTest MSE: 0.30414\n",
            "\tFinished Predictions\n",
            "Average loss at step 4: 0.418531\n",
            "\tTest MSE: 0.15024\n",
            "\tFinished Predictions\n",
            "Average loss at step 5: 0.279075\n",
            "\tTest MSE: 0.16358\n",
            "\tFinished Predictions\n",
            "Average loss at step 6: 0.221030\n",
            "\tTest MSE: 0.19671\n",
            "\tFinished Predictions\n",
            "Average loss at step 7: 0.214286\n",
            "\tTest MSE: 0.17298\n",
            "\tFinished Predictions\n",
            "Average loss at step 8: 0.203611\n",
            "\tTest MSE: 0.16826\n",
            "\tFinished Predictions\n",
            "Average loss at step 9: 0.187727\n",
            "\tTest MSE: 0.17528\n",
            "\tFinished Predictions\n",
            "Average loss at step 10: 0.180531\n",
            "\tTest MSE: 0.18067\n",
            "\tFinished Predictions\n",
            "Average loss at step 11: 0.177550\n",
            "\tTest MSE: 0.17785\n",
            "\tFinished Predictions\n",
            "Average loss at step 12: 0.172277\n",
            "\tTest MSE: 0.17313\n",
            "\tFinished Predictions\n",
            "Average loss at step 13: 0.171574\n",
            "\tTest MSE: 0.17114\n",
            "\tFinished Predictions\n",
            "Average loss at step 14: 0.167168\n",
            "\tTest MSE: 0.17256\n",
            "\tFinished Predictions\n",
            "Average loss at step 15: 0.158737\n",
            "\tTest MSE: 0.17517\n",
            "\tFinished Predictions\n",
            "Average loss at step 16: 0.157469\n",
            "\tTest MSE: 0.17636\n",
            "\tFinished Predictions\n",
            "Average loss at step 17: 0.151081\n",
            "\tTest MSE: 0.17665\n",
            "\tFinished Predictions\n",
            "Average loss at step 18: 0.161643\n",
            "\tTest MSE: 0.17663\n",
            "\tFinished Predictions\n",
            "Average loss at step 19: 0.160588\n",
            "\tTest MSE: 0.17596\n",
            "\tFinished Predictions\n",
            "Average loss at step 20: 0.155690\n",
            "\tTest MSE: 0.17593\n",
            "\tFinished Predictions\n",
            "Average loss at step 21: 0.157968\n",
            "\tTest MSE: 0.17600\n",
            "\tFinished Predictions\n",
            "Average loss at step 22: 0.160597\n",
            "\tTest MSE: 0.17574\n",
            "\tFinished Predictions\n",
            "Average loss at step 23: 0.153246\n",
            "\tTest MSE: 0.17565\n",
            "\tFinished Predictions\n",
            "Average loss at step 24: 0.169096\n",
            "\tTest MSE: 0.17553\n",
            "\tFinished Predictions\n",
            "Average loss at step 25: 0.151436\n",
            "\tTest MSE: 0.17541\n",
            "\tFinished Predictions\n",
            "Average loss at step 26: 0.155006\n",
            "\tTest MSE: 0.17545\n",
            "\tFinished Predictions\n",
            "Average loss at step 27: 0.155064\n",
            "\tTest MSE: 0.17538\n",
            "\tFinished Predictions\n",
            "Average loss at step 28: 0.148368\n",
            "\tTest MSE: 0.17537\n",
            "\tFinished Predictions\n",
            "Average loss at step 29: 0.156953\n",
            "\tTest MSE: 0.17566\n",
            "\tFinished Predictions\n",
            "Average loss at step 30: 0.164194\n",
            "\tTest MSE: 0.17574\n",
            "\tFinished Predictions\n"
          ],
          "name": "stdout"
        }
      ]
    },
    {
      "cell_type": "code",
      "metadata": {
        "id": "N0RLcagKwIYo",
        "colab_type": "code",
        "colab": {
          "base_uri": "https://localhost:8080/",
          "height": 299
        },
        "outputId": "98e62b16-8f9c-49bf-e306-fb92d6ec70d5"
      },
      "source": [
        "# Plot\n",
        " \n",
        "best_prediction_epoch = 2\n",
        " \n",
        "plt.plot(range(df.shape[0]),all_mid_data,color='b')\n",
        "for xval,yval in zip(x_axis_seq,predictions_over_time[best_prediction_epoch]):\n",
        "    plt.plot(xval,yval,color='r')\n",
        "plt.title('Best Test Predictions Over Time', fontsize=18)\n",
        "plt.xlabel('Date',fontsize=10)\n",
        "plt.ylabel('Mid Price',fontsize=10)\n",
        "plt.xlim(train_test_split_i,len(df))\n",
        "plt.show()"
      ],
      "execution_count": null,
      "outputs": [
        {
          "output_type": "display_data",
          "data": {
            "image/png": "[encoded data removed]",
            "text/plain": [
              "<Figure size 432x288 with 1 Axes>"
            ]
          },
          "metadata": {
            "tags": [],
            "needs_background": "light"
          }
        }
      ]
    },
    {
      "cell_type": "markdown",
      "metadata": {
        "id": "WLIsa6Bzblmb",
        "colab_type": "text"
      },
      "source": [
        "## Decision Tree Regression Model and Linear Regression Model"
      ]
    },
    {
      "cell_type": "code",
      "metadata": {
        "id": "oLQ672F1bYKK",
        "colab_type": "code",
        "colab": {}
      },
      "source": [
        "# Import necessary models from sklearn\n",
        "\n",
        "from sklearn.tree import DecisionTreeRegressor\n",
        "from sklearn.linear_model import LinearRegression\n",
        "from sklearn.model_selection import train_test_split\n",
        "from sklearn.metrics import mean_squared_error"
      ],
      "execution_count": null,
      "outputs": []
    },
    {
      "cell_type": "code",
      "metadata": {
        "id": "_ZJ-lQUObYO7",
        "colab_type": "code",
        "colab": {
          "base_uri": "https://localhost:8080/",
          "height": 340
        },
        "outputId": "da11a53f-a30e-469d-a191-ab04e2735b68"
      },
      "source": [
        "# re-look at the initial data\n",
        "\n",
        "print(df.info())\n",
        "print(df.head())"
      ],
      "execution_count": null,
      "outputs": [
        {
          "output_type": "stream",
          "text": [
            "<class 'pandas.core.frame.DataFrame'>\n",
            "Int64Index: 3759 entries, 0 to 3758\n",
            "Data columns (total 5 columns):\n",
            " #   Column  Non-Null Count  Dtype \n",
            "---  ------  --------------  ----- \n",
            " 0   Date    3759 non-null   object\n",
            " 1   Low     3759 non-null   object\n",
            " 2   High    3759 non-null   object\n",
            " 3   Close   3759 non-null   object\n",
            " 4   Open    3759 non-null   object\n",
            "dtypes: object(5)\n",
            "memory usage: 176.2+ KB\n",
            "None\n",
            "         Date    Low   High  Close   Open\n",
            "0  2005-09-27   19.1   21.4   19.3  21.05\n",
            "1  2005-09-28   19.2  20.53   20.5   19.3\n",
            "2  2005-09-29   20.1  20.58  20.21   20.4\n",
            "3  2005-09-30  20.18  21.05  21.01  20.26\n",
            "4  2005-10-03   20.9  21.75   21.5   20.9\n"
          ],
          "name": "stdout"
        }
      ]
    },
    {
      "cell_type": "code",
      "metadata": {
        "id": "cu9SpcOebYTx",
        "colab_type": "code",
        "colab": {
          "base_uri": "https://localhost:8080/",
          "height": 34
        },
        "outputId": "bf361a43-97d7-40fe-8a1f-51b3efb03bbd"
      },
      "source": [
        "# number of rows = number of trading days\n",
        "\n",
        "print(df.shape)"
      ],
      "execution_count": null,
      "outputs": [
        {
          "output_type": "stream",
          "text": [
            "(3759, 5)\n"
          ],
          "name": "stdout"
        }
      ]
    },
    {
      "cell_type": "code",
      "metadata": {
        "id": "5Fmk4fYDbYY1",
        "colab_type": "code",
        "colab": {
          "base_uri": "https://localhost:8080/",
          "height": 404
        },
        "outputId": "06866676-cded-494e-c31e-2999f7d68c5b"
      },
      "source": [
        "# Prediction to be made on close price data\n",
        "# Visualisation of close price\n",
        "\n",
        "plt.figure(figsize=(12,6))\n",
        "plt.title('Stock Price Close')\n",
        "plt.xlabel('Days')\n",
        "plt.ylabel('Close Price')\n",
        "plt.plot(df['Close'])\n",
        "plt.show()"
      ],
      "execution_count": null,
      "outputs": [
        {
          "output_type": "display_data",
          "data": {
            "image/png": "[encoded data removed]",
            "text/plain": [
              "<Figure size 864x432 with 1 Axes>"
            ]
          },
          "metadata": {
            "tags": [],
            "needs_background": "light"
          }
        }
      ]
    },
    {
      "cell_type": "code",
      "metadata": {
        "id": "kRs40Dm7bYcW",
        "colab_type": "code",
        "colab": {
          "base_uri": "https://localhost:8080/",
          "height": 119
        },
        "outputId": "49fafdb6-43db-418a-fb98-b72958135827"
      },
      "source": [
        "# Create close price only dataframe\n",
        "\n",
        "close_df = df[['Close']]\n",
        "print(close_df.head())"
      ],
      "execution_count": null,
      "outputs": [
        {
          "output_type": "stream",
          "text": [
            "   Close\n",
            "0   19.3\n",
            "1   20.5\n",
            "2  20.21\n",
            "3  21.01\n",
            "4   21.5\n"
          ],
          "name": "stdout"
        }
      ]
    },
    {
      "cell_type": "code",
      "metadata": {
        "id": "OVE5-4RgbYhv",
        "colab_type": "code",
        "colab": {
          "base_uri": "https://localhost:8080/",
          "height": 221
        },
        "outputId": "6eb9c04f-f4da-47fa-cf50-40d6607a48d0"
      },
      "source": [
        "# Define Variables\n",
        "\n",
        "days_to_future = 30    # Days into future model will predict into\n",
        "\n",
        "# Add target column to close_df with data for price shifted 'days_to_future' ahead\n",
        "close_df['Prediction'] = df[['Close']].shift(-days_to_future)\n",
        "print(close_df.head())"
      ],
      "execution_count": null,
      "outputs": [
        {
          "output_type": "stream",
          "text": [
            "   Close Prediction\n",
            "0   19.3      29.43\n",
            "1   20.5       31.3\n",
            "2  20.21       32.8\n",
            "3  21.01      33.35\n",
            "4   21.5      33.75\n"
          ],
          "name": "stdout"
        },
        {
          "output_type": "stream",
          "text": [
            "/usr/local/lib/python3.6/dist-packages/ipykernel_launcher.py:6: SettingWithCopyWarning: \n",
            "A value is trying to be set on a copy of a slice from a DataFrame.\n",
            "Try using .loc[row_indexer,col_indexer] = value instead\n",
            "\n",
            "See the caveats in the documentation: https://pandas.pydata.org/pandas-docs/stable/user_guide/indexing.html#returning-a-view-versus-a-copy\n",
            "  \n"
          ],
          "name": "stderr"
        }
      ]
    },
    {
      "cell_type": "code",
      "metadata": {
        "id": "1sk99m7UcHyc",
        "colab_type": "code",
        "colab": {
          "base_uri": "https://localhost:8080/",
          "height": 119
        },
        "outputId": "0a3e8e3a-44e4-4647-852f-6df7367be008"
      },
      "source": [
        "# Verify predictions for end of dataframe are NaN\n",
        "print(close_df.tail())"
      ],
      "execution_count": null,
      "outputs": [
        {
          "output_type": "stream",
          "text": [
            "       Close Prediction\n",
            "3754  12.785        NaN\n",
            "3755   13.28        NaN\n",
            "3756   13.59        NaN\n",
            "3757   13.05        NaN\n",
            "3758    13.1        NaN\n"
          ],
          "name": "stdout"
        }
      ]
    },
    {
      "cell_type": "code",
      "metadata": {
        "id": "Tie77I5TcIPR",
        "colab_type": "code",
        "colab": {
          "base_uri": "https://localhost:8080/",
          "height": 204
        },
        "outputId": "6785c2f1-ecaa-4ae3-b35b-f1fde842d63d"
      },
      "source": [
        "# Create feature dataset 'X'\n",
        "# Leave off last 'days_to_future' rows\n",
        "\n",
        "X = np.array(close_df.drop(['Prediction'], 1))[:-days_to_future]\n",
        "print(X[:10])\n",
        "print(X.shape)"
      ],
      "execution_count": null,
      "outputs": [
        {
          "output_type": "stream",
          "text": [
            "[[19.3]\n",
            " [20.5]\n",
            " [20.21]\n",
            " [21.01]\n",
            " [21.5]\n",
            " [22.16]\n",
            " [22.2]\n",
            " [22.58]\n",
            " [22.15]\n",
            " [22.21]]\n",
            "(3729, 1)\n"
          ],
          "name": "stdout"
        }
      ]
    },
    {
      "cell_type": "code",
      "metadata": {
        "id": "3RgtLlUNcIZX",
        "colab_type": "code",
        "colab": {
          "base_uri": "https://localhost:8080/",
          "height": 204
        },
        "outputId": "779a1eff-1557-4066-d8bd-ac62c1bbfa24"
      },
      "source": [
        "# Create target dataset 'y'\n",
        "# Leave off last 'days_to_future' rows\n",
        "\n",
        "y = np.array(close_df.drop(['Close'], 1))[:-days_to_future]\n",
        "print(y[:10])\n",
        "print(y.shape)"
      ],
      "execution_count": null,
      "outputs": [
        {
          "output_type": "stream",
          "text": [
            "[[29.43]\n",
            " [31.3]\n",
            " [32.8]\n",
            " [33.35]\n",
            " [33.75]\n",
            " [33.88]\n",
            " [33.6]\n",
            " [34.32]\n",
            " [33.05]\n",
            " [31.99]]\n",
            "(3729, 1)\n"
          ],
          "name": "stdout"
        }
      ]
    },
    {
      "cell_type": "code",
      "metadata": {
        "id": "AlDhy66QcIgt",
        "colab_type": "code",
        "colab": {}
      },
      "source": [
        "# Split data into 20% test and 80% train data\n",
        "X_train, X_test, y_train, y_test = train_test_split(X, y, test_size = 0.20)"
      ],
      "execution_count": null,
      "outputs": []
    },
    {
      "cell_type": "code",
      "metadata": {
        "id": "GdnQBl8wcIoR",
        "colab_type": "code",
        "colab": {
          "base_uri": "https://localhost:8080/",
          "height": 34
        },
        "outputId": "4d1217ca-ccb9-4846-8013-7c82357d6977"
      },
      "source": [
        "# Create Decision Tree Regressor model\n",
        "\n",
        "tree_model = DecisionTreeRegressor()\n",
        "tree_model.fit(X_train, y_train)\n",
        "tree_pred = tree_model.predict(X_test)\n",
        "tree_mse = mean_squared_error(y_test, tree_pred)\n",
        "print(tree_mse)"
      ],
      "execution_count": null,
      "outputs": [
        {
          "output_type": "stream",
          "text": [
            "34.04857085732276\n"
          ],
          "name": "stdout"
        }
      ]
    },
    {
      "cell_type": "code",
      "metadata": {
        "id": "zNie3u9BcIvF",
        "colab_type": "code",
        "colab": {
          "base_uri": "https://localhost:8080/",
          "height": 34
        },
        "outputId": "be2872b4-be84-458d-f8e5-bd66c6f21d8e"
      },
      "source": [
        "# Create Linear Regression model\n",
        "\n",
        "linear = LinearRegression()\n",
        "linear.fit(X_train, y_train)\n",
        "linear_pred = linear.predict(X_test)\n",
        "linear_mse = mean_squared_error(y_test, linear_pred)\n",
        "print(linear_mse)"
      ],
      "execution_count": null,
      "outputs": [
        {
          "output_type": "stream",
          "text": [
            "20.66502699460449\n"
          ],
          "name": "stdout"
        }
      ]
    },
    {
      "cell_type": "code",
      "metadata": {
        "id": "-kQUB8jLckXM",
        "colab_type": "code",
        "colab": {
          "base_uri": "https://localhost:8080/",
          "height": 527
        },
        "outputId": "c195e7dc-aef8-4c92-e614-2f0ec6961f11"
      },
      "source": [
        "future_days = close_df.drop(['Prediction'], 1)[:-days_to_future]\n",
        "future_days = future_days.tail(days_to_future)\n",
        "future_days = np.array(future_days)\n",
        "print(future_days)"
      ],
      "execution_count": null,
      "outputs": [
        {
          "output_type": "stream",
          "text": [
            "[[18.55]\n",
            " [17.02]\n",
            " [14.38]\n",
            " [16.74]\n",
            " [16.7]\n",
            " [17.03]\n",
            " [16.98]\n",
            " [16.49]\n",
            " [16.0]\n",
            " [14.92]\n",
            " [14.0]\n",
            " [13.04]\n",
            " [13.17]\n",
            " [12.38]\n",
            " [13.32]\n",
            " [13.07]\n",
            " [12.81]\n",
            " [12.5]\n",
            " [12.8]\n",
            " [11.91]\n",
            " [11.99]\n",
            " [11.18]\n",
            " [11.94]\n",
            " [11.63]\n",
            " [11.57]\n",
            " [13.44]\n",
            " [12.45]\n",
            " [11.91]\n",
            " [11.47]\n",
            " [11.47]]\n"
          ],
          "name": "stdout"
        }
      ]
    },
    {
      "cell_type": "code",
      "metadata": {
        "id": "rxVJ21YAckgQ",
        "colab_type": "code",
        "colab": {
          "base_uri": "https://localhost:8080/",
          "height": 102
        },
        "outputId": "3e48855b-550d-4bb6-c025-dd50b778acee"
      },
      "source": [
        "# Predict with Decision Tree Model\n",
        "tree_predict = tree_model.predict(future_days)\n",
        "print(tree_predict)"
      ],
      "execution_count": null,
      "outputs": [
        {
          "output_type": "stream",
          "text": [
            "[13.95       11.77       11.39       11.39       11.77       11.4\n",
            " 14.12       11.12       11.08       13.495      16.67       13.04\n",
            " 11.92       14.24       13.885      13.54       13.3        12.96333333\n",
            " 12.62       13.095      10.415      12.55666667 12.16       13.44\n",
            " 12.24       13.6725     13.28       13.095      11.6875     11.6875    ]\n"
          ],
          "name": "stdout"
        }
      ]
    },
    {
      "cell_type": "code",
      "metadata": {
        "id": "kMTDcR7ecklX",
        "colab_type": "code",
        "colab": {
          "base_uri": "https://localhost:8080/",
          "height": 527
        },
        "outputId": "bd760e9d-905f-444e-e3bf-7759d47211d2"
      },
      "source": [
        "# Preduct with Linear Regression Model\n",
        "\n",
        "linear_predict = linear.predict(future_days)\n",
        "print(linear_predict)"
      ],
      "execution_count": null,
      "outputs": [
        {
          "output_type": "stream",
          "text": [
            "[[18.73637189]\n",
            " [17.26376757]\n",
            " [14.72280326]\n",
            " [16.99427136]\n",
            " [16.9557719 ]\n",
            " [17.27339244]\n",
            " [17.22526811]\n",
            " [16.75364974]\n",
            " [16.28203136]\n",
            " [15.24254596]\n",
            " [14.35705839]\n",
            " [13.43307137]\n",
            " [13.55819461]\n",
            " [12.79783029]\n",
            " [13.70256759]\n",
            " [13.46194596]\n",
            " [13.21169948]\n",
            " [12.91332867]\n",
            " [13.20207461]\n",
            " [12.34546164]\n",
            " [12.42246056]\n",
            " [11.64284651]\n",
            " [12.37433624]\n",
            " [12.07596543]\n",
            " [12.01821624]\n",
            " [13.81806596]\n",
            " [12.86520435]\n",
            " [12.34546164]\n",
            " [11.92196759]\n",
            " [11.92196759]]\n"
          ],
          "name": "stdout"
        }
      ]
    },
    {
      "cell_type": "code",
      "metadata": {
        "id": "R-h6klZPckpl",
        "colab_type": "code",
        "colab": {
          "base_uri": "https://localhost:8080/",
          "height": 51
        },
        "outputId": "7dc5fc23-d173-4dda-cc74-637941ed42d2"
      },
      "source": [
        "# Future Prediction MSE, linear and decision tree\n",
        "\n",
        "future_tree_mse = mean_squared_error(future_days, tree_predict)\n",
        "future_linear_mse = mean_squared_error(future_days, linear_predict)\n",
        "\n",
        "print('30 Day Tree Future Prediction MSE: ', future_tree_mse)\n",
        "print('30 Day Linear Future Prediction MSE: ', future_linear_mse)"
      ],
      "execution_count": null,
      "outputs": [
        {
          "output_type": "stream",
          "text": [
            "30 Day Tree Future Prediction MSE:  7.683799421296295\n",
            "30 Day Linear Future Prediction MSE:  0.1402720233447883\n"
          ],
          "name": "stdout"
        }
      ]
    },
    {
      "cell_type": "code",
      "metadata": {
        "id": "rT5HKcC3ckuG",
        "colab_type": "code",
        "colab": {
          "base_uri": "https://localhost:8080/",
          "height": 506
        },
        "outputId": "cb05fdd9-c34c-441d-ff90-cb66e31b360d"
      },
      "source": [
        "# Visualization of results\n",
        "\n",
        "predictions = tree_predict\n",
        "\n",
        "validation = close_df[X.shape[0]:]\n",
        "validation['Predictions'] = predictions\n",
        "\n",
        "plt.figure(figsize=(12,6))\n",
        "plt.title('Model Predictions')\n",
        "plt.xlabel('Days')\n",
        "plt.ylabel('Predictions')\n",
        "plt.plot(close_df['Close'].iloc[3600:])\n",
        "plt.plot(validation[['Close', 'Predictions']])\n",
        "plt.legend(['Observed', 'Validated', 'Predicted'])\n",
        "plt.show()"
      ],
      "execution_count": null,
      "outputs": [
        {
          "output_type": "stream",
          "text": [
            "/usr/local/lib/python3.6/dist-packages/ipykernel_launcher.py:6: SettingWithCopyWarning: \n",
            "A value is trying to be set on a copy of a slice from a DataFrame.\n",
            "Try using .loc[row_indexer,col_indexer] = value instead\n",
            "\n",
            "See the caveats in the documentation: https://pandas.pydata.org/pandas-docs/stable/user_guide/indexing.html#returning-a-view-versus-a-copy\n",
            "  \n"
          ],
          "name": "stderr"
        },
        {
          "output_type": "display_data",
          "data": {
            "image/png": "[encoded data removed]",
            "text/plain": [
              "<Figure size 864x432 with 1 Axes>"
            ]
          },
          "metadata": {
            "tags": [],
            "needs_background": "light"
          }
        }
      ]
    },
    {
      "cell_type": "code",
      "metadata": {
        "id": "822puL-7ckyL",
        "colab_type": "code",
        "colab": {
          "base_uri": "https://localhost:8080/",
          "height": 506
        },
        "outputId": "ffc1ba47-8659-4a9a-9105-ac02258810e6"
      },
      "source": [
        "# Visualize Linear Model Results\n",
        "\n",
        "lpredictions = linear_predict\n",
        "\n",
        "validation = close_df[X.shape[0]:]\n",
        "validation['Predictions'] = lpredictions\n",
        "\n",
        "plt.figure(figsize=(12,6))\n",
        "plt.title('Model Predictions')\n",
        "plt.xlabel('Days')\n",
        "plt.ylabel('Predictions')\n",
        "plt.plot(close_df['Close'].iloc[3600:])\n",
        "plt.plot(validation[['Close', 'Predictions']])\n",
        "plt.legend(['Observed', 'Validated', 'Predicted'])\n",
        "plt.show()"
      ],
      "execution_count": null,
      "outputs": [
        {
          "output_type": "stream",
          "text": [
            "/usr/local/lib/python3.6/dist-packages/ipykernel_launcher.py:6: SettingWithCopyWarning: \n",
            "A value is trying to be set on a copy of a slice from a DataFrame.\n",
            "Try using .loc[row_indexer,col_indexer] = value instead\n",
            "\n",
            "See the caveats in the documentation: https://pandas.pydata.org/pandas-docs/stable/user_guide/indexing.html#returning-a-view-versus-a-copy\n",
            "  \n"
          ],
          "name": "stderr"
        },
        {
          "output_type": "display_data",
          "data": {
            "image/png": "[encoded data removed]",
            "text/plain": [
              "<Figure size 864x432 with 1 Axes>"
            ]
          },
          "metadata": {
            "tags": [],
            "needs_background": "light"
          }
        }
      ]
    },
    {
      "cell_type": "markdown",
      "metadata": {
        "id": "VEzJw8HydK0c",
        "colab_type": "text"
      },
      "source": [
        "## XG Boost Model"
      ]
    },
    {
      "cell_type": "code",
      "metadata": {
        "id": "qK6Xs0v1cIz8",
        "colab_type": "code",
        "colab": {
          "base_uri": "https://localhost:8080/",
          "height": 34
        },
        "outputId": "960a3974-98c0-43f0-d935-8e4d07c306d1"
      },
      "source": [
        "import xgboost as xgb\n",
        "\n",
        "# Convert the training and testing sets into DMatrixes: DM_train, DM_test\n",
        "DM_train = xgb.DMatrix(data=X_train, label=y_train)\n",
        "DM_test =  xgb.DMatrix(data=X_test, label=y_test)\n",
        "\n",
        "\n",
        "# Create the parameter dictionary: params\n",
        "params = {\"objective\":\"reg:squarederror\"}\n",
        "\n",
        "# Train the model: xg_reg\n",
        "xg_reg = xgb.train(params = params, dtrain=DM_train, num_boost_round=5)\n",
        "\n",
        "# Predict the labels of the test set: preds\n",
        "preds = xg_reg.predict(DM_test)\n",
        "\n",
        "# Compute and print the RMSE\n",
        "xgb_mse = mean_squared_error(X_test,preds)\n",
        "print(\"MSE: %f\" % (xgb_mse))"
      ],
      "execution_count": null,
      "outputs": [
        {
          "output_type": "stream",
          "text": [
            "MSE: 33.327067\n"
          ],
          "name": "stdout"
        }
      ]
    },
    {
      "cell_type": "code",
      "metadata": {
        "id": "XTwYcrXTbYoR",
        "colab_type": "code",
        "colab": {
          "base_uri": "https://localhost:8080/",
          "height": 153
        },
        "outputId": "f5b3d234-311d-421b-82a9-7152ab6acdbd"
      },
      "source": [
        "# Cross Validation with XGBoost\n",
        "\n",
        "# Create the DMatrix: xgb_dmatrix\n",
        "xgb_dmatrix = xgb.DMatrix(data=X, label=y)\n",
        "\n",
        "# Create the parameter dictionary: params\n",
        "params = {\"objective\":\"reg:squarederror\", \"max_depth\":4}\n",
        "\n",
        "# Perform cross-validation: cv_results\n",
        "cv_results = xgb.cv(dtrain=xgb_dmatrix, params=params, nfold=4, num_boost_round=5, metrics='rmse', as_pandas=True, seed=123)\n",
        "\n",
        "# Print cv_results\n",
        "print(cv_results)\n",
        "\n",
        "# Extract and print final boosting round metric\n",
        "print((cv_results[\"test-rmse-mean\"]).tail(1))"
      ],
      "execution_count": null,
      "outputs": [
        {
          "output_type": "stream",
          "text": [
            "   train-rmse-mean  train-rmse-std  test-rmse-mean  test-rmse-std\n",
            "0        22.005149        0.104944       22.009114       0.325622\n",
            "1        15.732067        0.072543       15.741010       0.246265\n",
            "2        11.443512        0.049982       11.472296       0.179282\n",
            "3         8.577700        0.034461        8.628646       0.145326\n",
            "4         6.729688        0.023624        6.808218       0.113456\n",
            "4    6.808218\n",
            "Name: test-rmse-mean, dtype: float64\n"
          ],
          "name": "stdout"
        }
      ]
    },
    {
      "cell_type": "code",
      "metadata": {
        "id": "FOt-S1MQdTQi",
        "colab_type": "code",
        "colab": {
          "base_uri": "https://localhost:8080/",
          "height": 102
        },
        "outputId": "8ca3d15f-7d6b-4fd2-b43a-e5f9cf63fb02"
      },
      "source": [
        "# Hyperparameter tuning using RandomizedSearchCV\n",
        "\n",
        "from sklearn.model_selection import RandomizedSearchCV\n",
        "\n",
        "# Create the parameter grid: gbm_param_grid \n",
        "gbm_param_grid = {\n",
        "    'colsample_bytree': np.arange(0.2, 0.7, 0.1),\n",
        "    'learning_rate': np.arange(0.04, 1, 0.02),\n",
        "    'max_depth': np.arange(3, 10, 1),\n",
        "    'n_estimators': np.arange(50, 200, 50)\n",
        "\n",
        "}\n",
        "\n",
        "# Instantiate the regressor: gbm\n",
        "rs_gbm = xgb.XGBRegressor(objective=\"reg:squarederror\", n_estimators=10)\n",
        "\n",
        "# Perform random search: grid_mse\n",
        "randomized_mse = RandomizedSearchCV(param_distributions=gbm_param_grid, estimator=rs_gbm, scoring=\"neg_mean_squared_error\", verbose=1, n_iter=5, cv=4)\n",
        "\n",
        "\n",
        "# Fit randomized_mse to the data\n",
        "randomized_mse.fit(X,y)\n",
        "\n",
        "# Print the best parameters and lowest RMSE\n",
        "print(\"Best parameters found: \", randomized_mse.best_params_)\n",
        "print(\"Lowest RMSE found: \", np.sqrt(np.abs(randomized_mse.best_score_)))"
      ],
      "execution_count": null,
      "outputs": [
        {
          "output_type": "stream",
          "text": [
            "Fitting 4 folds for each of 5 candidates, totalling 20 fits\n"
          ],
          "name": "stdout"
        },
        {
          "output_type": "stream",
          "text": [
            "[Parallel(n_jobs=1)]: Using backend SequentialBackend with 1 concurrent workers.\n"
          ],
          "name": "stderr"
        },
        {
          "output_type": "stream",
          "text": [
            "Best parameters found:  {'n_estimators': 100, 'max_depth': 3, 'learning_rate': 0.31999999999999995, 'colsample_bytree': 0.2}\n",
            "Lowest RMSE found:  5.209618529924693\n"
          ],
          "name": "stdout"
        },
        {
          "output_type": "stream",
          "text": [
            "[Parallel(n_jobs=1)]: Done  20 out of  20 | elapsed:    2.3s finished\n"
          ],
          "name": "stderr"
        }
      ]
    },
    {
      "cell_type": "code",
      "metadata": {
        "id": "WYIr54XpdTae",
        "colab_type": "code",
        "colab": {
          "base_uri": "https://localhost:8080/",
          "height": 34
        },
        "outputId": "8bb5dde0-3c52-4efb-af1c-3f9da61eca0e"
      },
      "source": [
        "# Create the parameter dictionary: params\n",
        "best_params = {\"objective\":\"reg:squarederror\", 'n_estimators': 100, 'max_depth': 3, 'learning_rate': 0.31999999999999995, 'colsample_bytree': 0.2 }\n",
        "\n",
        "# Train the model: xg_reg\n",
        "best_xg_reg = xgb.train(params = params, dtrain=DM_train, num_boost_round=5)\n",
        "\n",
        "# Predict the labels of the test set: preds\n",
        "best_preds = best_xg_reg.predict(DM_test)\n",
        "\n",
        "# Compute and print the RMSE\n",
        "best_xgb_mse = mean_squared_error(X_test,best_preds)\n",
        "print(\"RMSE: %f\" % (best_xgb_mse))"
      ],
      "execution_count": null,
      "outputs": [
        {
          "output_type": "stream",
          "text": [
            "MSE: 33.245991\n"
          ],
          "name": "stdout"
        }
      ]
    },
    {
      "cell_type": "code",
      "metadata": {
        "id": "3gPEogmxdThu",
        "colab_type": "code",
        "colab": {
          "base_uri": "https://localhost:8080/",
          "height": 404
        },
        "outputId": "056e357e-f2ff-4293-f34d-6b4ea4edc3c5"
      },
      "source": [
        "# Plot Best XGB Prediction for the final 43 days\n",
        "plt.figure(figsize=(12,6))\n",
        "plt.title('XGB Model Predictions')\n",
        "plt.xlabel('Days')\n",
        "plt.ylabel('XGB Predictions')\n",
        "plt.plot(best_preds[700:], c='red')\n",
        "plt.plot(X_test[700:], c='blue', alpha = 0.5)\n",
        "plt.show()"
      ],
      "execution_count": null,
      "outputs": [
        {
          "output_type": "display_data",
          "data": {
            "image/png": "[encoded data removed]",
            "text/plain": [
              "<Figure size 864x432 with 1 Axes>"
            ]
          },
          "metadata": {
            "tags": [],
            "needs_background": "light"
          }
        }
      ]
    },
    {
      "cell_type": "markdown",
      "metadata": {
        "id": "Iexbmto0fZWG",
        "colab_type": "text"
      },
      "source": [
        "## One step ahead prediction using Standard Averaging technique"
      ]
    },
    {
      "cell_type": "code",
      "metadata": {
        "id": "iLl3YpO4dTmU",
        "colab_type": "code",
        "colab": {
          "base_uri": "https://localhost:8080/",
          "height": 34
        },
        "outputId": "b509c8c2-bd9e-4f0f-e224-8d9b7354aebf"
      },
      "source": [
        "# One step ahead prediction using Standard Averaging technique\n",
        "\n",
        "# Define initial values and create empty arrays\n",
        "\n",
        "window_size = 50\n",
        "N = train_data.size\n",
        "\n",
        "\n",
        "std_avg_predictions = []\n",
        "std_avg_date = []\n",
        "std_mse_errors = []\n",
        "\n",
        "# Generate Predictions and append predictions, dates, and errors to correct arrays\n",
        "\n",
        "for idx in range(window_size, N):\n",
        "\n",
        "  if idx >= N:\n",
        "    date = dt.datetime.strptime(k, '%Y-%m-%d').date + dt.timedelta(days=1)\n",
        "  else:\n",
        "    date = df.loc[idx, 'Date']\n",
        "\n",
        "  std_avg_predictions.append(np.mean(train_data[idx-window_size:idx]))\n",
        "  std_mse_errors.append((std_avg_predictions[-1]-train_data[idx])**2)\n",
        "  std_avg_date.append(date)  \n",
        "\n",
        "\n",
        "# Print resulting MSE for Standard Averaging\n",
        "print('Standard Average MSE error: %.5f'%(0.5*np.mean(std_mse_errors)))"
      ],
      "execution_count": null,
      "outputs": [
        {
          "output_type": "stream",
          "text": [
            "Standard Average MSE error: 0.00410\n"
          ],
          "name": "stdout"
        }
      ]
    },
    {
      "cell_type": "code",
      "metadata": {
        "id": "O4AmEkGkdTrL",
        "colab_type": "code",
        "colab": {
          "base_uri": "https://localhost:8080/",
          "height": 388
        },
        "outputId": "dbaf00fa-1b73-43e2-c0a0-362a2d461458"
      },
      "source": [
        "# Visualize Standard Average Preduction and Actual Value on overlayed plot\n",
        "\n",
        "plt.figure(figsize=(12,6))\n",
        "plt.plot(range(df.shape[0]), all_mid_data, color='blue', label='Actual')\n",
        "plt.plot(range(window_size,N), std_avg_predictions, color = 'red', label='Predicted')\n",
        "plt.xlabel('Date')\n",
        "plt.ylabel('Mid Range Price')\n",
        "plt.legend()\n",
        "plt.show()"
      ],
      "execution_count": null,
      "outputs": [
        {
          "output_type": "display_data",
          "data": {
            "image/png": "[encoded data removed]",
            "text/plain": [
              "<Figure size 864x432 with 1 Axes>"
            ]
          },
          "metadata": {
            "tags": [],
            "needs_background": "light"
          }
        }
      ]
    },
    {
      "cell_type": "markdown",
      "metadata": {
        "id": "Xe2LbiJYfRRc",
        "colab_type": "text"
      },
      "source": [
        "## One step ahead prediction using the Exponential Moving Average"
      ]
    },
    {
      "cell_type": "code",
      "metadata": {
        "id": "hX-_P4FPdTzg",
        "colab_type": "code",
        "colab": {
          "base_uri": "https://localhost:8080/",
          "height": 34
        },
        "outputId": "4795ec8a-2003-4b66-a061-19b6c3c8b634"
      },
      "source": [
        "# One step ahead prediction using the Exponential Moving Average\n",
        "\n",
        "# Define initial values and create empty arrays \n",
        "\n",
        "window_size = 50\n",
        "N = train_data.size\n",
        "\n",
        "run_avg_predictions = []\n",
        "run_avg_dates = []\n",
        "run_mse_errors = []\n",
        "\n",
        "running_mean = 0.0     # exponential moving average\n",
        "decay = 0.5            # gamma\n",
        "\n",
        "run_avg_predictions.append(running_mean)\n",
        "\n",
        "# Generate Predictions and append predictions, dates, and errors to correct arrays\n",
        "\n",
        "for ema_idx in range(1,N):\n",
        "  running_mean = running_mean*decay + (1-decay)*train_data[ema_idx-1]\n",
        "  run_avg_predictions.append(running_mean)\n",
        "  run_mse_errors.append((run_avg_predictions[-1]-train_data[ema_idx])**2)\n",
        "  run_avg_dates.append(date)\n",
        "\n",
        "\n",
        "# Print resulting MSE for Standard Averaging\n",
        "print('Standard Average MSE error: %.5f'%(0.5*np.mean(run_mse_errors)))  "
      ],
      "execution_count": null,
      "outputs": [
        {
          "output_type": "stream",
          "text": [
            "Standard Average MSE error: 0.00007\n"
          ],
          "name": "stdout"
        }
      ]
    },
    {
      "cell_type": "code",
      "metadata": {
        "id": "vop2Uar9dT7X",
        "colab_type": "code",
        "colab": {
          "base_uri": "https://localhost:8080/",
          "height": 388
        },
        "outputId": "75822ead-3667-4107-db9b-9eb19b5c52f5"
      },
      "source": [
        "# Visualize Exponential Moving Average Preduction and Actual Value on overlayed plot\n",
        "\n",
        "plt.figure(figsize=(12,6))\n",
        "plt.plot(range(df.shape[0]), all_mid_data, color='blue', label='Actual')\n",
        "plt.plot(range(0,N), run_avg_predictions, color = 'red', label='Predicted')\n",
        "plt.xlabel('Date')\n",
        "plt.ylabel('Mid Range Price')\n",
        "plt.legend()\n",
        "plt.show()"
      ],
      "execution_count": null,
      "outputs": [
        {
          "output_type": "display_data",
          "data": {
            "image/png": "[encoded data removed]",
            "text/plain": [
              "<Figure size 864x432 with 1 Axes>"
            ]
          },
          "metadata": {
            "tags": [],
            "needs_background": "light"
          }
        }
      ]
    },
    {
      "cell_type": "markdown",
      "metadata": {
        "id": "tqZ_31FqwmBz",
        "colab_type": "text"
      },
      "source": [
        "## Part Two:\n",
        "## Prediction Accuracy Improvement with Hyperparameter Tuning of Simple Models"
      ]
    },
    {
      "cell_type": "code",
      "metadata": {
        "id": "N60kV2Xawgxi",
        "colab_type": "code",
        "colab": {
          "base_uri": "https://localhost:8080/",
          "height": 34
        },
        "outputId": "747e6473-fef8-4a7e-f863-325caf87e3ad"
      },
      "source": [
        "# Ridge Regression\n",
        "\n",
        "from sklearn import linear_model\n",
        "ridge = linear_model.Ridge(alpha=.5)\n",
        "ridge.fit(X_train, y_train)\n",
        "ridge_pred = ridge.predict(X_test)\n",
        "ridge_mse = mean_squared_error(y_test, ridge_pred)\n",
        "print(ridge_mse)\n"
      ],
      "execution_count": null,
      "outputs": [
        {
          "output_type": "stream",
          "text": [
            "20.66503109591042\n"
          ],
          "name": "stdout"
        }
      ]
    },
    {
      "cell_type": "code",
      "metadata": {
        "id": "_5QcSMhjwhEc",
        "colab_type": "code",
        "colab": {
          "base_uri": "https://localhost:8080/",
          "height": 51
        },
        "outputId": "167f9dd5-91fc-4b98-be14-e0ac5822207f"
      },
      "source": [
        "# Cross Validated RidgeCV\n",
        "\n",
        "ridge_cv = linear_model.RidgeCV(alphas=np.logspace(-6, 6, 13), cv=10)\n",
        "ridge_cv.fit(X_train, y_train)\n",
        "ridge_cv_pred = ridge_cv.predict(X_test)\n",
        "ridge_cv_mse = mean_squared_error(y_test, ridge_cv_pred)\n",
        "print(ridge_cv_mse)\n",
        "print(ridge_cv.alpha_)\n"
      ],
      "execution_count": null,
      "outputs": [
        {
          "output_type": "stream",
          "text": [
            "20.665850921818485\n",
            "100.0\n"
          ],
          "name": "stdout"
        }
      ]
    },
    {
      "cell_type": "code",
      "metadata": {
        "id": "2TdJvv1ZwhN9",
        "colab_type": "code",
        "colab": {
          "base_uri": "https://localhost:8080/",
          "height": 527
        },
        "outputId": "dc428e28-7481-4516-a86c-053bbca29bf0"
      },
      "source": [
        "# Future Predict with Ridge Model\n",
        "ridge_predict = ridge.predict(future_days)\n",
        "print(ridge_predict)"
      ],
      "execution_count": null,
      "outputs": [
        {
          "output_type": "stream",
          "text": [
            "[[18.73637668]\n",
            " [17.26377325]\n",
            " [14.72281047]\n",
            " [16.9942772 ]\n",
            " [16.95577776]\n",
            " [17.27339811]\n",
            " [17.22527382]\n",
            " [16.75365572]\n",
            " [16.28203763]\n",
            " [15.24255286]\n",
            " [14.35706583]\n",
            " [13.43307936]\n",
            " [13.55820253]\n",
            " [12.79783866]\n",
            " [13.70257541]\n",
            " [13.46195394]\n",
            " [13.2117076 ]\n",
            " [12.91333697]\n",
            " [13.20208274]\n",
            " [12.34547029]\n",
            " [12.42246916]\n",
            " [11.64285558]\n",
            " [12.37434487]\n",
            " [12.07597424]\n",
            " [12.01822508]\n",
            " [13.81807372]\n",
            " [12.86521268]\n",
            " [12.34547029]\n",
            " [11.92197649]\n",
            " [11.92197649]]\n"
          ],
          "name": "stdout"
        }
      ]
    },
    {
      "cell_type": "code",
      "metadata": {
        "id": "FF7FECkTwhYJ",
        "colab_type": "code",
        "colab": {
          "base_uri": "https://localhost:8080/",
          "height": 527
        },
        "outputId": "89b27982-e804-4b11-e3c5-1fc4d8540746"
      },
      "source": [
        "# Future Predict with Ridge CV Model\n",
        "ridge_cv_predict = ridge_cv.predict(future_days)\n",
        "print(ridge_cv_predict)"
      ],
      "execution_count": null,
      "outputs": [
        {
          "output_type": "stream",
          "text": [
            "[[18.7373304 ]\n",
            " [17.26490359]\n",
            " [14.72424556]\n",
            " [16.99543986]\n",
            " [16.95694504]\n",
            " [17.27452729]\n",
            " [17.22640877]\n",
            " [16.75484724]\n",
            " [16.28328571]\n",
            " [15.24392561]\n",
            " [14.35854478]\n",
            " [13.43466913]\n",
            " [13.55977729]\n",
            " [12.79950462]\n",
            " [13.70413286]\n",
            " [13.46354025]\n",
            " [13.21332393]\n",
            " [12.91498908]\n",
            " [13.20370022]\n",
            " [12.34719051]\n",
            " [12.42418014]\n",
            " [11.64466007]\n",
            " [12.37606162]\n",
            " [12.07772677]\n",
            " [12.01998455]\n",
            " [13.81961732]\n",
            " [12.86687056]\n",
            " [12.34719051]\n",
            " [11.9237475 ]\n",
            " [11.9237475 ]]\n"
          ],
          "name": "stdout"
        }
      ]
    },
    {
      "cell_type": "code",
      "metadata": {
        "id": "wH6j5Zs8whh7",
        "colab_type": "code",
        "colab": {
          "base_uri": "https://localhost:8080/",
          "height": 51
        },
        "outputId": "a105c510-cf52-4096-ba45-44b5c9963d69"
      },
      "source": [
        "# Future Prediction MSE, Ridge and Ridge CV\n",
        "\n",
        "future_ridge_mse = mean_squared_error(future_days, ridge_predict)\n",
        "future_ridgecv_mse = mean_squared_error(future_days, ridge_cv_predict)\n",
        "\n",
        "print('30 Day Ridge Regression Prediction MSE: ', future_ridge_mse)\n",
        "print('30 Day Cross Validated Ridge Regression Prediction MSE: ', future_ridgecv_mse)"
      ],
      "execution_count": null,
      "outputs": [
        {
          "output_type": "stream",
          "text": [
            "30 Day Ridge Regression Prediction MSE:  0.14027776076103646\n",
            "30 Day Cross Validated Ridge Regression Prediction MSE:  0.14142170990090078\n"
          ],
          "name": "stdout"
        }
      ]
    },
    {
      "cell_type": "code",
      "metadata": {
        "id": "q5r-Ishrwhrm",
        "colab_type": "code",
        "colab": {
          "base_uri": "https://localhost:8080/",
          "height": 506
        },
        "outputId": "1a657f2d-ae28-467e-9427-d681a4d1851d"
      },
      "source": [
        "# Visualize Ridge Model Results\n",
        "\n",
        "rpredictions = ridge_predict\n",
        "\n",
        "validation = close_df[X.shape[0]:]\n",
        "validation['Predictions'] = rpredictions\n",
        "\n",
        "plt.figure(figsize=(12,6))\n",
        "plt.title('Model Predictions')\n",
        "plt.xlabel('Days')\n",
        "plt.ylabel('Predictions')\n",
        "plt.plot(close_df['Close'].iloc[3600:])\n",
        "plt.plot(validation[['Close', 'Predictions']])\n",
        "plt.legend(['Observed', 'Validated', 'Predicted'])\n",
        "plt.show()"
      ],
      "execution_count": null,
      "outputs": [
        {
          "output_type": "stream",
          "text": [
            "/usr/local/lib/python3.6/dist-packages/ipykernel_launcher.py:6: SettingWithCopyWarning: \n",
            "A value is trying to be set on a copy of a slice from a DataFrame.\n",
            "Try using .loc[row_indexer,col_indexer] = value instead\n",
            "\n",
            "See the caveats in the documentation: https://pandas.pydata.org/pandas-docs/stable/user_guide/indexing.html#returning-a-view-versus-a-copy\n",
            "  \n"
          ],
          "name": "stderr"
        },
        {
          "output_type": "display_data",
          "data": {
            "image/png": "[encoded data removed]",
            "text/plain": [
              "<Figure size 864x432 with 1 Axes>"
            ]
          },
          "metadata": {
            "tags": [],
            "needs_background": "light"
          }
        }
      ]
    },
    {
      "cell_type": "code",
      "metadata": {
        "id": "SbKAotqzwh3F",
        "colab_type": "code",
        "colab": {
          "base_uri": "https://localhost:8080/",
          "height": 506
        },
        "outputId": "23ce5579-a9bc-4531-f8b9-006d042c804d"
      },
      "source": [
        "# Visualize Cross Validated Ridge Model Results\n",
        "\n",
        "rcvpredictions = ridge_cv_predict\n",
        "\n",
        "validation = close_df[X.shape[0]:]\n",
        "validation['Predictions'] = rcvpredictions\n",
        "\n",
        "plt.figure(figsize=(12,6))\n",
        "plt.title('Model Predictions')\n",
        "plt.xlabel('Days')\n",
        "plt.ylabel('Predictions')\n",
        "plt.plot(close_df['Close'].iloc[3600:])\n",
        "plt.plot(validation[['Close', 'Predictions']])\n",
        "plt.legend(['Observed', 'Validated', 'Predicted'])\n",
        "plt.show()"
      ],
      "execution_count": null,
      "outputs": [
        {
          "output_type": "stream",
          "text": [
            "/usr/local/lib/python3.6/dist-packages/ipykernel_launcher.py:6: SettingWithCopyWarning: \n",
            "A value is trying to be set on a copy of a slice from a DataFrame.\n",
            "Try using .loc[row_indexer,col_indexer] = value instead\n",
            "\n",
            "See the caveats in the documentation: https://pandas.pydata.org/pandas-docs/stable/user_guide/indexing.html#returning-a-view-versus-a-copy\n",
            "  \n"
          ],
          "name": "stderr"
        },
        {
          "output_type": "display_data",
          "data": {
            "image/png": "[encoded data removed]",
            "text/plain": [
              "<Figure size 864x432 with 1 Axes>"
            ]
          },
          "metadata": {
            "tags": [],
            "needs_background": "light"
          }
        }
      ]
    },
    {
      "cell_type": "code",
      "metadata": {
        "id": "a8DsvBL_4wi0",
        "colab_type": "code",
        "colab": {
          "base_uri": "https://localhost:8080/",
          "height": 34
        },
        "outputId": "ac1a479a-184c-4787-bcd5-4591fe516018"
      },
      "source": [
        "# Lasso\n",
        "\n",
        "clf = linear_model.Lasso(alpha=0.1)\n",
        "clf.fit(X_train, y_train)\n",
        "clf_pred = clf.predict(X_test)\n",
        "clf_mse = mean_squared_error(y_test, clf_pred)\n",
        "print(clf_mse)"
      ],
      "execution_count": null,
      "outputs": [
        {
          "output_type": "stream",
          "text": [
            "20.667605492972427\n"
          ],
          "name": "stdout"
        }
      ]
    },
    {
      "cell_type": "code",
      "metadata": {
        "id": "Nn5SABZg4w1B",
        "colab_type": "code",
        "colab": {
          "base_uri": "https://localhost:8080/",
          "height": 102
        },
        "outputId": "3cc5197f-bb28-49b9-ef32-112aaa4e60df"
      },
      "source": [
        "# Future Predict with Lasso Model\n",
        "\n",
        "clf_predict = clf.predict(future_days)\n",
        "print(clf_predict)"
      ],
      "execution_count": null,
      "outputs": [
        {
          "output_type": "stream",
          "text": [
            "[18.73934293 17.26728882 14.72727387 16.99789329 16.95940822 17.27691008\n",
            " 17.22880374 16.75736157 16.2859194  15.24682238 14.36166566 13.43802386\n",
            " 13.56310035 12.80302012 13.70741938 13.46688766 13.21673467 12.91847534\n",
            " 13.20711341 12.35082049 12.42779064 11.64846787 12.37968429 12.08142496\n",
            " 12.02369735 13.82287461 12.870369   12.35082049 11.92748466 11.92748466]\n"
          ],
          "name": "stdout"
        }
      ]
    },
    {
      "cell_type": "code",
      "metadata": {
        "id": "TgAtjs-54w-T",
        "colab_type": "code",
        "colab": {
          "base_uri": "https://localhost:8080/",
          "height": 34
        },
        "outputId": "7df6efe8-734b-4b9c-ac0f-9ea8055cee43"
      },
      "source": [
        "# Future Prediction MSE for Lasso\n",
        "\n",
        "future_clf_mse = mean_squared_error(future_days, clf_predict)\n",
        "\n",
        "print('30 Day Lasso Future Prediction MSE: ', future_clf_mse)\n"
      ],
      "execution_count": null,
      "outputs": [
        {
          "output_type": "stream",
          "text": [
            "30 Day Lasso Future Prediction MSE:  0.14385094702414003\n"
          ],
          "name": "stdout"
        }
      ]
    },
    {
      "cell_type": "code",
      "metadata": {
        "id": "E0AqL95k4xIb",
        "colab_type": "code",
        "colab": {
          "base_uri": "https://localhost:8080/",
          "height": 506
        },
        "outputId": "42313b6f-6964-4731-f836-cb504e0ad5ad"
      },
      "source": [
        "# Visualize Lasso Model Results\n",
        "\n",
        "clfpredictions = clf_predict\n",
        "\n",
        "validation = close_df[X.shape[0]:]\n",
        "validation['Predictions'] = clfpredictions\n",
        "\n",
        "plt.figure(figsize=(12,6))\n",
        "plt.title('Model Predictions')\n",
        "plt.xlabel('Days')\n",
        "plt.ylabel('Predictions')\n",
        "plt.plot(close_df['Close'].iloc[3600:])\n",
        "plt.plot(validation[['Close', 'Predictions']])\n",
        "plt.legend(['Observed', 'Validated', 'Predicted'])\n",
        "plt.show()"
      ],
      "execution_count": null,
      "outputs": [
        {
          "output_type": "stream",
          "text": [
            "/usr/local/lib/python3.6/dist-packages/ipykernel_launcher.py:6: SettingWithCopyWarning: \n",
            "A value is trying to be set on a copy of a slice from a DataFrame.\n",
            "Try using .loc[row_indexer,col_indexer] = value instead\n",
            "\n",
            "See the caveats in the documentation: https://pandas.pydata.org/pandas-docs/stable/user_guide/indexing.html#returning-a-view-versus-a-copy\n",
            "  \n"
          ],
          "name": "stderr"
        },
        {
          "output_type": "display_data",
          "data": {
            "image/png": "[encoded data removed]",
            "text/plain": [
              "<Figure size 864x432 with 1 Axes>"
            ]
          },
          "metadata": {
            "tags": [],
            "needs_background": "light"
          }
        }
      ]
    },
    {
      "cell_type": "code",
      "metadata": {
        "id": "JFcqy1zE4xSN",
        "colab_type": "code",
        "colab": {
          "base_uri": "https://localhost:8080/",
          "height": 204
        },
        "outputId": "9b7a8695-d0ba-4068-fa80-4387a6c7853b"
      },
      "source": [
        "# Decision Tree Regression with Randomized Hyperparameter Search\n",
        "\n",
        "# Create the parameter grid\n",
        "param_grid = {'max_depth': list(range(2,10)), \n",
        "              'max_features': ['auto' , 'sqrt'],\n",
        "              'criterion' : ['mse', 'mae'],\n",
        "              'splitter':['best', 'random'],\n",
        "              'min_samples_leaf': list(range(5,20))\n",
        "              } \n",
        "\n",
        "# Create a random search object\n",
        "tree_rs = RandomizedSearchCV(\n",
        "    estimator = DecisionTreeRegressor(),\n",
        "    param_distributions = param_grid, n_iter = 10,\n",
        "    scoring='neg_mean_squared_error', cv = 5, refit=True, return_train_score =True, verbose=1 )\n",
        "\n",
        "# Fit to the training data\n",
        "tree_rs.fit(X_train, y_train)\n",
        "\n",
        "# Print the values used for both hyperparameters\n",
        "print(tree_rs.cv_results_['param_max_depth'])\n",
        "print(tree_rs.cv_results_['param_max_features'])\n",
        "print(tree_rs.cv_results_['param_criterion'])\n",
        "print(tree_rs.cv_results_['param_splitter'])\n",
        "print(tree_rs.cv_results_['param_min_samples_leaf'])\n",
        "\n",
        "# Print the best parameters and lowest RMSE\n",
        "print(\"Best parameters found: \", tree_rs.best_params_)\n",
        "print(\"Lowest RMSE found: \", np.abs(tree_rs.best_score_))\n"
      ],
      "execution_count": null,
      "outputs": [
        {
          "output_type": "stream",
          "text": [
            "Fitting 5 folds for each of 10 candidates, totalling 50 fits\n"
          ],
          "name": "stdout"
        },
        {
          "output_type": "stream",
          "text": [
            "[Parallel(n_jobs=1)]: Using backend SequentialBackend with 1 concurrent workers.\n"
          ],
          "name": "stderr"
        },
        {
          "output_type": "stream",
          "text": [
            "[2 6 9 5 6 5 5 7 3 7]\n",
            "['sqrt' 'sqrt' 'auto' 'auto' 'sqrt' 'auto' 'sqrt' 'sqrt' 'auto' 'sqrt']\n",
            "['mae' 'mae' 'mse' 'mse' 'mse' 'mae' 'mse' 'mse' 'mae' 'mae']\n",
            "['random' 'random' 'random' 'random' 'best' 'random' 'random' 'random'\n",
            " 'best' 'random']\n",
            "[5 13 12 17 5 15 10 8 17 7]\n",
            "Best parameters found:  {'splitter': 'best', 'min_samples_leaf': 5, 'max_features': 'sqrt', 'max_depth': 6, 'criterion': 'mse'}\n",
            "Lowest RMSE found:  20.48575847977993\n"
          ],
          "name": "stdout"
        },
        {
          "output_type": "stream",
          "text": [
            "[Parallel(n_jobs=1)]: Done  50 out of  50 | elapsed:    0.7s finished\n"
          ],
          "name": "stderr"
        }
      ]
    },
    {
      "cell_type": "code",
      "metadata": {
        "id": "niOFrVogiSx3",
        "colab_type": "code",
        "colab": {
          "base_uri": "https://localhost:8080/",
          "height": 34
        },
        "outputId": "864befcb-d536-4f67-e5ec-ad7060a50651"
      },
      "source": [
        "#Create new Decision Tree model using best parameters\n",
        "\n",
        "# Create the parameter dictionary: params\n",
        "best_rs_params = {'splitter':'best', 'min_samples_leaf': 10, 'max_features': 'auto', 'max_depth': 5, 'criterion': 'mse'}\n",
        "\n",
        "# Train the model: xg_reg\n",
        "best_tree_rs = DecisionTreeRegressor(splitter='best', min_samples_leaf=10, max_features='auto', max_depth=5, criterion='mse')\n",
        "best_tree_rs.fit(X_train, y_train)\n",
        "\n",
        "# Predict the labels of the test set: preds\n",
        "tree_rs_preds = best_tree_rs.predict(X_test)\n",
        "\n",
        "# Compute and print the MSE\n",
        "best_treers_mse = mean_squared_error(X_test,tree_rs_preds)\n",
        "print(\"MSE: %f\" % (best_treers_mse))"
      ],
      "execution_count": null,
      "outputs": [
        {
          "output_type": "stream",
          "text": [
            "MSE: 2.914654\n"
          ],
          "name": "stdout"
        }
      ]
    },
    {
      "cell_type": "code",
      "metadata": {
        "id": "wUBxZ5ToiTLe",
        "colab_type": "code",
        "colab": {
          "base_uri": "https://localhost:8080/",
          "height": 102
        },
        "outputId": "d8d007d4-029f-4fd6-8082-1dad995c5490"
      },
      "source": [
        "# Future Prediction with Best Decision Tree Model\n",
        "\n",
        "future_tree_rs = best_tree_rs.predict(future_days)\n",
        "print(future_tree_rs)"
      ],
      "execution_count": null,
      "outputs": [
        {
          "output_type": "stream",
          "text": [
            "[16.92366667 16.92366667 12.99761745 16.92366667 16.92366667 16.92366667\n",
            " 16.92366667 16.92366667 16.92366667 12.99761745 12.99761745 12.99761745\n",
            " 12.99761745 12.99761745 12.99761745 12.99761745 12.99761745 12.99761745\n",
            " 12.99761745 11.73583333 11.73583333 11.73583333 11.73583333 11.73583333\n",
            " 11.73583333 12.99761745 12.99761745 11.73583333 11.73583333 11.73583333]\n"
          ],
          "name": "stdout"
        }
      ]
    },
    {
      "cell_type": "code",
      "metadata": {
        "id": "S04R-dciiTU1",
        "colab_type": "code",
        "colab": {
          "base_uri": "https://localhost:8080/",
          "height": 34
        },
        "outputId": "6525a85a-5592-4609-9646-9c7c9fbfa74a"
      },
      "source": [
        "# Future Prediction MSE for Best Decision Tree Model\n",
        "\n",
        "future_treers_mse = mean_squared_error(future_days, future_tree_rs)\n",
        "\n",
        "print('30 Day Best Tree Future Prediction MSE: ', future_treers_mse)"
      ],
      "execution_count": null,
      "outputs": [
        {
          "output_type": "stream",
          "text": [
            "30 Day Best Tree Future Prediction MSE:  0.4133516821396528\n"
          ],
          "name": "stdout"
        }
      ]
    },
    {
      "cell_type": "code",
      "metadata": {
        "id": "D_LHMQmaiTeY",
        "colab_type": "code",
        "colab": {
          "base_uri": "https://localhost:8080/",
          "height": 506
        },
        "outputId": "6f90df3e-e801-4498-f24f-1cbf420495c8"
      },
      "source": [
        "# Visualize Best Tree Model Results\n",
        "\n",
        "treerspredictions = future_tree_rs\n",
        "\n",
        "validation = close_df[X.shape[0]:]\n",
        "validation['Predictions'] = treerspredictions\n",
        "\n",
        "plt.figure(figsize=(12,6))\n",
        "plt.title('Model Predictions')\n",
        "plt.xlabel('Days')\n",
        "plt.ylabel('Predictions')\n",
        "plt.plot(close_df['Close'].iloc[3600:])\n",
        "plt.plot(validation[['Close', 'Predictions']])\n",
        "plt.legend(['Observed', 'Validated', 'Predicted'])\n",
        "plt.show()"
      ],
      "execution_count": null,
      "outputs": [
        {
          "output_type": "stream",
          "text": [
            "/usr/local/lib/python3.6/dist-packages/ipykernel_launcher.py:6: SettingWithCopyWarning: \n",
            "A value is trying to be set on a copy of a slice from a DataFrame.\n",
            "Try using .loc[row_indexer,col_indexer] = value instead\n",
            "\n",
            "See the caveats in the documentation: https://pandas.pydata.org/pandas-docs/stable/user_guide/indexing.html#returning-a-view-versus-a-copy\n",
            "  \n"
          ],
          "name": "stderr"
        },
        {
          "output_type": "display_data",
          "data": {
            "image/png": "[encoded data removed]",
            "text/plain": [
              "<Figure size 864x432 with 1 Axes>"
            ]
          },
          "metadata": {
            "tags": [],
            "needs_background": "light"
          }
        }
      ]
    },
    {
      "cell_type": "code",
      "metadata": {
        "id": "ZL1hVThVoT-7",
        "colab_type": "code",
        "colab": {}
      },
      "source": [
        ""
      ],
      "execution_count": null,
      "outputs": []
    },
    {
      "cell_type": "code",
      "metadata": {
        "id": "laRpRXVLoUIg",
        "colab_type": "code",
        "colab": {}
      },
      "source": [
        ""
      ],
      "execution_count": null,
      "outputs": []
    },
    {
      "cell_type": "code",
      "metadata": {
        "id": "s6lllX_xoURX",
        "colab_type": "code",
        "colab": {}
      },
      "source": [
        ""
      ],
      "execution_count": null,
      "outputs": []
    },
    {
      "cell_type": "code",
      "metadata": {
        "id": "hpiMPZIjoUaJ",
        "colab_type": "code",
        "colab": {}
      },
      "source": [
        ""
      ],
      "execution_count": null,
      "outputs": []
    },
    {
      "cell_type": "code",
      "metadata": {
        "id": "HdpOGK5g4xb0",
        "colab_type": "code",
        "colab": {}
      },
      "source": [
        ""
      ],
      "execution_count": null,
      "outputs": []
    },
    {
      "cell_type": "markdown",
      "metadata": {
        "id": "RxSnnGBebZip",
        "colab_type": "text"
      },
      "source": [
        "Referrences:\n",
        "\n",
        "https://www.programmersought.com/article/5487636739/\n",
        "\n",
        "https://wingkiwong.wordpress.com/2019/01/13/long-short-term-memory-in-time-series-data/\n",
        "\n",
        "https://towardsdatascience.com/using-lstms-for-stock-market-predictions-tensorflow-9e83999d4653\n",
        "\n",
        "https://www.thepythoncode.com/article/stock-price-prediction-in-python-using-tensorflow-2-and-keras\n",
        "\n",
        "https://analyticsindiamag.com/hands-on-guide-to-lstm-recurrent-neural-network-for-stock-market-prediction/\n",
        "\n",
        "https://blog.usejournal.com/stock-market-prediction-by-recurrent-neural-network-on-lstm-model-56de700bff68\n",
        "\n",
        "https://github.com/jaungiers/LSTM-Neural-Network-for-Time-Series-Prediction\n",
        "\n",
        "http://colah.github.io/posts/2015-08-Understanding-LSTMs/\n",
        "\n"
      ]
    }
  ]
}
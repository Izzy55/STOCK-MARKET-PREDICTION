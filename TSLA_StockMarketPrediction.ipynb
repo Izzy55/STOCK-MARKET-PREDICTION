{
  "nbformat": 4,
  "nbformat_minor": 0,
  "metadata": {
    "colab": {
      "name": "TSLA_StockMarketPrediction.ipynb",
      "provenance": [],
      "collapsed_sections": [],
      "authorship_tag": "ABX9TyNSbsx5QiVxx8BSQCxtihKy",
      "include_colab_link": true
    },
    "kernelspec": {
      "name": "python3",
      "display_name": "Python 3"
    }
  },
  "cells": [
    {
      "cell_type": "markdown",
      "metadata": {
        "id": "view-in-github",
        "colab_type": "text"
      },
      "source": [
        "<a href=\"https://colab.research.google.com/github/Izzy55/STOCK-MARKET-PREDICTION/blob/master/TSLA_StockMarketPrediction.ipynb\" target=\"_parent\"><img src=\"https://colab.research.google.com/assets/colab-badge.svg\" alt=\"Open In Colab\"/></a>"
      ]
    },
    {
      "cell_type": "code",
      "metadata": {
        "id": "uwRjW-qRCBC2",
        "colab_type": "code",
        "colab": {
          "base_uri": "https://localhost:8080/",
          "height": 88
        },
        "outputId": "aeb09e3c-84dc-4cfa-a052-0c80ce109f87"
      },
      "source": [
        "%tensorflow_version 1.x\n",
        "\n",
        "from pandas_datareader import data\n",
        "import matplotlib.pyplot as plt\n",
        "import pandas as pd\n",
        "import datetime as dt\n",
        "import urllib.request, json \n",
        "import os\n",
        "import numpy as np\n",
        "import tensorflow as tf \n",
        "from sklearn.preprocessing import MinMaxScaler"
      ],
      "execution_count": 1,
      "outputs": [
        {
          "output_type": "stream",
          "text": [
            "TensorFlow 1.x selected.\n"
          ],
          "name": "stdout"
        },
        {
          "output_type": "stream",
          "text": [
            "/usr/local/lib/python3.6/dist-packages/pandas_datareader/compat/__init__.py:7: FutureWarning: pandas.util.testing is deprecated. Use the functions in the public API at pandas.testing instead.\n",
            "  from pandas.util.testing import assert_frame_equal\n"
          ],
          "name": "stderr"
        }
      ]
    },
    {
      "cell_type": "code",
      "metadata": {
        "id": "3fCyzZPJCCPC",
        "colab_type": "code",
        "colab": {
          "base_uri": "https://localhost:8080/",
          "height": 51
        },
        "outputId": "333a4ab9-cb3d-4482-fa2b-7625d10d29c1"
      },
      "source": [
        "api_key = '9CU08VA5IYTPJ0CH'\n",
        "\n",
        "# ticker for stock market prices\n",
        "ticker = \"TSLA\" \n",
        "\n",
        "# JSON file with all the stock market data for AAL within the last 20 years\n",
        "url_string = \"https://www.alphavantage.co/query?function=TIME_SERIES_DAILY&symbol=%s&outputsize=full&apikey=%s\"%(ticker,api_key)\n",
        "print(url_string)\n",
        "# Save data to this file\n",
        "file_to_save = 'stock_market_data-%s.csv'%ticker\n",
        "\n",
        "# If data not already saved,\n",
        "# retrieve the data from the url\n",
        "# And store date, low, high, volume, close, open values to a Pandas dataframe\n",
        "if not os.path.exists(file_to_save):\n",
        "  with urllib.request.urlopen(url_string) as url:\n",
        "      data = json.loads(url.read().decode())\n",
        "      # extract stock market data\n",
        "      data = data['Time Series (Daily)']\n",
        "      df = pd.DataFrame(columns=['Date','Low','High','Close','Open'])\n",
        "      for k,v in data.items():\n",
        "          date = dt.datetime.strptime(k, '%Y-%m-%d')\n",
        "          data_row = [date.date(),float(v['3. low']),float(v['2. high']),\n",
        "                      float(v['4. close']),float(v['1. open'])]\n",
        "          df.loc[-1,:] = data_row\n",
        "          df.index = df.index + 1\n",
        "  print('Data saved to : %s'%file_to_save)        \n",
        "  df.to_csv(file_to_save)\n",
        "\n",
        "# If the data is already there, load it from the CSV\n",
        "else:\n",
        "  print('File already exists. Loading data from CSV')\n",
        "  df = pd.read_csv(file_to_save)\n",
        "\n"
      ],
      "execution_count": 2,
      "outputs": [
        {
          "output_type": "stream",
          "text": [
            "https://www.alphavantage.co/query?function=TIME_SERIES_DAILY&symbol=TSLA&outputsize=full&apikey=9CU08VA5IYTPJ0CH\n",
            "File already exists. Loading data from CSV\n"
          ],
          "name": "stdout"
        }
      ]
    },
    {
      "cell_type": "code",
      "metadata": {
        "id": "L5L1BUtWMEQL",
        "colab_type": "code",
        "colab": {}
      },
      "source": [
        ""
      ],
      "execution_count": 2,
      "outputs": []
    },
    {
      "cell_type": "code",
      "metadata": {
        "id": "jZIg6YodMEuT",
        "colab_type": "code",
        "colab": {
          "base_uri": "https://localhost:8080/",
          "height": 204
        },
        "outputId": "7c72c63a-d5e3-4a39-cbe9-2aca9888a3bf"
      },
      "source": [
        "# Sort DataFrame by date and print first 5 rows\n",
        "\n",
        "df = df.sort_values('Date')\n",
        "\n",
        "df.head()"
      ],
      "execution_count": 3,
      "outputs": [
        {
          "output_type": "execute_result",
          "data": {
            "text/html": [
              "<div>\n",
              "<style scoped>\n",
              "    .dataframe tbody tr th:only-of-type {\n",
              "        vertical-align: middle;\n",
              "    }\n",
              "\n",
              "    .dataframe tbody tr th {\n",
              "        vertical-align: top;\n",
              "    }\n",
              "\n",
              "    .dataframe thead th {\n",
              "        text-align: right;\n",
              "    }\n",
              "</style>\n",
              "<table border=\"1\" class=\"dataframe\">\n",
              "  <thead>\n",
              "    <tr style=\"text-align: right;\">\n",
              "      <th></th>\n",
              "      <th>Unnamed: 0</th>\n",
              "      <th>Date</th>\n",
              "      <th>Low</th>\n",
              "      <th>High</th>\n",
              "      <th>Close</th>\n",
              "      <th>Open</th>\n",
              "    </tr>\n",
              "  </thead>\n",
              "  <tbody>\n",
              "    <tr>\n",
              "      <th>2566</th>\n",
              "      <td>0</td>\n",
              "      <td>2010-06-29</td>\n",
              "      <td>17.54</td>\n",
              "      <td>25.0000</td>\n",
              "      <td>23.89</td>\n",
              "      <td>19.00</td>\n",
              "    </tr>\n",
              "    <tr>\n",
              "      <th>2565</th>\n",
              "      <td>1</td>\n",
              "      <td>2010-06-30</td>\n",
              "      <td>23.30</td>\n",
              "      <td>30.4192</td>\n",
              "      <td>23.83</td>\n",
              "      <td>25.79</td>\n",
              "    </tr>\n",
              "    <tr>\n",
              "      <th>2564</th>\n",
              "      <td>2</td>\n",
              "      <td>2010-07-01</td>\n",
              "      <td>20.27</td>\n",
              "      <td>25.9200</td>\n",
              "      <td>21.96</td>\n",
              "      <td>25.00</td>\n",
              "    </tr>\n",
              "    <tr>\n",
              "      <th>2563</th>\n",
              "      <td>3</td>\n",
              "      <td>2010-07-02</td>\n",
              "      <td>18.71</td>\n",
              "      <td>23.1000</td>\n",
              "      <td>19.20</td>\n",
              "      <td>23.00</td>\n",
              "    </tr>\n",
              "    <tr>\n",
              "      <th>2562</th>\n",
              "      <td>4</td>\n",
              "      <td>2010-07-06</td>\n",
              "      <td>15.83</td>\n",
              "      <td>20.0000</td>\n",
              "      <td>16.11</td>\n",
              "      <td>20.00</td>\n",
              "    </tr>\n",
              "  </tbody>\n",
              "</table>\n",
              "</div>"
            ],
            "text/plain": [
              "      Unnamed: 0        Date    Low     High  Close   Open\n",
              "2566           0  2010-06-29  17.54  25.0000  23.89  19.00\n",
              "2565           1  2010-06-30  23.30  30.4192  23.83  25.79\n",
              "2564           2  2010-07-01  20.27  25.9200  21.96  25.00\n",
              "2563           3  2010-07-02  18.71  23.1000  19.20  23.00\n",
              "2562           4  2010-07-06  15.83  20.0000  16.11  20.00"
            ]
          },
          "metadata": {
            "tags": []
          },
          "execution_count": 3
        }
      ]
    },
    {
      "cell_type": "code",
      "metadata": {
        "id": "fDf0Os2rME54",
        "colab_type": "code",
        "colab": {
          "base_uri": "https://localhost:8080/",
          "height": 34
        },
        "outputId": "aac23c76-c116-4ff1-fa9f-3140bcf5cf40"
      },
      "source": [
        "#Look at Shape\n",
        "\n",
        "df.shape"
      ],
      "execution_count": 4,
      "outputs": [
        {
          "output_type": "execute_result",
          "data": {
            "text/plain": [
              "(2567, 6)"
            ]
          },
          "metadata": {
            "tags": []
          },
          "execution_count": 4
        }
      ]
    },
    {
      "cell_type": "code",
      "metadata": {
        "id": "E_VuV-BMMFER",
        "colab_type": "code",
        "colab": {
          "base_uri": "https://localhost:8080/",
          "height": 390
        },
        "outputId": "6e4b3edb-ecca-4a02-f195-fb8ff2305086"
      },
      "source": [
        "#General Summary\n",
        "\n",
        "df.describe(include='all')"
      ],
      "execution_count": 5,
      "outputs": [
        {
          "output_type": "execute_result",
          "data": {
            "text/html": [
              "<div>\n",
              "<style scoped>\n",
              "    .dataframe tbody tr th:only-of-type {\n",
              "        vertical-align: middle;\n",
              "    }\n",
              "\n",
              "    .dataframe tbody tr th {\n",
              "        vertical-align: top;\n",
              "    }\n",
              "\n",
              "    .dataframe thead th {\n",
              "        text-align: right;\n",
              "    }\n",
              "</style>\n",
              "<table border=\"1\" class=\"dataframe\">\n",
              "  <thead>\n",
              "    <tr style=\"text-align: right;\">\n",
              "      <th></th>\n",
              "      <th>Unnamed: 0</th>\n",
              "      <th>Date</th>\n",
              "      <th>Low</th>\n",
              "      <th>High</th>\n",
              "      <th>Close</th>\n",
              "      <th>Open</th>\n",
              "    </tr>\n",
              "  </thead>\n",
              "  <tbody>\n",
              "    <tr>\n",
              "      <th>count</th>\n",
              "      <td>2567.000000</td>\n",
              "      <td>2567</td>\n",
              "      <td>2567.000000</td>\n",
              "      <td>2567.000000</td>\n",
              "      <td>2567.000000</td>\n",
              "      <td>2567.000000</td>\n",
              "    </tr>\n",
              "    <tr>\n",
              "      <th>unique</th>\n",
              "      <td>NaN</td>\n",
              "      <td>2567</td>\n",
              "      <td>NaN</td>\n",
              "      <td>NaN</td>\n",
              "      <td>NaN</td>\n",
              "      <td>NaN</td>\n",
              "    </tr>\n",
              "    <tr>\n",
              "      <th>top</th>\n",
              "      <td>NaN</td>\n",
              "      <td>2015-11-23</td>\n",
              "      <td>NaN</td>\n",
              "      <td>NaN</td>\n",
              "      <td>NaN</td>\n",
              "      <td>NaN</td>\n",
              "    </tr>\n",
              "    <tr>\n",
              "      <th>freq</th>\n",
              "      <td>NaN</td>\n",
              "      <td>1</td>\n",
              "      <td>NaN</td>\n",
              "      <td>NaN</td>\n",
              "      <td>NaN</td>\n",
              "      <td>NaN</td>\n",
              "    </tr>\n",
              "    <tr>\n",
              "      <th>mean</th>\n",
              "      <td>1283.000000</td>\n",
              "      <td>NaN</td>\n",
              "      <td>227.828043</td>\n",
              "      <td>237.772370</td>\n",
              "      <td>233.018627</td>\n",
              "      <td>232.846568</td>\n",
              "    </tr>\n",
              "    <tr>\n",
              "      <th>std</th>\n",
              "      <td>741.173394</td>\n",
              "      <td>NaN</td>\n",
              "      <td>236.169704</td>\n",
              "      <td>250.617159</td>\n",
              "      <td>243.950466</td>\n",
              "      <td>243.294551</td>\n",
              "    </tr>\n",
              "    <tr>\n",
              "      <th>min</th>\n",
              "      <td>0.000000</td>\n",
              "      <td>NaN</td>\n",
              "      <td>14.980000</td>\n",
              "      <td>16.630000</td>\n",
              "      <td>15.800000</td>\n",
              "      <td>16.140000</td>\n",
              "    </tr>\n",
              "    <tr>\n",
              "      <th>25%</th>\n",
              "      <td>641.500000</td>\n",
              "      <td>NaN</td>\n",
              "      <td>34.790000</td>\n",
              "      <td>36.065000</td>\n",
              "      <td>35.325000</td>\n",
              "      <td>35.356100</td>\n",
              "    </tr>\n",
              "    <tr>\n",
              "      <th>50%</th>\n",
              "      <td>1283.000000</td>\n",
              "      <td>NaN</td>\n",
              "      <td>215.980000</td>\n",
              "      <td>222.749900</td>\n",
              "      <td>219.460000</td>\n",
              "      <td>219.970000</td>\n",
              "    </tr>\n",
              "    <tr>\n",
              "      <th>75%</th>\n",
              "      <td>1924.500000</td>\n",
              "      <td>NaN</td>\n",
              "      <td>288.065000</td>\n",
              "      <td>298.865000</td>\n",
              "      <td>293.625000</td>\n",
              "      <td>293.210000</td>\n",
              "    </tr>\n",
              "    <tr>\n",
              "      <th>max</th>\n",
              "      <td>2566.000000</td>\n",
              "      <td>NaN</td>\n",
              "      <td>2186.520000</td>\n",
              "      <td>2318.490000</td>\n",
              "      <td>2238.750000</td>\n",
              "      <td>2295.120000</td>\n",
              "    </tr>\n",
              "  </tbody>\n",
              "</table>\n",
              "</div>"
            ],
            "text/plain": [
              "         Unnamed: 0        Date  ...        Close         Open\n",
              "count   2567.000000        2567  ...  2567.000000  2567.000000\n",
              "unique          NaN        2567  ...          NaN          NaN\n",
              "top             NaN  2015-11-23  ...          NaN          NaN\n",
              "freq            NaN           1  ...          NaN          NaN\n",
              "mean    1283.000000         NaN  ...   233.018627   232.846568\n",
              "std      741.173394         NaN  ...   243.950466   243.294551\n",
              "min        0.000000         NaN  ...    15.800000    16.140000\n",
              "25%      641.500000         NaN  ...    35.325000    35.356100\n",
              "50%     1283.000000         NaN  ...   219.460000   219.970000\n",
              "75%     1924.500000         NaN  ...   293.625000   293.210000\n",
              "max     2566.000000         NaN  ...  2238.750000  2295.120000\n",
              "\n",
              "[11 rows x 6 columns]"
            ]
          },
          "metadata": {
            "tags": []
          },
          "execution_count": 5
        }
      ]
    },
    {
      "cell_type": "code",
      "metadata": {
        "id": "E_QfiCHUNDMD",
        "colab_type": "code",
        "colab": {
          "base_uri": "https://localhost:8080/",
          "height": 238
        },
        "outputId": "8806e398-bfb4-4c60-cfe6-f5227861c633"
      },
      "source": [
        "#column summaries\n",
        "\n",
        "df.info()"
      ],
      "execution_count": 6,
      "outputs": [
        {
          "output_type": "stream",
          "text": [
            "<class 'pandas.core.frame.DataFrame'>\n",
            "Int64Index: 2567 entries, 2566 to 0\n",
            "Data columns (total 6 columns):\n",
            " #   Column      Non-Null Count  Dtype  \n",
            "---  ------      --------------  -----  \n",
            " 0   Unnamed: 0  2567 non-null   int64  \n",
            " 1   Date        2567 non-null   object \n",
            " 2   Low         2567 non-null   float64\n",
            " 3   High        2567 non-null   float64\n",
            " 4   Close       2567 non-null   float64\n",
            " 5   Open        2567 non-null   float64\n",
            "dtypes: float64(4), int64(1), object(1)\n",
            "memory usage: 140.4+ KB\n"
          ],
          "name": "stdout"
        }
      ]
    },
    {
      "cell_type": "code",
      "metadata": {
        "id": "RYFyDGjGNDaC",
        "colab_type": "code",
        "colab": {}
      },
      "source": [
        ""
      ],
      "execution_count": 6,
      "outputs": []
    },
    {
      "cell_type": "code",
      "metadata": {
        "id": "HS3M76OmNDjQ",
        "colab_type": "code",
        "colab": {
          "base_uri": "https://localhost:8080/",
          "height": 451
        },
        "outputId": "34831dfb-7d61-4f8e-c743-2fb61374ea14"
      },
      "source": [
        "#Plot Visualization\n",
        "\n",
        "plt.figure(figsize = (12,6))\n",
        "plt.plot(range(df.shape[0]),(df['Low']+df['High'])/2.0)\n",
        "plt.xticks(range(0,df.shape[0],500),df['Date'].loc[::500],rotation=45)\n",
        "plt.xlabel('Date',fontsize=18)\n",
        "plt.ylabel('Mid Price',fontsize=18)"
      ],
      "execution_count": 7,
      "outputs": [
        {
          "output_type": "execute_result",
          "data": {
            "text/plain": [
              "Text(0, 0.5, 'Mid Price')"
            ]
          },
          "metadata": {
            "tags": []
          },
          "execution_count": 7
        },
        {
          "output_type": "display_data",
          "data": {
            "image/png": "[encoded data removed]",
            "text/plain": [
              "<Figure size 864x432 with 1 Axes>"
            ]
          },
          "metadata": {
            "tags": [],
            "needs_background": "light"
          }
        }
      ]
    },
    {
      "cell_type": "code",
      "metadata": {
        "id": "puO36qYeNDry",
        "colab_type": "code",
        "colab": {}
      },
      "source": [
        ""
      ],
      "execution_count": 7,
      "outputs": []
    },
    {
      "cell_type": "markdown",
      "metadata": {
        "id": "b1ZdXzGO2sTr",
        "colab_type": "text"
      },
      "source": [
        "Now we have to devide the data into test and train set and standardize the data for training"
      ]
    },
    {
      "cell_type": "code",
      "metadata": {
        "id": "WIL1ZjKW2wBe",
        "colab_type": "code",
        "colab": {
          "base_uri": "https://localhost:8080/",
          "height": 136
        },
        "outputId": "9885680c-aede-4c7e-b925-d758361ea9b5"
      },
      "source": [
        "df.count()"
      ],
      "execution_count": 8,
      "outputs": [
        {
          "output_type": "execute_result",
          "data": {
            "text/plain": [
              "Unnamed: 0    2567\n",
              "Date          2567\n",
              "Low           2567\n",
              "High          2567\n",
              "Close         2567\n",
              "Open          2567\n",
              "dtype: int64"
            ]
          },
          "metadata": {
            "tags": []
          },
          "execution_count": 8
        }
      ]
    },
    {
      "cell_type": "code",
      "metadata": {
        "id": "RPfYox9520st",
        "colab_type": "code",
        "colab": {}
      },
      "source": [
        "train_test_split_i = 2000\n",
        "high_prices = df['High'].to_numpy()\n",
        "low_prices = df['Low'].to_numpy()\n",
        "mid_prices = (high_prices+low_prices)/2.0"
      ],
      "execution_count": 9,
      "outputs": []
    },
    {
      "cell_type": "code",
      "metadata": {
        "id": "6PccNs9ru_4s",
        "colab_type": "code",
        "colab": {}
      },
      "source": [
        "# Split data training vs testing\n",
        "train_data = mid_prices[:train_test_split_i]\n",
        "test_data = mid_prices[train_test_split_i:]"
      ],
      "execution_count": 10,
      "outputs": []
    },
    {
      "cell_type": "code",
      "metadata": {
        "id": "Nwfamds6vADY",
        "colab_type": "code",
        "colab": {}
      },
      "source": [
        "# Normalize data\n",
        "scaler = MinMaxScaler()\n",
        "train_data = train_data.reshape(-1,1)\n",
        "test_data = test_data.reshape(-1,1)"
      ],
      "execution_count": 11,
      "outputs": []
    },
    {
      "cell_type": "code",
      "metadata": {
        "id": "o73MwbDBvAHZ",
        "colab_type": "code",
        "colab": {}
      },
      "source": [
        "# Smoothing\n",
        "smoothing_window_size = 500\n",
        "for di in range(0, 1500, smoothing_window_size):\n",
        "    scaler.fit(train_data[di:di+smoothing_window_size,:])\n",
        "    train_data[di:di+smoothing_window_size,:]=scaler.transform(train_data[di:di+smoothing_window_size,:])\n",
        "scaler.fit(train_data[di+smoothing_window_size:,:])\n",
        "train_data[di+smoothing_window_size:,:] = scaler.transform(train_data[di+smoothing_window_size:,:])"
      ],
      "execution_count": 12,
      "outputs": []
    },
    {
      "cell_type": "code",
      "metadata": {
        "id": "7njljSgRvAMM",
        "colab_type": "code",
        "colab": {}
      },
      "source": [
        "# Reshape data\n",
        "train_data = train_data.reshape(-1)"
      ],
      "execution_count": 13,
      "outputs": []
    },
    {
      "cell_type": "code",
      "metadata": {
        "id": "DCCU2CQLvAPX",
        "colab_type": "code",
        "colab": {}
      },
      "source": [
        "# Normalize test data\n",
        "test_data = scaler.transform(test_data).reshape(-1)"
      ],
      "execution_count": 14,
      "outputs": []
    },
    {
      "cell_type": "code",
      "metadata": {
        "id": "GS2bH0-DvASq",
        "colab_type": "code",
        "colab": {}
      },
      "source": [
        "# EMA\n",
        "EMA = 0.0\n",
        "gamma = 0.1\n",
        "for ti in range(train_test_split_i):\n",
        "    EMA = gamma*train_data[ti] + (1-gamma)*EMA\n",
        "    train_data[ti] = EMA\n",
        "all_mid_data = np.concatenate([train_data,test_data],axis=0)"
      ],
      "execution_count": 15,
      "outputs": []
    },
    {
      "cell_type": "code",
      "metadata": {
        "id": "F9tlI7P2vAWY",
        "colab_type": "code",
        "colab": {}
      },
      "source": [
        "# Long Short-Term Memory models\n",
        "class DataGeneratorSeq(object):\n",
        "    def __init__(self, prices, batch_size, num_unroll):\n",
        "        self._prices = prices\n",
        "        self._prices_length = len(self._prices)-num_unroll\n",
        "        self._batch_size = batch_size\n",
        "        self._num_unroll = num_unroll\n",
        "        self._segments = self._prices_length//self._batch_size\n",
        "        self._cursor = [offset * self._segments for offset in range(self._batch_size)]\n",
        "         \n",
        "    def next_batch(self):\n",
        "        batch_data = np.zeros((self._batch_size),dtype=np.float32)\n",
        "        batch_labels = np.zeros((self._batch_size),dtype=np.float32)\n",
        "         \n",
        "        for b in range(self._batch_size):\n",
        "            if self._cursor[b]+1>=self._prices_length:\n",
        "                self._cursor[b] = np.random.randint(0,(b+1)*self._segments)\n",
        "            batch_data[b] = self._prices[self._cursor[b]]\n",
        "            batch_labels[b] = self._prices[self._cursor[b]+np.random.randint(0,5)]\n",
        "            self._cursor[b] = (self._cursor[b]+1)%self._prices_length\n",
        "        return batch_data, batch_labels\n",
        "     \n",
        "    def unroll_batches(self):\n",
        "        unroll_data, unroll_labels = [], []\n",
        "        init_data, init_label = None, None\n",
        "        for ui in range(self._num_unroll):\n",
        "            data, labels = self.next_batch()\n",
        "            unroll_data.append(data)\n",
        "            unroll_labels.append(labels)\n",
        "        return unroll_data, unroll_labels\n",
        "    def reset_indices(self):\n",
        "        for b in range(self._batch_size):\n",
        "            self._cursor[b] = np.random.randint(0,min((b+1)*self._segments,self._prices_length-1))"
      ],
      "execution_count": 16,
      "outputs": []
    },
    {
      "cell_type": "code",
      "metadata": {
        "id": "iwauParyvYx3",
        "colab_type": "code",
        "colab": {}
      },
      "source": [
        "dg = DataGeneratorSeq(train_data,5,5)\n",
        "u_data, u_labels = dg.unroll_batches()"
      ],
      "execution_count": 17,
      "outputs": []
    },
    {
      "cell_type": "code",
      "metadata": {
        "id": "af0taJ8XvY3Q",
        "colab_type": "code",
        "colab": {
          "base_uri": "https://localhost:8080/",
          "height": 357
        },
        "outputId": "9998ef42-a818-4016-e590-64c072608437"
      },
      "source": [
        "for ui, (dat,lbl) in enumerate(zip(u_data,u_labels)):\n",
        "    print('\\nUnrolled index %d' %ui)\n",
        "    print('\\tInputs: ', dat)\n",
        "    print('\\tOutputs: ', lbl)"
      ],
      "execution_count": 18,
      "outputs": [
        {
          "output_type": "stream",
          "text": [
            "\n",
            "Unrolled index 0\n",
            "\tInputs:  [0.02409081 0.52878284 0.54259455 0.33527178 0.0994697 ]\n",
            "\tOutputs:  [0.02409081 0.5556103  0.5493176  0.35431498 0.09344365]\n",
            "\n",
            "Unrolled index 1\n",
            "\tInputs:  [0.07041261 0.53437716 0.5493176  0.33319384 0.09782769]\n",
            "\tOutputs:  [0.1068957  0.53437716 0.5735796  0.34519362 0.08250285]\n",
            "\n",
            "Unrolled index 2\n",
            "\tInputs:  [0.09550712 0.5410232  0.5568734  0.33932775 0.09344365]\n",
            "\tOutputs:  [0.10843822 0.5556103  0.56914693 0.36242244 0.08790637]\n",
            "\n",
            "Unrolled index 3\n",
            "\tInputs:  [0.10843822 0.5466299  0.56303936 0.34519362 0.08790637]\n",
            "\tOutputs:  [0.10843822 0.5556103  0.5735796  0.34519362 0.07335533]\n",
            "\n",
            "Unrolled index 4\n",
            "\tInputs:  [0.1068957  0.5556103  0.56914693 0.35431498 0.08250285]\n",
            "\tOutputs:  [0.1068957  0.60000545 0.5799467  0.35431498 0.07335533]\n"
          ],
          "name": "stdout"
        }
      ]
    },
    {
      "cell_type": "code",
      "metadata": {
        "id": "dYPg9lbGvY7A",
        "colab_type": "code",
        "colab": {}
      },
      "source": [
        "D = 1 # Dimensionality of the data\n",
        "num_unrollings = 50 # Number of time steps into the future\n",
        "batch_size = 500 # Number of samples in a batch\n",
        "num_nodes = [200, 200, 150] # Number of hidden nodes in each layer of the deep LSTM stack\n",
        "n_layers = len(num_nodes) # Number of layers\n",
        "dropout = 0.2 # Dropout amount"
      ],
      "execution_count": 19,
      "outputs": []
    },
    {
      "cell_type": "code",
      "metadata": {
        "id": "KWCplwdVvY-M",
        "colab_type": "code",
        "colab": {}
      },
      "source": [
        "# Reinitialize\n",
        "tf.reset_default_graph()"
      ],
      "execution_count": 20,
      "outputs": []
    },
    {
      "cell_type": "code",
      "metadata": {
        "id": "7812TwWNvZB4",
        "colab_type": "code",
        "colab": {}
      },
      "source": [
        "# Inputs\n",
        "train_inputs = [tf.placeholder(tf.float32, shape=[batch_size,D],name='train_inputs_%d'%ui) for ui in range(num_unrollings)]\n",
        "train_outputs = [tf.placeholder(tf.float32, shape=[batch_size,1], name = 'train_outputs_%d'%ui) for ui in range(num_unrollings)]"
      ],
      "execution_count": 21,
      "outputs": []
    },
    {
      "cell_type": "code",
      "metadata": {
        "id": "GtcsZSCPvZFM",
        "colab_type": "code",
        "colab": {
          "base_uri": "https://localhost:8080/",
          "height": 275
        },
        "outputId": "0fb11777-ebd5-4b4a-8ef4-09d4fc91d59a"
      },
      "source": [
        "# Set up the LSTM and Regression layers\n",
        "lstm_cells = [\n",
        "    tf.contrib.rnn.LSTMCell(num_units=num_nodes[li],\n",
        "                           state_is_tuple=True,\n",
        "                           initializer=tf.contrib.layers.xavier_initializer())\n",
        "    for li in range(n_layers)]\n",
        " \n",
        "drop_lstm_cells = [\n",
        "    tf.contrib.rnn.DropoutWrapper(lstm, input_keep_prob=1.0,\n",
        "                                 output_keep_prob=1.0-dropout,\n",
        "                                 state_keep_prob=1.0-dropout)\n",
        "    for lstm in lstm_cells]\n",
        "drop_multi_cell = tf.contrib.rnn.MultiRNNCell(drop_lstm_cells)\n",
        "multi_cell = tf.contrib.rnn.MultiRNNCell(lstm_cells)"
      ],
      "execution_count": 22,
      "outputs": [
        {
          "output_type": "stream",
          "text": [
            "WARNING:tensorflow:\n",
            "The TensorFlow contrib module will not be included in TensorFlow 2.0.\n",
            "For more information, please see:\n",
            "  * https://github.com/tensorflow/community/blob/master/rfcs/20180907-contrib-sunset.md\n",
            "  * https://github.com/tensorflow/addons\n",
            "  * https://github.com/tensorflow/io (for I/O related ops)\n",
            "If you depend on functionality not listed there, please file an issue.\n",
            "\n",
            "WARNING:tensorflow:From <ipython-input-22-fb89578c81ad>:6: LSTMCell.__init__ (from tensorflow.python.ops.rnn_cell_impl) is deprecated and will be removed in a future version.\n",
            "Instructions for updating:\n",
            "This class is equivalent as tf.keras.layers.LSTMCell, and will be replaced by that in Tensorflow 2.0.\n",
            "WARNING:tensorflow:From <ipython-input-22-fb89578c81ad>:13: MultiRNNCell.__init__ (from tensorflow.python.ops.rnn_cell_impl) is deprecated and will be removed in a future version.\n",
            "Instructions for updating:\n",
            "This class is equivalent as tf.keras.layers.StackedRNNCells, and will be replaced by that in Tensorflow 2.0.\n"
          ],
          "name": "stdout"
        }
      ]
    },
    {
      "cell_type": "code",
      "metadata": {
        "id": "iXvkwfUUvZIe",
        "colab_type": "code",
        "colab": {}
      },
      "source": [
        "# LSTM layers\n",
        "w = tf.get_variable('w',shape=[num_nodes[-1],1],\n",
        "                   initializer=tf.contrib.layers.xavier_initializer())\n",
        "# Linear regression layer\n",
        "b = tf.get_variable('b',initializer=tf.random_uniform([1],-0.1,0.1))\n",
        " \n",
        "# Cell state and hidden state\n",
        "c = [tf.Variable(tf.zeros([batch_size, num_nodes[li]]), trainable=False) for li in range(n_layers)]\n",
        "h = [tf.Variable(tf.zeros([batch_size, num_nodes[li]]), trainable=False) for li in range(n_layers)]\n",
        "initial_state = [tf.contrib.rnn.LSTMStateTuple(c[li], h[li]) for li in range(n_layers)]"
      ],
      "execution_count": 23,
      "outputs": []
    },
    {
      "cell_type": "code",
      "metadata": {
        "id": "Hxbmd8sbvZLb",
        "colab_type": "code",
        "colab": {
          "base_uri": "https://localhost:8080/",
          "height": 190
        },
        "outputId": "222ad0e4-cb13-446b-f3de-569d0e687cd1"
      },
      "source": [
        "# Formatting\n",
        "all_inputs = tf.concat([tf.expand_dims(t,0) for t in train_inputs], axis=0)\n",
        "all_lstm_outputs, state = tf.nn.dynamic_rnn(\n",
        "    drop_multi_cell, all_inputs, initial_state=tuple(initial_state),\n",
        "    time_major=True, dtype=tf.float32)\n",
        "all_lstm_outputs = tf.reshape(all_lstm_outputs, [batch_size*num_unrollings, num_nodes[-1]])\n",
        " \n",
        "all_outputs = tf.nn.xw_plus_b(all_lstm_outputs, w, b)\n",
        "split_outputs = tf.split(all_outputs,num_unrollings, axis=0)"
      ],
      "execution_count": 24,
      "outputs": [
        {
          "output_type": "stream",
          "text": [
            "WARNING:tensorflow:From <ipython-input-24-7d3786cefeb0>:5: dynamic_rnn (from tensorflow.python.ops.rnn) is deprecated and will be removed in a future version.\n",
            "Instructions for updating:\n",
            "Please use `keras.layers.RNN(cell)`, which is equivalent to this API\n",
            "WARNING:tensorflow:From /tensorflow-1.15.2/python3.6/tensorflow_core/python/ops/rnn_cell_impl.py:958: Layer.add_variable (from tensorflow.python.keras.engine.base_layer) is deprecated and will be removed in a future version.\n",
            "Instructions for updating:\n",
            "Please use `layer.add_weight` method instead.\n",
            "WARNING:tensorflow:From /tensorflow-1.15.2/python3.6/tensorflow_core/python/ops/rnn_cell_impl.py:962: calling Zeros.__init__ (from tensorflow.python.ops.init_ops) with dtype is deprecated and will be removed in a future version.\n",
            "Instructions for updating:\n",
            "Call initializer instance with the dtype argument instead of passing it to the constructor\n"
          ],
          "name": "stdout"
        }
      ]
    },
    {
      "cell_type": "code",
      "metadata": {
        "id": "DIjgC7MZwIA1",
        "colab_type": "code",
        "colab": {}
      },
      "source": [
        "# Training loss\n",
        "# Mean Squared Error (MSE)\n",
        "loss = 0.0\n",
        "with tf.control_dependencies([tf.assign(c[li],state[li][0]) for li in range(n_layers)]+\n",
        "                            [tf.assign(h[li],state[li][1]) for li in range(n_layers)]):\n",
        "    loss += sum([tf.reduce_mean(0.5*(split_outputs[ui]-train_outputs[ui])**2) for ui in range(num_unrollings)])\n",
        " \n",
        "global_step = tf.Variable(0, trainable=False)\n",
        "inc_gstep = tf.assign(global_step, global_step+1)\n",
        "tf_learning_rate = tf.placeholder(shape=None, dtype=tf.float32)\n",
        "tf_min_learning_rate = tf.placeholder(shape=None, dtype=tf.float32)\n",
        " \n",
        "learning_rate = tf.maximum(\n",
        "    tf.train.exponential_decay(tf_learning_rate,global_step,\n",
        "                               decay_steps=1, decay_rate=0.5,\n",
        "                              staircase=True),\n",
        "    tf_min_learning_rate)"
      ],
      "execution_count": 25,
      "outputs": []
    },
    {
      "cell_type": "code",
      "metadata": {
        "id": "KaRUFzS9wIEI",
        "colab_type": "code",
        "colab": {
          "base_uri": "https://localhost:8080/",
          "height": 88
        },
        "outputId": "57d94a52-4f4c-4fdd-f651-3bac561ca0c8"
      },
      "source": [
        "# Optimizer\n",
        "optimizer = tf.train.AdamOptimizer(learning_rate)\n",
        "gradients, v = zip(*optimizer.compute_gradients(loss))\n",
        "gradients, _ = tf.clip_by_global_norm(gradients, 5.0)\n",
        "optimizer = optimizer.apply_gradients(zip(gradients,v))"
      ],
      "execution_count": 26,
      "outputs": [
        {
          "output_type": "stream",
          "text": [
            "WARNING:tensorflow:From /tensorflow-1.15.2/python3.6/tensorflow_core/python/ops/math_grad.py:1375: where (from tensorflow.python.ops.array_ops) is deprecated and will be removed in a future version.\n",
            "Instructions for updating:\n",
            "Use tf.where in 2.0, which has the same broadcast rule as np.where\n"
          ],
          "name": "stdout"
        }
      ]
    },
    {
      "cell_type": "code",
      "metadata": {
        "id": "ra305YbpwIHh",
        "colab_type": "code",
        "colab": {}
      },
      "source": [
        "# Defining prediction related TF calculations\n",
        "sample_inputs = tf.placeholder(tf.float32, shape=[1,D])\n",
        "sample_c = [tf.Variable(tf.zeros([1, num_nodes[li]]), trainable=False) for li in range(n_layers)]\n",
        "sample_h = [tf.Variable(tf.zeros([1, num_nodes[li]]), trainable=False) for li in range(n_layers)]\n",
        "initial_sample_state = [tf.contrib.rnn.LSTMStateTuple(sample_c[li],sample_h[li]) for li in range(n_layers)]\n",
        " \n",
        "reset_sample_states = tf.group(*[[tf.assign(sample_c[li],tf.zeros([1, num_nodes[li]])) for li in range(n_layers)]+\n",
        "                               [tf.assign(sample_h[li],tf.zeros([1, num_nodes[li]])) for li in range(n_layers)]])\n",
        "sample_outputs, sample_state = tf.nn.dynamic_rnn(multi_cell, tf.expand_dims(sample_inputs,0),\n",
        "                                                initial_state=tuple(initial_sample_state),\n",
        "                                                time_major=True,\n",
        "                                                dtype=tf.float32)\n",
        "with tf.control_dependencies([tf.assign(sample_c[li],sample_state[li][0]) for li in range(n_layers)]+\n",
        "                            [tf.assign(sample_h[li], sample_state[li][1]) for li in range(n_layers)]):\n",
        "    sample_prediction = tf.nn.xw_plus_b(tf.reshape(sample_outputs,[1,-1]),w,b)"
      ],
      "execution_count": 27,
      "outputs": []
    },
    {
      "cell_type": "code",
      "metadata": {
        "id": "ARqdI4NnwINW",
        "colab_type": "code",
        "colab": {}
      },
      "source": [
        "# Initialise before Running\n",
        "epochs = 30\n",
        "valid_summary = 1\n",
        "n_predict_once = 50\n",
        "train_seq_length = train_data.size\n",
        "train_mse_ot = []\n",
        "test_mse_ot = []\n",
        "predictions_over_time = []\n",
        " \n",
        "session = tf.InteractiveSession()\n",
        "tf.global_variables_initializer().run()\n",
        "loss_nondecrease_count = 0\n",
        "loss_nondecrease_threshold = 2\n",
        "average_loss = 0\n",
        " \n",
        "data_gen = DataGeneratorSeq(train_data,batch_size,num_unrollings)\n",
        "x_axis_seq = []\n",
        "test_points_seq = np.arange(train_test_split_i,train_test_split_i+500,n_predict_once).tolist()"
      ],
      "execution_count": 28,
      "outputs": []
    },
    {
      "cell_type": "code",
      "metadata": {
        "id": "j5czSeTewITW",
        "colab_type": "code",
        "colab": {
          "base_uri": "https://localhost:8080/",
          "height": 1000
        },
        "outputId": "8a94f097-2180-4ff9-cb93-7a35f2738b08"
      },
      "source": [
        "for ep in range(epochs):\n",
        "    # =================== Training =======================\n",
        "    for step in range(train_seq_length//batch_size):\n",
        "        u_data, u_labels = data_gen.unroll_batches()\n",
        "        feed_dict = {}\n",
        "        for ui, (dat,lbl) in enumerate(zip(u_data,u_labels)):\n",
        "            feed_dict[train_inputs[ui]] = dat.reshape(-1,1)\n",
        "            feed_dict[train_outputs[ui]] = lbl.reshape(-1,1)\n",
        "        feed_dict.update({tf_learning_rate: 0.0001, tf_min_learning_rate:0.000001})\n",
        "        _, l = session.run([optimizer, loss], feed_dict=feed_dict)\n",
        "        average_loss += l\n",
        "    # =================== Validation =======================\n",
        "    if (ep+1) % valid_summary == 0:\n",
        "        average_loss = average_loss/(valid_summary*(train_seq_length//batch_size))\n",
        "        if (ep+1)%valid_summary==0:\n",
        "            print('Average loss at step %d: %f' %(ep+1, average_loss))\n",
        "        train_mse_ot.append(average_loss)\n",
        "        average_loss = 0\n",
        "        predictions_seq, mse_test_loss_seq = [], []\n",
        "    # =================== Update and make prediction =======================\n",
        "    for w_i in test_points_seq:\n",
        "        mse_test_loss = 0.0\n",
        "        our_predictions = []\n",
        "        if (ep+1)-valid_summary==0:\n",
        "            x_axis=[]\n",
        "        for tr_i in range(w_i-num_unrollings+1, w_i-1):\n",
        "            current_price = all_mid_data[tr_i]\n",
        "            feed_dict[sample_inputs] = np.array(current_price).reshape(1,1)\n",
        "            _ = session.run(sample_prediction, feed_dict=feed_dict)\n",
        "         \n",
        "        feed_dict = {}\n",
        "        current_price = all_mid_data[w_i-1]\n",
        "        feed_dict[sample_inputs] = np.array(current_price).reshape(1,1)\n",
        "        for pred_i in range(n_predict_once):\n",
        "            pred = session.run(sample_prediction, feed_dict=feed_dict)\n",
        "            our_predictions.append(np.asscalar(pred))\n",
        "            feed_dict[sample_inputs] = np.asarray(pred).reshape(-1,1)\n",
        "            if (ep+1)-valid_summary==0:\n",
        "                x_axis.append(w_i+pred_i)\n",
        "            mse_test_loss += 0.5 *(pred-all_mid_data[w_i+pred_i])**2\n",
        "        session.run(reset_sample_states)\n",
        "        predictions_seq.append(np.array(our_predictions))\n",
        "        mse_test_loss/=n_predict_once\n",
        "        mse_test_loss_seq.append(mse_test_loss)\n",
        "        if (ep+1)-valid_summary==0:\n",
        "            x_axis_seq.append(x_axis)\n",
        "    current_test_mse = np.mean(mse_test_loss_seq)\n",
        "     \n",
        "    # learning rate decay logic\n",
        "    if len(test_mse_ot)>0 and current_test_mse>min(test_mse_ot):\n",
        "        loss_nondecrease_count += 1\n",
        "    else:\n",
        "        loss_nondecrease_count = 0\n",
        "     \n",
        "    if loss_nondecrease_count > loss_nondecrease_threshold:\n",
        "        session.run(inc_gstep)\n",
        "        loss_nondecrease_count = 0\n",
        "        # Decreasing learning rate by 0.5\n",
        "    test_mse_ot.append(current_test_mse)\n",
        "    print('\\tTest MSE: %.5f'%np.mean(mse_test_loss_seq))\n",
        "    predictions_over_time.append(predictions_seq)\n",
        "    print('\\tFinished Predictions') "
      ],
      "execution_count": 29,
      "outputs": [
        {
          "output_type": "stream",
          "text": [
            "Average loss at step 1: 8.249178\n"
          ],
          "name": "stdout"
        },
        {
          "output_type": "stream",
          "text": [
            "/usr/local/lib/python3.6/dist-packages/ipykernel_launcher.py:36: DeprecationWarning: np.asscalar(a) is deprecated since NumPy v1.16, use a.item() instead\n"
          ],
          "name": "stderr"
        },
        {
          "output_type": "stream",
          "text": [
            "\tTest MSE: 0.84364\n",
            "\tFinished Predictions\n",
            "Average loss at step 2: 5.912785\n",
            "\tTest MSE: 0.74635\n",
            "\tFinished Predictions\n",
            "Average loss at step 3: 3.470091\n",
            "\tTest MSE: 0.52285\n",
            "\tFinished Predictions\n",
            "Average loss at step 4: 1.007997\n",
            "\tTest MSE: 0.15920\n",
            "\tFinished Predictions\n",
            "Average loss at step 5: 1.063596\n",
            "\tTest MSE: 0.16637\n",
            "\tFinished Predictions\n",
            "Average loss at step 6: 0.824467\n",
            "\tTest MSE: 0.24032\n",
            "\tFinished Predictions\n",
            "Average loss at step 7: 0.408698\n",
            "\tTest MSE: 0.35803\n",
            "\tFinished Predictions\n",
            "Average loss at step 8: 0.462391\n",
            "\tTest MSE: 0.31747\n",
            "\tFinished Predictions\n",
            "Average loss at step 9: 0.348320\n",
            "\tTest MSE: 0.22779\n",
            "\tFinished Predictions\n",
            "Average loss at step 10: 0.359206\n",
            "\tTest MSE: 0.20853\n",
            "\tFinished Predictions\n",
            "Average loss at step 11: 0.310840\n",
            "\tTest MSE: 0.23435\n",
            "\tFinished Predictions\n",
            "Average loss at step 12: 0.299201\n",
            "\tTest MSE: 0.27078\n",
            "\tFinished Predictions\n",
            "Average loss at step 13: 0.292077\n",
            "\tTest MSE: 0.27891\n",
            "\tFinished Predictions\n",
            "Average loss at step 14: 0.296275\n",
            "\tTest MSE: 0.26555\n",
            "\tFinished Predictions\n",
            "Average loss at step 15: 0.291049\n",
            "\tTest MSE: 0.24792\n",
            "\tFinished Predictions\n",
            "Average loss at step 16: 0.291525\n",
            "\tTest MSE: 0.23869\n",
            "\tFinished Predictions\n",
            "Average loss at step 17: 0.292557\n",
            "\tTest MSE: 0.23897\n",
            "\tFinished Predictions\n",
            "Average loss at step 18: 0.269436\n",
            "\tTest MSE: 0.24191\n",
            "\tFinished Predictions\n",
            "Average loss at step 19: 0.295184\n",
            "\tTest MSE: 0.24594\n",
            "\tFinished Predictions\n",
            "Average loss at step 20: 0.275087\n",
            "\tTest MSE: 0.24848\n",
            "\tFinished Predictions\n",
            "Average loss at step 21: 0.290851\n",
            "\tTest MSE: 0.25036\n",
            "\tFinished Predictions\n",
            "Average loss at step 22: 0.269530\n",
            "\tTest MSE: 0.25195\n",
            "\tFinished Predictions\n",
            "Average loss at step 23: 0.262568\n",
            "\tTest MSE: 0.25214\n",
            "\tFinished Predictions\n",
            "Average loss at step 24: 0.284118\n",
            "\tTest MSE: 0.25193\n",
            "\tFinished Predictions\n",
            "Average loss at step 25: 0.272499\n",
            "\tTest MSE: 0.25158\n",
            "\tFinished Predictions\n",
            "Average loss at step 26: 0.287288\n",
            "\tTest MSE: 0.25137\n",
            "\tFinished Predictions\n",
            "Average loss at step 27: 0.276034\n",
            "\tTest MSE: 0.25130\n",
            "\tFinished Predictions\n",
            "Average loss at step 28: 0.273268\n",
            "\tTest MSE: 0.25094\n",
            "\tFinished Predictions\n",
            "Average loss at step 29: 0.282952\n",
            "\tTest MSE: 0.25069\n",
            "\tFinished Predictions\n",
            "Average loss at step 30: 0.286864\n",
            "\tTest MSE: 0.25056\n",
            "\tFinished Predictions\n"
          ],
          "name": "stdout"
        }
      ]
    },
    {
      "cell_type": "code",
      "metadata": {
        "id": "N0RLcagKwIYo",
        "colab_type": "code",
        "colab": {
          "base_uri": "https://localhost:8080/",
          "height": 299
        },
        "outputId": "d63417b3-f455-405b-a9db-35534c7414fd"
      },
      "source": [
        "# Plot\n",
        " \n",
        "best_prediction_epoch = 2\n",
        " \n",
        "plt.plot(range(df.shape[0]),all_mid_data,color='b')\n",
        "for xval,yval in zip(x_axis_seq,predictions_over_time[best_prediction_epoch]):\n",
        "    plt.plot(xval,yval,color='r')\n",
        "plt.title('Best Test Predictions Over Time', fontsize=18)\n",
        "plt.xlabel('Date',fontsize=10)\n",
        "plt.ylabel('Mid Price',fontsize=10)\n",
        "plt.xlim(train_test_split_i,len(df))\n",
        "plt.show()"
      ],
      "execution_count": 30,
      "outputs": [
        {
          "output_type": "display_data",
          "data": {
            "image/png": "[encoded data removed]",
            "text/plain": [
              "<Figure size 432x288 with 1 Axes>"
            ]
          },
          "metadata": {
            "tags": [],
            "needs_background": "light"
          }
        }
      ]
    },
    {
      "cell_type": "markdown",
      "metadata": {
        "id": "WLIsa6Bzblmb",
        "colab_type": "text"
      },
      "source": [
        "## Decision Tree Regression Model and Linear Regression Model"
      ]
    },
    {
      "cell_type": "code",
      "metadata": {
        "id": "oLQ672F1bYKK",
        "colab_type": "code",
        "colab": {}
      },
      "source": [
        "# Import necessary models from sklearn\n",
        "\n",
        "from sklearn.tree import DecisionTreeRegressor\n",
        "from sklearn.linear_model import LinearRegression\n",
        "from sklearn.model_selection import train_test_split\n",
        "from sklearn.metrics import mean_squared_error"
      ],
      "execution_count": 31,
      "outputs": []
    },
    {
      "cell_type": "code",
      "metadata": {
        "id": "_ZJ-lQUObYO7",
        "colab_type": "code",
        "colab": {
          "base_uri": "https://localhost:8080/",
          "height": 357
        },
        "outputId": "583d04e6-a1ae-45fc-abb3-592998a8c490"
      },
      "source": [
        "# re-look at the initial data\n",
        "\n",
        "print(df.info())\n",
        "print(df.head())"
      ],
      "execution_count": 32,
      "outputs": [
        {
          "output_type": "stream",
          "text": [
            "<class 'pandas.core.frame.DataFrame'>\n",
            "Int64Index: 2567 entries, 2566 to 0\n",
            "Data columns (total 6 columns):\n",
            " #   Column      Non-Null Count  Dtype  \n",
            "---  ------      --------------  -----  \n",
            " 0   Unnamed: 0  2567 non-null   int64  \n",
            " 1   Date        2567 non-null   object \n",
            " 2   Low         2567 non-null   float64\n",
            " 3   High        2567 non-null   float64\n",
            " 4   Close       2567 non-null   float64\n",
            " 5   Open        2567 non-null   float64\n",
            "dtypes: float64(4), int64(1), object(1)\n",
            "memory usage: 140.4+ KB\n",
            "None\n",
            "      Unnamed: 0        Date    Low     High  Close   Open\n",
            "2566           0  2010-06-29  17.54  25.0000  23.89  19.00\n",
            "2565           1  2010-06-30  23.30  30.4192  23.83  25.79\n",
            "2564           2  2010-07-01  20.27  25.9200  21.96  25.00\n",
            "2563           3  2010-07-02  18.71  23.1000  19.20  23.00\n",
            "2562           4  2010-07-06  15.83  20.0000  16.11  20.00\n"
          ],
          "name": "stdout"
        }
      ]
    },
    {
      "cell_type": "code",
      "metadata": {
        "id": "cu9SpcOebYTx",
        "colab_type": "code",
        "colab": {
          "base_uri": "https://localhost:8080/",
          "height": 34
        },
        "outputId": "aae40b3b-6222-476b-a34c-ab39e3376e87"
      },
      "source": [
        "# number of rows = number of trading days\n",
        "\n",
        "print(df.shape)"
      ],
      "execution_count": 33,
      "outputs": [
        {
          "output_type": "stream",
          "text": [
            "(2567, 6)\n"
          ],
          "name": "stdout"
        }
      ]
    },
    {
      "cell_type": "code",
      "metadata": {
        "id": "5Fmk4fYDbYY1",
        "colab_type": "code",
        "colab": {
          "base_uri": "https://localhost:8080/",
          "height": 404
        },
        "outputId": "1d87eb69-0285-41b8-ba64-dc25121ba46a"
      },
      "source": [
        "# Prediction to be made on close price data\n",
        "# Visualisation of close price\n",
        "\n",
        "plt.figure(figsize=(12,6))\n",
        "plt.title('Stock Price Close')\n",
        "plt.xlabel('Days')\n",
        "plt.ylabel('Close Price')\n",
        "plt.plot(df['Close'])\n",
        "plt.show()"
      ],
      "execution_count": 34,
      "outputs": [
        {
          "output_type": "display_data",
          "data": {
            "image/png": "[encoded data removed]",
            "text/plain": [
              "<Figure size 864x432 with 1 Axes>"
            ]
          },
          "metadata": {
            "tags": [],
            "needs_background": "light"
          }
        }
      ]
    },
    {
      "cell_type": "code",
      "metadata": {
        "id": "kRs40Dm7bYcW",
        "colab_type": "code",
        "colab": {
          "base_uri": "https://localhost:8080/",
          "height": 119
        },
        "outputId": "f8c15b77-8f89-4f5f-d738-e82a3007d575"
      },
      "source": [
        "# Create close price only dataframe\n",
        "\n",
        "close_df = df[['Close']]\n",
        "print(close_df.head())"
      ],
      "execution_count": 35,
      "outputs": [
        {
          "output_type": "stream",
          "text": [
            "      Close\n",
            "2566  23.89\n",
            "2565  23.83\n",
            "2564  21.96\n",
            "2563  19.20\n",
            "2562  16.11\n"
          ],
          "name": "stdout"
        }
      ]
    },
    {
      "cell_type": "code",
      "metadata": {
        "id": "OVE5-4RgbYhv",
        "colab_type": "code",
        "colab": {
          "base_uri": "https://localhost:8080/",
          "height": 221
        },
        "outputId": "5cc74b73-10d3-4220-eaab-d38d597f54d7"
      },
      "source": [
        "# Define Variables\n",
        "\n",
        "days_to_future = 30    # Days into future model will predict into\n",
        "\n",
        "# Add target column to close_df with data for price shifted 'days_to_future' ahead\n",
        "close_df['Prediction'] = df[['Close']].shift(-days_to_future)\n",
        "print(close_df.head())"
      ],
      "execution_count": 36,
      "outputs": [
        {
          "output_type": "stream",
          "text": [
            "      Close  Prediction\n",
            "2566  23.89       17.90\n",
            "2565  23.83       17.60\n",
            "2564  21.96       18.32\n",
            "2563  19.20       18.78\n",
            "2562  16.11       19.15\n"
          ],
          "name": "stdout"
        },
        {
          "output_type": "stream",
          "text": [
            "/usr/local/lib/python3.6/dist-packages/ipykernel_launcher.py:6: SettingWithCopyWarning: \n",
            "A value is trying to be set on a copy of a slice from a DataFrame.\n",
            "Try using .loc[row_indexer,col_indexer] = value instead\n",
            "\n",
            "See the caveats in the documentation: https://pandas.pydata.org/pandas-docs/stable/user_guide/indexing.html#returning-a-view-versus-a-copy\n",
            "  \n"
          ],
          "name": "stderr"
        }
      ]
    },
    {
      "cell_type": "code",
      "metadata": {
        "id": "1sk99m7UcHyc",
        "colab_type": "code",
        "colab": {
          "base_uri": "https://localhost:8080/",
          "height": 119
        },
        "outputId": "c258d9ba-68c1-414e-d803-1d9d2235d801"
      },
      "source": [
        "# Verify predictions for end of dataframe are NaN\n",
        "print(close_df.tail())"
      ],
      "execution_count": 37,
      "outputs": [
        {
          "output_type": "stream",
          "text": [
            "    Close  Prediction\n",
            "4  475.05         NaN\n",
            "3  447.37         NaN\n",
            "2  407.00         NaN\n",
            "1  418.32         NaN\n",
            "0  330.21         NaN\n"
          ],
          "name": "stdout"
        }
      ]
    },
    {
      "cell_type": "code",
      "metadata": {
        "id": "Tie77I5TcIPR",
        "colab_type": "code",
        "colab": {
          "base_uri": "https://localhost:8080/",
          "height": 204
        },
        "outputId": "f9e6f63c-6452-4eae-c238-210c5f1d5750"
      },
      "source": [
        "# Create feature dataset 'X'\n",
        "# Leave off last 'days_to_future' rows\n",
        "\n",
        "X = np.array(close_df.drop(['Prediction'], 1))[:-days_to_future]\n",
        "print(X[:10])\n",
        "print(X.shape)"
      ],
      "execution_count": 38,
      "outputs": [
        {
          "output_type": "stream",
          "text": [
            "[[23.89]\n",
            " [23.83]\n",
            " [21.96]\n",
            " [19.2 ]\n",
            " [16.11]\n",
            " [15.8 ]\n",
            " [17.46]\n",
            " [17.4 ]\n",
            " [17.05]\n",
            " [18.14]]\n",
            "(2537, 1)\n"
          ],
          "name": "stdout"
        }
      ]
    },
    {
      "cell_type": "code",
      "metadata": {
        "id": "3RgtLlUNcIZX",
        "colab_type": "code",
        "colab": {
          "base_uri": "https://localhost:8080/",
          "height": 204
        },
        "outputId": "9b523555-3e23-42de-9308-40f5f28fb682"
      },
      "source": [
        "# Create target dataset 'y'\n",
        "# Leave off last 'days_to_future' rows\n",
        "\n",
        "y = np.array(close_df.drop(['Close'], 1))[:-days_to_future]\n",
        "print(y[:10])\n",
        "print(y.shape)"
      ],
      "execution_count": 39,
      "outputs": [
        {
          "output_type": "stream",
          "text": [
            "[[17.9 ]\n",
            " [17.6 ]\n",
            " [18.32]\n",
            " [18.78]\n",
            " [19.15]\n",
            " [18.77]\n",
            " [18.79]\n",
            " [19.1 ]\n",
            " [20.13]\n",
            " [19.2 ]]\n",
            "(2537, 1)\n"
          ],
          "name": "stdout"
        }
      ]
    },
    {
      "cell_type": "code",
      "metadata": {
        "id": "AlDhy66QcIgt",
        "colab_type": "code",
        "colab": {}
      },
      "source": [
        "# Split data into 20% test and 80% train data\n",
        "X_train, X_test, y_train, y_test = train_test_split(X, y, test_size = 0.20)"
      ],
      "execution_count": 40,
      "outputs": []
    },
    {
      "cell_type": "code",
      "metadata": {
        "id": "GdnQBl8wcIoR",
        "colab_type": "code",
        "colab": {
          "base_uri": "https://localhost:8080/",
          "height": 34
        },
        "outputId": "9e6d3108-cf0d-43c6-a71d-291ee37a9c40"
      },
      "source": [
        "# Create Decision Tree Regressor model\n",
        "\n",
        "tree_model = DecisionTreeRegressor()\n",
        "tree_model.fit(X_train, y_train)\n",
        "tree_pred = tree_model.predict(X_test)\n",
        "tree_mse = mean_squared_error(y_test, tree_pred)\n",
        "print(tree_mse)"
      ],
      "execution_count": 41,
      "outputs": [
        {
          "output_type": "stream",
          "text": [
            "6413.185537141988\n"
          ],
          "name": "stdout"
        }
      ]
    },
    {
      "cell_type": "code",
      "metadata": {
        "id": "zNie3u9BcIvF",
        "colab_type": "code",
        "colab": {
          "base_uri": "https://localhost:8080/",
          "height": 34
        },
        "outputId": "279925d4-46c6-4d46-df40-5842ed29c2ba"
      },
      "source": [
        "# Create Linear Regression model\n",
        "\n",
        "linear = LinearRegression()\n",
        "linear.fit(X_train, y_train)\n",
        "linear_pred = linear.predict(X_test)\n",
        "linear_mse = mean_squared_error(y_test, linear_pred)\n",
        "print(linear_mse)"
      ],
      "execution_count": 42,
      "outputs": [
        {
          "output_type": "stream",
          "text": [
            "5470.633277591847\n"
          ],
          "name": "stdout"
        }
      ]
    },
    {
      "cell_type": "code",
      "metadata": {
        "id": "-kQUB8jLckXM",
        "colab_type": "code",
        "colab": {
          "base_uri": "https://localhost:8080/",
          "height": 527
        },
        "outputId": "9d27993a-f649-48b2-cf0b-e4b8892334ee"
      },
      "source": [
        "future_days = close_df.drop(['Prediction'], 1)[:-days_to_future]\n",
        "future_days = future_days.tail(days_to_future)\n",
        "future_days = np.array(future_days)\n",
        "print(future_days)"
      ],
      "execution_count": 43,
      "outputs": [
        {
          "output_type": "stream",
          "text": [
            "[[ 990.9 ]\n",
            " [ 982.13]\n",
            " [ 991.79]\n",
            " [1003.96]\n",
            " [1000.9 ]\n",
            " [ 994.32]\n",
            " [1001.78]\n",
            " [ 960.85]\n",
            " [ 985.98]\n",
            " [ 959.74]\n",
            " [1009.35]\n",
            " [1079.81]\n",
            " [1119.63]\n",
            " [1208.66]\n",
            " [1371.58]\n",
            " [1389.86]\n",
            " [1365.88]\n",
            " [1394.28]\n",
            " [1544.65]\n",
            " [1497.06]\n",
            " [1516.8 ]\n",
            " [1546.01]\n",
            " [1500.64]\n",
            " [1500.84]\n",
            " [1643.  ]\n",
            " [1568.36]\n",
            " [1592.33]\n",
            " [1513.07]\n",
            " [1417.  ]\n",
            " [1539.6 ]]\n"
          ],
          "name": "stdout"
        }
      ]
    },
    {
      "cell_type": "code",
      "metadata": {
        "id": "rxVJ21YAckgQ",
        "colab_type": "code",
        "colab": {
          "base_uri": "https://localhost:8080/",
          "height": 85
        },
        "outputId": "611c0926-6377-46b0-8acc-cfe1c9331228"
      },
      "source": [
        "# Predict with Decision Tree Model\n",
        "tree_predict = tree_model.predict(future_days)\n",
        "print(tree_predict)"
      ],
      "execution_count": 44,
      "outputs": [
        {
          "output_type": "stream",
          "text": [
            "[1476.49 1499.11 1487.49 1430.76 1485.   1487.   1485.02 1489.58 1452.71\n",
            " 1489.58 1430.76 1554.76 1621.   1650.71 1835.64 1887.09 1878.53 2001.83\n",
            " 2049.98 2014.2  2023.34 2153.17 2213.4  2213.4   498.32  475.05  447.37\n",
            "  407.    418.32  330.21]\n"
          ],
          "name": "stdout"
        }
      ]
    },
    {
      "cell_type": "code",
      "metadata": {
        "id": "kMTDcR7ecklX",
        "colab_type": "code",
        "colab": {
          "base_uri": "https://localhost:8080/",
          "height": 527
        },
        "outputId": "c5ed576d-0546-43da-a0f4-781603f447f6"
      },
      "source": [
        "# Preduct with Linear Regression Model\n",
        "\n",
        "linear_predict = linear.predict(future_days)\n",
        "print(linear_predict)"
      ],
      "execution_count": 45,
      "outputs": [
        {
          "output_type": "stream",
          "text": [
            "[[1091.14566202]\n",
            " [1081.42914013]\n",
            " [1092.13171726]\n",
            " [1105.61519178]\n",
            " [1102.22493442]\n",
            " [1094.93477318]\n",
            " [1103.19991039]\n",
            " [1057.85244846]\n",
            " [1085.69466   ]\n",
            " [1056.62264922]\n",
            " [1111.5869196 ]\n",
            " [1189.65147294]\n",
            " [1233.76913564]\n",
            " [1332.40789783]\n",
            " [1512.91140379]\n",
            " [1533.16431374]\n",
            " [1506.59621852]\n",
            " [1538.06135214]\n",
            " [1704.66037123]\n",
            " [1651.93411388]\n",
            " [1673.8045976 ]\n",
            " [1706.16715228]\n",
            " [1655.9004934 ]\n",
            " [1656.12207885]\n",
            " [1813.6250153 ]\n",
            " [1730.9293261 ]\n",
            " [1757.48634204]\n",
            " [1669.67202899]\n",
            " [1563.23345903]\n",
            " [1699.06533867]]\n"
          ],
          "name": "stdout"
        }
      ]
    },
    {
      "cell_type": "code",
      "metadata": {
        "id": "R-h6klZPckpl",
        "colab_type": "code",
        "colab": {
          "base_uri": "https://localhost:8080/",
          "height": 51
        },
        "outputId": "d6153b6b-0411-486a-dd82-45a16ecf086c"
      },
      "source": [
        "# Future Prediction MSE, linear and decision tree\n",
        "\n",
        "future_tree_mse = mean_squared_error(future_days, tree_predict)\n",
        "future_linear_mse = mean_squared_error(future_days, linear_predict)\n",
        "\n",
        "print('30 Day Tree Future Prediction MSE: ', future_tree_mse)\n",
        "print('30 Day Linear Future Prediction MSE: ', future_linear_mse)"
      ],
      "execution_count": 46,
      "outputs": [
        {
          "output_type": "stream",
          "text": [
            "30 Day Tree Future Prediction MSE:  467594.9695933334\n",
            "30 Day Linear Future Prediction MSE:  17794.48431694307\n"
          ],
          "name": "stdout"
        }
      ]
    },
    {
      "cell_type": "code",
      "metadata": {
        "id": "rT5HKcC3ckuG",
        "colab_type": "code",
        "colab": {
          "base_uri": "https://localhost:8080/",
          "height": 506
        },
        "outputId": "6c9846aa-7e99-4d4a-a191-13dc0eeb66f0"
      },
      "source": [
        "# Visualization of results\n",
        "\n",
        "predictions = tree_predict\n",
        "\n",
        "validation = close_df[X.shape[0]:]\n",
        "validation['Predictions'] = predictions\n",
        "\n",
        "plt.figure(figsize=(12,6))\n",
        "plt.title('Model Predictions')\n",
        "plt.xlabel('Days')\n",
        "plt.ylabel('Predictions')\n",
        "plt.plot(close_df['Close'].iloc[3600:])\n",
        "plt.plot(validation[['Close', 'Predictions']])\n",
        "plt.legend(['Observed', 'Validated', 'Predicted'])\n",
        "plt.show()"
      ],
      "execution_count": 47,
      "outputs": [
        {
          "output_type": "stream",
          "text": [
            "/usr/local/lib/python3.6/dist-packages/ipykernel_launcher.py:6: SettingWithCopyWarning: \n",
            "A value is trying to be set on a copy of a slice from a DataFrame.\n",
            "Try using .loc[row_indexer,col_indexer] = value instead\n",
            "\n",
            "See the caveats in the documentation: https://pandas.pydata.org/pandas-docs/stable/user_guide/indexing.html#returning-a-view-versus-a-copy\n",
            "  \n"
          ],
          "name": "stderr"
        },
        {
          "output_type": "display_data",
          "data": {
            "image/png": "[encoded data removed]",
            "text/plain": [
              "<Figure size 864x432 with 1 Axes>"
            ]
          },
          "metadata": {
            "tags": [],
            "needs_background": "light"
          }
        }
      ]
    },
    {
      "cell_type": "code",
      "metadata": {
        "id": "822puL-7ckyL",
        "colab_type": "code",
        "colab": {
          "base_uri": "https://localhost:8080/",
          "height": 506
        },
        "outputId": "4851458f-6e1c-43a4-9b60-5dd098853ad1"
      },
      "source": [
        "# Visualize Linear Model Results\n",
        "\n",
        "lpredictions = linear_predict\n",
        "\n",
        "validation = close_df[X.shape[0]:]\n",
        "validation['Predictions'] = lpredictions\n",
        "\n",
        "plt.figure(figsize=(12,6))\n",
        "plt.title('Model Predictions')\n",
        "plt.xlabel('Days')\n",
        "plt.ylabel('Predictions')\n",
        "plt.plot(close_df['Close'].iloc[3600:])\n",
        "plt.plot(validation[['Close', 'Predictions']])\n",
        "plt.legend(['Observed', 'Validated', 'Predicted'])\n",
        "plt.show()"
      ],
      "execution_count": 48,
      "outputs": [
        {
          "output_type": "stream",
          "text": [
            "/usr/local/lib/python3.6/dist-packages/ipykernel_launcher.py:6: SettingWithCopyWarning: \n",
            "A value is trying to be set on a copy of a slice from a DataFrame.\n",
            "Try using .loc[row_indexer,col_indexer] = value instead\n",
            "\n",
            "See the caveats in the documentation: https://pandas.pydata.org/pandas-docs/stable/user_guide/indexing.html#returning-a-view-versus-a-copy\n",
            "  \n"
          ],
          "name": "stderr"
        },
        {
          "output_type": "display_data",
          "data": {
            "image/png": "[encoded data removed]",
            "text/plain": [
              "<Figure size 864x432 with 1 Axes>"
            ]
          },
          "metadata": {
            "tags": [],
            "needs_background": "light"
          }
        }
      ]
    },
    {
      "cell_type": "markdown",
      "metadata": {
        "id": "VEzJw8HydK0c",
        "colab_type": "text"
      },
      "source": [
        "## XG Boost Model"
      ]
    },
    {
      "cell_type": "code",
      "metadata": {
        "id": "qK6Xs0v1cIz8",
        "colab_type": "code",
        "colab": {
          "base_uri": "https://localhost:8080/",
          "height": 34
        },
        "outputId": "c652769e-c536-4690-e78d-223b17bb173d"
      },
      "source": [
        "import xgboost as xgb\n",
        "\n",
        "# Convert the training and testing sets into DMatrixes: DM_train, DM_test\n",
        "DM_train = xgb.DMatrix(data=X_train, label=y_train)\n",
        "DM_test =  xgb.DMatrix(data=X_test, label=y_test)\n",
        "\n",
        "\n",
        "# Create the parameter dictionary: params\n",
        "params = {\"objective\":\"reg:squarederror\"}\n",
        "\n",
        "# Train the model: xg_reg\n",
        "xg_reg = xgb.train(params = params, dtrain=DM_train, num_boost_round=5)\n",
        "\n",
        "# Predict the labels of the test set: preds\n",
        "preds = xg_reg.predict(DM_test)\n",
        "\n",
        "# Compute and print the RMSE\n",
        "xgb_mse = mean_squared_error(X_test,preds)\n",
        "print(\"MSE: %f\" % (xgb_mse))"
      ],
      "execution_count": 49,
      "outputs": [
        {
          "output_type": "stream",
          "text": [
            "MSE: 2853.576870\n"
          ],
          "name": "stdout"
        }
      ]
    },
    {
      "cell_type": "code",
      "metadata": {
        "id": "XTwYcrXTbYoR",
        "colab_type": "code",
        "colab": {
          "base_uri": "https://localhost:8080/",
          "height": 153
        },
        "outputId": "56a891dc-5cf4-4932-9d87-432014454742"
      },
      "source": [
        "# Cross Validation with XGBoost\n",
        "\n",
        "# Create the DMatrix: xgb_dmatrix\n",
        "xgb_dmatrix = xgb.DMatrix(data=X, label=y)\n",
        "\n",
        "# Create the parameter dictionary: params\n",
        "params = {\"objective\":\"reg:squarederror\", \"max_depth\":4}\n",
        "\n",
        "# Perform cross-validation: cv_results\n",
        "cv_results = xgb.cv(dtrain=xgb_dmatrix, params=params, nfold=4, num_boost_round=5, metrics='rmse', as_pandas=True, seed=123)\n",
        "\n",
        "# Print cv_results\n",
        "print(cv_results)\n",
        "\n",
        "# Extract and print final boosting round metric\n",
        "print((cv_results[\"test-rmse-mean\"]).tail(1))"
      ],
      "execution_count": 50,
      "outputs": [
        {
          "output_type": "stream",
          "text": [
            "   train-rmse-mean  train-rmse-std  test-rmse-mean  test-rmse-std\n",
            "0       245.858414        2.289037      246.250610       7.184579\n",
            "1       182.064400        2.263041      183.796879       5.746352\n",
            "2       139.135174        1.949627      144.084129       3.578767\n",
            "3       110.644566        2.400754      118.593588       2.657510\n",
            "4        92.579014        2.397863      104.998121       3.215463\n",
            "4    104.998121\n",
            "Name: test-rmse-mean, dtype: float64\n"
          ],
          "name": "stdout"
        }
      ]
    },
    {
      "cell_type": "code",
      "metadata": {
        "id": "FOt-S1MQdTQi",
        "colab_type": "code",
        "colab": {
          "base_uri": "https://localhost:8080/",
          "height": 102
        },
        "outputId": "5ad3c1a4-21cb-4c82-db12-80b1fc237f26"
      },
      "source": [
        "# Hyperparameter tuning using RandomizedSearchCV\n",
        "\n",
        "from sklearn.model_selection import RandomizedSearchCV\n",
        "\n",
        "# Create the parameter grid: gbm_param_grid \n",
        "gbm_param_grid = {\n",
        "    'colsample_bytree': np.arange(0.2, 0.7, 0.1),\n",
        "    'learning_rate': np.arange(0.04, 1, 0.02),\n",
        "    'max_depth': np.arange(3, 10, 1),\n",
        "    'n_estimators': np.arange(50, 200, 50)\n",
        "\n",
        "}\n",
        "\n",
        "# Instantiate the regressor: gbm\n",
        "rs_gbm = xgb.XGBRegressor(objective=\"reg:squarederror\", n_estimators=10)\n",
        "\n",
        "# Perform random search: grid_mse\n",
        "randomized_mse = RandomizedSearchCV(param_distributions=gbm_param_grid, estimator=rs_gbm, scoring=\"neg_mean_squared_error\", verbose=1, n_iter=5, cv=4)\n",
        "\n",
        "\n",
        "# Fit randomized_mse to the data\n",
        "randomized_mse.fit(X,y)\n",
        "\n",
        "# Print the best parameters and lowest RMSE\n",
        "print(\"Best parameters found: \", randomized_mse.best_params_)\n",
        "print(\"Lowest RMSE found: \", np.sqrt(np.abs(randomized_mse.best_score_)))"
      ],
      "execution_count": 51,
      "outputs": [
        {
          "output_type": "stream",
          "text": [
            "Fitting 4 folds for each of 5 candidates, totalling 20 fits\n"
          ],
          "name": "stdout"
        },
        {
          "output_type": "stream",
          "text": [
            "[Parallel(n_jobs=1)]: Using backend SequentialBackend with 1 concurrent workers.\n"
          ],
          "name": "stderr"
        },
        {
          "output_type": "stream",
          "text": [
            "Best parameters found:  {'n_estimators': 50, 'max_depth': 7, 'learning_rate': 0.7, 'colsample_bytree': 0.30000000000000004}\n",
            "Lowest RMSE found:  199.13268868148037\n"
          ],
          "name": "stdout"
        },
        {
          "output_type": "stream",
          "text": [
            "[Parallel(n_jobs=1)]: Done  20 out of  20 | elapsed:    1.7s finished\n"
          ],
          "name": "stderr"
        }
      ]
    },
    {
      "cell_type": "code",
      "metadata": {
        "id": "WYIr54XpdTae",
        "colab_type": "code",
        "colab": {
          "base_uri": "https://localhost:8080/",
          "height": 34
        },
        "outputId": "408af6c4-5f87-4c3a-814a-ba31a2145684"
      },
      "source": [
        "# Create the parameter dictionary: params\n",
        "best_params = {\"objective\":\"reg:squarederror\", 'n_estimators': 100, 'max_depth': 3, 'learning_rate': 0.31999999999999995, 'colsample_bytree': 0.2 }\n",
        "\n",
        "# Train the model: xg_reg\n",
        "best_xg_reg = xgb.train(params = params, dtrain=DM_train, num_boost_round=5)\n",
        "\n",
        "# Predict the labels of the test set: preds\n",
        "best_preds = best_xg_reg.predict(DM_test)\n",
        "\n",
        "# Compute and print the RMSE\n",
        "best_xgb_mse = mean_squared_error(X_test,best_preds)\n",
        "print(\"RMSE: %f\" % (best_xgb_mse))"
      ],
      "execution_count": 52,
      "outputs": [
        {
          "output_type": "stream",
          "text": [
            "RMSE: 2316.076049\n"
          ],
          "name": "stdout"
        }
      ]
    },
    {
      "cell_type": "code",
      "metadata": {
        "id": "3gPEogmxdThu",
        "colab_type": "code",
        "colab": {
          "base_uri": "https://localhost:8080/",
          "height": 404
        },
        "outputId": "c6fe7664-181d-484e-da55-24c500a7c58f"
      },
      "source": [
        "# Plot Best XGB Prediction for the final 43 days\n",
        "plt.figure(figsize=(12,6))\n",
        "plt.title('XGB Model Predictions')\n",
        "plt.xlabel('Days')\n",
        "plt.ylabel('XGB Predictions')\n",
        "plt.plot(best_preds[700:], c='red')\n",
        "plt.plot(X_test[700:], c='blue', alpha = 0.5)\n",
        "plt.show()"
      ],
      "execution_count": 53,
      "outputs": [
        {
          "output_type": "display_data",
          "data": {
            "image/png": "[encoded data removed]",
            "text/plain": [
              "<Figure size 864x432 with 1 Axes>"
            ]
          },
          "metadata": {
            "tags": [],
            "needs_background": "light"
          }
        }
      ]
    },
    {
      "cell_type": "markdown",
      "metadata": {
        "id": "Iexbmto0fZWG",
        "colab_type": "text"
      },
      "source": [
        "## One step ahead prediction using Standard Averaging technique"
      ]
    },
    {
      "cell_type": "code",
      "metadata": {
        "id": "iLl3YpO4dTmU",
        "colab_type": "code",
        "colab": {
          "base_uri": "https://localhost:8080/",
          "height": 34
        },
        "outputId": "b0a53628-2b18-4fc2-e39b-bfd157cd0f34"
      },
      "source": [
        "# One step ahead prediction using Standard Averaging technique\n",
        "\n",
        "# Define initial values and create empty arrays\n",
        "\n",
        "window_size = 50\n",
        "N = train_data.size\n",
        "\n",
        "\n",
        "std_avg_predictions = []\n",
        "std_avg_date = []\n",
        "std_mse_errors = []\n",
        "\n",
        "# Generate Predictions and append predictions, dates, and errors to correct arrays\n",
        "\n",
        "for idx in range(window_size, N):\n",
        "\n",
        "  if idx >= N:\n",
        "    date = dt.datetime.strptime(k, '%Y-%m-%d').date + dt.timedelta(days=1)\n",
        "  else:\n",
        "    date = df.loc[idx, 'Date']\n",
        "\n",
        "  std_avg_predictions.append(np.mean(train_data[idx-window_size:idx]))\n",
        "  std_mse_errors.append((std_avg_predictions[-1]-train_data[idx])**2)\n",
        "  std_avg_date.append(date)  \n",
        "\n",
        "\n",
        "# Print resulting MSE for Standard Averaging\n",
        "print('Standard Average MSE error: %.5f'%(0.5*np.mean(std_mse_errors)))"
      ],
      "execution_count": 54,
      "outputs": [
        {
          "output_type": "stream",
          "text": [
            "Standard Average MSE error: 0.00808\n"
          ],
          "name": "stdout"
        }
      ]
    },
    {
      "cell_type": "code",
      "metadata": {
        "id": "O4AmEkGkdTrL",
        "colab_type": "code",
        "colab": {
          "base_uri": "https://localhost:8080/",
          "height": 388
        },
        "outputId": "8878e6e8-dffa-4c03-a709-3288cfa25998"
      },
      "source": [
        "# Visualize Standard Average Preduction and Actual Value on overlayed plot\n",
        "\n",
        "plt.figure(figsize=(12,6))\n",
        "plt.plot(range(df.shape[0]), all_mid_data, color='blue', label='Actual')\n",
        "plt.plot(range(window_size,N), std_avg_predictions, color = 'red', label='Predicted')\n",
        "plt.xlabel('Date')\n",
        "plt.ylabel('Mid Range Price')\n",
        "plt.legend()\n",
        "plt.show()"
      ],
      "execution_count": 55,
      "outputs": [
        {
          "output_type": "display_data",
          "data": {
            "image/png": "[encoded data removed]",
            "text/plain": [
              "<Figure size 864x432 with 1 Axes>"
            ]
          },
          "metadata": {
            "tags": [],
            "needs_background": "light"
          }
        }
      ]
    },
    {
      "cell_type": "markdown",
      "metadata": {
        "id": "Xe2LbiJYfRRc",
        "colab_type": "text"
      },
      "source": [
        "## One step ahead prediction using the Exponential Moving Average"
      ]
    },
    {
      "cell_type": "code",
      "metadata": {
        "id": "hX-_P4FPdTzg",
        "colab_type": "code",
        "colab": {
          "base_uri": "https://localhost:8080/",
          "height": 34
        },
        "outputId": "9f50d2ca-ba4d-441c-c87a-8f329135ed2f"
      },
      "source": [
        "# One step ahead prediction using the Exponential Moving Average\n",
        "\n",
        "# Define initial values and create empty arrays \n",
        "\n",
        "window_size = 50\n",
        "N = train_data.size\n",
        "\n",
        "run_avg_predictions = []\n",
        "run_avg_dates = []\n",
        "run_mse_errors = []\n",
        "\n",
        "running_mean = 0.0     # exponential moving average\n",
        "decay = 0.5            # gamma\n",
        "\n",
        "run_avg_predictions.append(running_mean)\n",
        "\n",
        "# Generate Predictions and append predictions, dates, and errors to correct arrays\n",
        "\n",
        "for ema_idx in range(1,N):\n",
        "  running_mean = running_mean*decay + (1-decay)*train_data[ema_idx-1]\n",
        "  run_avg_predictions.append(running_mean)\n",
        "  run_mse_errors.append((run_avg_predictions[-1]-train_data[ema_idx])**2)\n",
        "  run_avg_dates.append(date)\n",
        "\n",
        "\n",
        "# Print resulting MSE for Standard Averaging\n",
        "print('Standard Average MSE error: %.5f'%(0.5*np.mean(run_mse_errors)))  "
      ],
      "execution_count": 56,
      "outputs": [
        {
          "output_type": "stream",
          "text": [
            "Standard Average MSE error: 0.00013\n"
          ],
          "name": "stdout"
        }
      ]
    },
    {
      "cell_type": "code",
      "metadata": {
        "id": "vop2Uar9dT7X",
        "colab_type": "code",
        "colab": {
          "base_uri": "https://localhost:8080/",
          "height": 388
        },
        "outputId": "393f08d5-9b67-4401-a9f6-eb3eac277546"
      },
      "source": [
        "# Visualize Exponential Moving Average Preduction and Actual Value on overlayed plot\n",
        "\n",
        "plt.figure(figsize=(12,6))\n",
        "plt.plot(range(df.shape[0]), all_mid_data, color='blue', label='Actual')\n",
        "plt.plot(range(0,N), run_avg_predictions, color = 'red', label='Predicted')\n",
        "plt.xlabel('Date')\n",
        "plt.ylabel('Mid Range Price')\n",
        "plt.legend()\n",
        "plt.show()"
      ],
      "execution_count": 57,
      "outputs": [
        {
          "output_type": "display_data",
          "data": {
            "image/png": "[encoded data removed]",
            "text/plain": [
              "<Figure size 864x432 with 1 Axes>"
            ]
          },
          "metadata": {
            "tags": [],
            "needs_background": "light"
          }
        }
      ]
    },
    {
      "cell_type": "markdown",
      "metadata": {
        "id": "tqZ_31FqwmBz",
        "colab_type": "text"
      },
      "source": [
        "## Part Two:\n",
        "## Prediction Accuracy Improvement with Hyperparameter Tuning of Simple Models"
      ]
    },
    {
      "cell_type": "code",
      "metadata": {
        "id": "N60kV2Xawgxi",
        "colab_type": "code",
        "colab": {
          "base_uri": "https://localhost:8080/",
          "height": 34
        },
        "outputId": "90a3f29e-7fac-4205-d64b-522491e4e5d4"
      },
      "source": [
        "# Ridge Regression\n",
        "\n",
        "from sklearn import linear_model\n",
        "ridge = linear_model.Ridge(alpha=.5)\n",
        "ridge.fit(X_train, y_train)\n",
        "ridge_pred = ridge.predict(X_test)\n",
        "ridge_mse = mean_squared_error(y_test, ridge_pred)\n",
        "print(ridge_mse)\n"
      ],
      "execution_count": 58,
      "outputs": [
        {
          "output_type": "stream",
          "text": [
            "5470.633318808379\n"
          ],
          "name": "stdout"
        }
      ]
    },
    {
      "cell_type": "code",
      "metadata": {
        "id": "_5QcSMhjwhEc",
        "colab_type": "code",
        "colab": {
          "base_uri": "https://localhost:8080/",
          "height": 51
        },
        "outputId": "62f06a06-31ea-421c-9fdf-285d5b41ff52"
      },
      "source": [
        "# Cross Validated RidgeCV\n",
        "\n",
        "ridge_cv = linear_model.RidgeCV(alphas=np.logspace(-6, 6, 13), cv=10)\n",
        "ridge_cv.fit(X_train, y_train)\n",
        "ridge_cv_pred = ridge_cv.predict(X_test)\n",
        "ridge_cv_mse = mean_squared_error(y_test, ridge_cv_pred)\n",
        "print(ridge_cv_mse)\n",
        "print(ridge_cv.alpha_)\n"
      ],
      "execution_count": 59,
      "outputs": [
        {
          "output_type": "stream",
          "text": [
            "5478.915747850397\n",
            "100000.0\n"
          ],
          "name": "stdout"
        }
      ]
    },
    {
      "cell_type": "code",
      "metadata": {
        "id": "2TdJvv1ZwhN9",
        "colab_type": "code",
        "colab": {
          "base_uri": "https://localhost:8080/",
          "height": 527
        },
        "outputId": "a91df0da-0730-4f75-b97b-003c77a1cacc"
      },
      "source": [
        "# Future Predict with Ridge Model\n",
        "ridge_predict = ridge.predict(future_days)\n",
        "print(ridge_predict)"
      ],
      "execution_count": 60,
      "outputs": [
        {
          "output_type": "stream",
          "text": [
            "[[1091.1456569 ]\n",
            " [1081.42913506]\n",
            " [1092.13171214]\n",
            " [1105.61518657]\n",
            " [1102.22492924]\n",
            " [1094.93476804]\n",
            " [1103.1999052 ]\n",
            " [1057.85244354]\n",
            " [1085.69465491]\n",
            " [1056.62264431]\n",
            " [1111.58691436]\n",
            " [1189.65146723]\n",
            " [1233.76912966]\n",
            " [1332.40789126]\n",
            " [1512.91139613]\n",
            " [1533.16430596]\n",
            " [1506.5962109 ]\n",
            " [1538.06134433]\n",
            " [1704.66036243]\n",
            " [1651.93410539]\n",
            " [1673.80458897]\n",
            " [1706.16714346]\n",
            " [1655.90048488]\n",
            " [1656.12207033]\n",
            " [1813.62500583]\n",
            " [1730.92931713]\n",
            " [1757.48633292]\n",
            " [1669.67202039]\n",
            " [1563.23345108]\n",
            " [1699.0653299 ]]\n"
          ],
          "name": "stdout"
        }
      ]
    },
    {
      "cell_type": "code",
      "metadata": {
        "id": "FF7FECkTwhYJ",
        "colab_type": "code",
        "colab": {
          "base_uri": "https://localhost:8080/",
          "height": 527
        },
        "outputId": "c1471558-1a98-463d-93ec-7598cf9a9b5c"
      },
      "source": [
        "# Future Predict with Ridge CV Model\n",
        "ridge_cv_predict = ridge_cv.predict(future_days)\n",
        "print(ridge_cv_predict)"
      ],
      "execution_count": 61,
      "outputs": [
        {
          "output_type": "stream",
          "text": [
            "[[1090.12303276]\n",
            " [1080.41818546]\n",
            " [1091.10790324]\n",
            " [1104.57517709]\n",
            " [1101.1889932 ]\n",
            " [1093.90759123]\n",
            " [1102.16279771]\n",
            " [1056.86982166]\n",
            " [1084.67858023]\n",
            " [1055.64150005]\n",
            " [1110.53972976]\n",
            " [1188.51048698]\n",
            " [1232.57514142]\n",
            " [1331.09538716]\n",
            " [1511.38201455]\n",
            " [1531.61059022]\n",
            " [1505.0744171 ]\n",
            " [1536.50174473]\n",
            " [1702.90059177]\n",
            " [1650.23768607]\n",
            " [1672.08189196]\n",
            " [1704.40556239]\n",
            " [1654.1992999 ]\n",
            " [1654.42061911]\n",
            " [1811.73431263]\n",
            " [1729.13798396]\n",
            " [1755.66309112]\n",
            " [1667.95428872]\n",
            " [1561.64360684]\n",
            " [1697.31228175]]\n"
          ],
          "name": "stdout"
        }
      ]
    },
    {
      "cell_type": "code",
      "metadata": {
        "id": "wH6j5Zs8whh7",
        "colab_type": "code",
        "colab": {
          "base_uri": "https://localhost:8080/",
          "height": 51
        },
        "outputId": "04aa090a-d795-4471-b2f0-1a8cf8cb45c1"
      },
      "source": [
        "# Future Prediction MSE, Ridge and Ridge CV\n",
        "\n",
        "future_ridge_mse = mean_squared_error(future_days, ridge_predict)\n",
        "future_ridgecv_mse = mean_squared_error(future_days, ridge_cv_predict)\n",
        "\n",
        "print('30 Day Ridge Regression Prediction MSE: ', future_ridge_mse)\n",
        "print('30 Day Cross Validated Ridge Regression Prediction MSE: ', future_ridgecv_mse)"
      ],
      "execution_count": 62,
      "outputs": [
        {
          "output_type": "stream",
          "text": [
            "30 Day Ridge Regression Prediction MSE:  17794.482399283926\n",
            "30 Day Cross Validated Ridge Regression Prediction MSE:  17413.476757357395\n"
          ],
          "name": "stdout"
        }
      ]
    },
    {
      "cell_type": "code",
      "metadata": {
        "id": "q5r-Ishrwhrm",
        "colab_type": "code",
        "colab": {
          "base_uri": "https://localhost:8080/",
          "height": 506
        },
        "outputId": "61d1ff26-9a42-43cd-be50-f280bd35cea8"
      },
      "source": [
        "# Visualize Ridge Model Results\n",
        "\n",
        "rpredictions = ridge_predict\n",
        "\n",
        "validation = close_df[X.shape[0]:]\n",
        "validation['Predictions'] = rpredictions\n",
        "\n",
        "plt.figure(figsize=(12,6))\n",
        "plt.title('Model Predictions')\n",
        "plt.xlabel('Days')\n",
        "plt.ylabel('Predictions')\n",
        "plt.plot(close_df['Close'].iloc[3600:])\n",
        "plt.plot(validation[['Close', 'Predictions']])\n",
        "plt.legend(['Observed', 'Validated', 'Predicted'])\n",
        "plt.show()"
      ],
      "execution_count": 63,
      "outputs": [
        {
          "output_type": "stream",
          "text": [
            "/usr/local/lib/python3.6/dist-packages/ipykernel_launcher.py:6: SettingWithCopyWarning: \n",
            "A value is trying to be set on a copy of a slice from a DataFrame.\n",
            "Try using .loc[row_indexer,col_indexer] = value instead\n",
            "\n",
            "See the caveats in the documentation: https://pandas.pydata.org/pandas-docs/stable/user_guide/indexing.html#returning-a-view-versus-a-copy\n",
            "  \n"
          ],
          "name": "stderr"
        },
        {
          "output_type": "display_data",
          "data": {
            "image/png": "[encoded data removed]",
            "text/plain": [
              "<Figure size 864x432 with 1 Axes>"
            ]
          },
          "metadata": {
            "tags": [],
            "needs_background": "light"
          }
        }
      ]
    },
    {
      "cell_type": "code",
      "metadata": {
        "id": "SbKAotqzwh3F",
        "colab_type": "code",
        "colab": {
          "base_uri": "https://localhost:8080/",
          "height": 506
        },
        "outputId": "b5db2877-3742-46a9-82c0-1cf0fe537c13"
      },
      "source": [
        "# Visualize Cross Validated Ridge Model Results\n",
        "\n",
        "rcvpredictions = ridge_cv_predict\n",
        "\n",
        "validation = close_df[X.shape[0]:]\n",
        "validation['Predictions'] = rcvpredictions\n",
        "\n",
        "plt.figure(figsize=(12,6))\n",
        "plt.title('Model Predictions')\n",
        "plt.xlabel('Days')\n",
        "plt.ylabel('Predictions')\n",
        "plt.plot(close_df['Close'].iloc[3600:])\n",
        "plt.plot(validation[['Close', 'Predictions']])\n",
        "plt.legend(['Observed', 'Validated', 'Predicted'])\n",
        "plt.show()"
      ],
      "execution_count": 64,
      "outputs": [
        {
          "output_type": "stream",
          "text": [
            "/usr/local/lib/python3.6/dist-packages/ipykernel_launcher.py:6: SettingWithCopyWarning: \n",
            "A value is trying to be set on a copy of a slice from a DataFrame.\n",
            "Try using .loc[row_indexer,col_indexer] = value instead\n",
            "\n",
            "See the caveats in the documentation: https://pandas.pydata.org/pandas-docs/stable/user_guide/indexing.html#returning-a-view-versus-a-copy\n",
            "  \n"
          ],
          "name": "stderr"
        },
        {
          "output_type": "display_data",
          "data": {
            "image/png": "[encoded data removed]",
            "text/plain": [
              "<Figure size 864x432 with 1 Axes>"
            ]
          },
          "metadata": {
            "tags": [],
            "needs_background": "light"
          }
        }
      ]
    },
    {
      "cell_type": "code",
      "metadata": {
        "id": "a8DsvBL_4wi0",
        "colab_type": "code",
        "colab": {
          "base_uri": "https://localhost:8080/",
          "height": 34
        },
        "outputId": "70cfcb21-40b8-4d46-a2e9-57582dd679c3"
      },
      "source": [
        "# Lasso\n",
        "\n",
        "clf = linear_model.Lasso(alpha=0.1)\n",
        "clf.fit(X_train, y_train)\n",
        "clf_pred = clf.predict(X_test)\n",
        "clf_mse = mean_squared_error(y_test, clf_pred)\n",
        "print(clf_mse)"
      ],
      "execution_count": 65,
      "outputs": [
        {
          "output_type": "stream",
          "text": [
            "5470.648374117258\n"
          ],
          "name": "stdout"
        }
      ]
    },
    {
      "cell_type": "code",
      "metadata": {
        "id": "Nn5SABZg4w1B",
        "colab_type": "code",
        "colab": {
          "base_uri": "https://localhost:8080/",
          "height": 119
        },
        "outputId": "9403c33b-e622-461c-c4de-e31aa86fe8dd"
      },
      "source": [
        "# Future Predict with Lasso Model\n",
        "\n",
        "clf_predict = clf.predict(future_days)\n",
        "print(clf_predict)"
      ],
      "execution_count": 66,
      "outputs": [
        {
          "output_type": "stream",
          "text": [
            "[1091.14378698 1081.42728649 1092.12984005 1105.61328486 1102.22303497\n",
            " 1094.93288979 1103.19800879 1057.85064676 1085.69279697 1056.62085023\n",
            " 1111.58499953 1189.64938088 1233.76694639 1332.40549127 1512.90859958\n",
            " 1533.16146491 1506.59342822 1538.05849252 1704.65714459 1651.93100339\n",
            " 1673.80143893 1706.16392232 1655.89737417 1656.11895913 1813.6215486\n",
            " 1730.92604158 1757.48299902 1669.66887943 1563.23054396 1699.06212435]\n"
          ],
          "name": "stdout"
        }
      ]
    },
    {
      "cell_type": "code",
      "metadata": {
        "id": "TgAtjs-54w-T",
        "colab_type": "code",
        "colab": {
          "base_uri": "https://localhost:8080/",
          "height": 34
        },
        "outputId": "37c0b1f6-18bd-4d85-e117-f31b41c044fa"
      },
      "source": [
        "# Future Prediction MSE for Lasso\n",
        "\n",
        "future_clf_mse = mean_squared_error(future_days, clf_predict)\n",
        "\n",
        "print('30 Day Lasso Future Prediction MSE: ', future_clf_mse)\n"
      ],
      "execution_count": 67,
      "outputs": [
        {
          "output_type": "stream",
          "text": [
            "30 Day Lasso Future Prediction MSE:  17793.781943699698\n"
          ],
          "name": "stdout"
        }
      ]
    },
    {
      "cell_type": "code",
      "metadata": {
        "id": "E0AqL95k4xIb",
        "colab_type": "code",
        "colab": {
          "base_uri": "https://localhost:8080/",
          "height": 506
        },
        "outputId": "7f3861c1-51f8-4dc4-8a32-62f1df611c95"
      },
      "source": [
        "# Visualize Lasso Model Results\n",
        "\n",
        "clfpredictions = clf_predict\n",
        "\n",
        "validation = close_df[X.shape[0]:]\n",
        "validation['Predictions'] = clfpredictions\n",
        "\n",
        "plt.figure(figsize=(12,6))\n",
        "plt.title('Model Predictions')\n",
        "plt.xlabel('Days')\n",
        "plt.ylabel('Predictions')\n",
        "plt.plot(close_df['Close'].iloc[3600:])\n",
        "plt.plot(validation[['Close', 'Predictions']])\n",
        "plt.legend(['Observed', 'Validated', 'Predicted'])\n",
        "plt.show()"
      ],
      "execution_count": 68,
      "outputs": [
        {
          "output_type": "stream",
          "text": [
            "/usr/local/lib/python3.6/dist-packages/ipykernel_launcher.py:6: SettingWithCopyWarning: \n",
            "A value is trying to be set on a copy of a slice from a DataFrame.\n",
            "Try using .loc[row_indexer,col_indexer] = value instead\n",
            "\n",
            "See the caveats in the documentation: https://pandas.pydata.org/pandas-docs/stable/user_guide/indexing.html#returning-a-view-versus-a-copy\n",
            "  \n"
          ],
          "name": "stderr"
        },
        {
          "output_type": "display_data",
          "data": {
            "image/png": "[encoded data removed]",
            "text/plain": [
              "<Figure size 864x432 with 1 Axes>"
            ]
          },
          "metadata": {
            "tags": [],
            "needs_background": "light"
          }
        }
      ]
    },
    {
      "cell_type": "code",
      "metadata": {
        "id": "JFcqy1zE4xSN",
        "colab_type": "code",
        "colab": {
          "base_uri": "https://localhost:8080/",
          "height": 204
        },
        "outputId": "4139016b-f6d0-4fd7-b23d-e0df28974473"
      },
      "source": [
        "# Decision Tree Regression with Randomized Hyperparameter Search\n",
        "\n",
        "# Create the parameter grid\n",
        "param_grid = {'max_depth': list(range(2,10)), \n",
        "              'max_features': ['auto' , 'sqrt'],\n",
        "              'criterion' : ['mse', 'mae'],\n",
        "              'splitter':['best', 'random'],\n",
        "              'min_samples_leaf': list(range(5,20))\n",
        "              } \n",
        "\n",
        "# Create a random search object\n",
        "tree_rs = RandomizedSearchCV(\n",
        "    estimator = DecisionTreeRegressor(),\n",
        "    param_distributions = param_grid, n_iter = 10,\n",
        "    scoring='neg_mean_squared_error', cv = 5, refit=True, return_train_score =True, verbose=1 )\n",
        "\n",
        "# Fit to the training data\n",
        "tree_rs.fit(X_train, y_train)\n",
        "\n",
        "# Print the values used for both hyperparameters\n",
        "print(tree_rs.cv_results_['param_max_depth'])\n",
        "print(tree_rs.cv_results_['param_max_features'])\n",
        "print(tree_rs.cv_results_['param_criterion'])\n",
        "print(tree_rs.cv_results_['param_splitter'])\n",
        "print(tree_rs.cv_results_['param_min_samples_leaf'])\n",
        "\n",
        "# Print the best parameters and lowest RMSE\n",
        "print(\"Best parameters found: \", tree_rs.best_params_)\n",
        "print(\"Lowest RMSE found: \", np.abs(tree_rs.best_score_))\n"
      ],
      "execution_count": 69,
      "outputs": [
        {
          "output_type": "stream",
          "text": [
            "Fitting 5 folds for each of 10 candidates, totalling 50 fits\n"
          ],
          "name": "stdout"
        },
        {
          "output_type": "stream",
          "text": [
            "[Parallel(n_jobs=1)]: Using backend SequentialBackend with 1 concurrent workers.\n"
          ],
          "name": "stderr"
        },
        {
          "output_type": "stream",
          "text": [
            "[6 6 7 3 9 9 8 4 9 5]\n",
            "['auto' 'auto' 'sqrt' 'auto' 'sqrt' 'auto' 'auto' 'auto' 'auto' 'sqrt']\n",
            "['mse' 'mse' 'mae' 'mse' 'mae' 'mse' 'mse' 'mae' 'mae' 'mae']\n",
            "['best' 'random' 'best' 'best' 'best' 'random' 'random' 'best' 'random'\n",
            " 'random']\n",
            "[18 14 5 17 11 7 13 8 12 16]\n",
            "Best parameters found:  {'splitter': 'best', 'min_samples_leaf': 18, 'max_features': 'auto', 'max_depth': 6, 'criterion': 'mse'}\n",
            "Lowest RMSE found:  9766.202599650875\n"
          ],
          "name": "stdout"
        },
        {
          "output_type": "stream",
          "text": [
            "[Parallel(n_jobs=1)]: Done  50 out of  50 | elapsed:    0.6s finished\n"
          ],
          "name": "stderr"
        }
      ]
    },
    {
      "cell_type": "code",
      "metadata": {
        "id": "niOFrVogiSx3",
        "colab_type": "code",
        "colab": {
          "base_uri": "https://localhost:8080/",
          "height": 34
        },
        "outputId": "2bf47bd8-ba65-47ef-ef5b-6cd207368a5e"
      },
      "source": [
        "#Create new Decision Tree model using best parameters\n",
        "\n",
        "# Create the parameter dictionary: params\n",
        "best_rs_params = {'splitter':'best', 'min_samples_leaf': 10, 'max_features': 'auto', 'max_depth': 5, 'criterion': 'mse'}\n",
        "\n",
        "# Train the model: xg_reg\n",
        "best_tree_rs = DecisionTreeRegressor(splitter='best', min_samples_leaf=10, max_features='auto', max_depth=5, criterion='mse')\n",
        "best_tree_rs.fit(X_train, y_train)\n",
        "\n",
        "# Predict the labels of the test set: preds\n",
        "tree_rs_preds = best_tree_rs.predict(X_test)\n",
        "\n",
        "# Compute and print the MSE\n",
        "best_treers_mse = mean_squared_error(X_test,tree_rs_preds)\n",
        "print(\"MSE: %f\" % (best_treers_mse))"
      ],
      "execution_count": 70,
      "outputs": [
        {
          "output_type": "stream",
          "text": [
            "MSE: 4430.692541\n"
          ],
          "name": "stdout"
        }
      ]
    },
    {
      "cell_type": "code",
      "metadata": {
        "id": "wUBxZ5ToiTLe",
        "colab_type": "code",
        "colab": {
          "base_uri": "https://localhost:8080/",
          "height": 119
        },
        "outputId": "d9c0083f-4fd5-410b-8a09-0a9ba7c7685b"
      },
      "source": [
        "# Future Prediction with Best Decision Tree Model\n",
        "\n",
        "future_tree_rs = best_tree_rs.predict(future_days)\n",
        "print(future_tree_rs)"
      ],
      "execution_count": 71,
      "outputs": [
        {
          "output_type": "stream",
          "text": [
            "[1499.51545455 1499.51545455 1499.51545455 1685.841      1499.51545455\n",
            " 1499.51545455 1685.841      1499.51545455 1499.51545455 1499.51545455\n",
            " 1685.841      1685.841      1685.841      1685.841      1685.841\n",
            " 1685.841      1685.841      1685.841      1184.57818182 1184.57818182\n",
            " 1184.57818182 1184.57818182 1184.57818182 1184.57818182 1184.57818182\n",
            " 1184.57818182 1184.57818182 1184.57818182 1184.57818182 1184.57818182]\n"
          ],
          "name": "stdout"
        }
      ]
    },
    {
      "cell_type": "code",
      "metadata": {
        "id": "S04R-dciiTU1",
        "colab_type": "code",
        "colab": {
          "base_uri": "https://localhost:8080/",
          "height": 34
        },
        "outputId": "a25804ef-434a-4e2d-8de5-ba040a27b4ac"
      },
      "source": [
        "# Future Prediction MSE for Best Decision Tree Model\n",
        "\n",
        "future_treers_mse = mean_squared_error(future_days, future_tree_rs)\n",
        "\n",
        "print('30 Day Best Tree Future Prediction MSE: ', future_treers_mse)"
      ],
      "execution_count": 72,
      "outputs": [
        {
          "output_type": "stream",
          "text": [
            "30 Day Best Tree Future Prediction MSE:  209766.11249146814\n"
          ],
          "name": "stdout"
        }
      ]
    },
    {
      "cell_type": "code",
      "metadata": {
        "id": "D_LHMQmaiTeY",
        "colab_type": "code",
        "colab": {
          "base_uri": "https://localhost:8080/",
          "height": 506
        },
        "outputId": "3abc3c34-257c-42a2-fb6a-93b9069d168d"
      },
      "source": [
        "# Visualize Best Tree Model Results\n",
        "\n",
        "treerspredictions = future_tree_rs\n",
        "\n",
        "validation = close_df[X.shape[0]:]\n",
        "validation['Predictions'] = treerspredictions\n",
        "\n",
        "plt.figure(figsize=(12,6))\n",
        "plt.title('Model Predictions')\n",
        "plt.xlabel('Days')\n",
        "plt.ylabel('Predictions')\n",
        "plt.plot(close_df['Close'].iloc[3600:])\n",
        "plt.plot(validation[['Close', 'Predictions']])\n",
        "plt.legend(['Observed', 'Validated', 'Predicted'])\n",
        "plt.show()"
      ],
      "execution_count": 73,
      "outputs": [
        {
          "output_type": "stream",
          "text": [
            "/usr/local/lib/python3.6/dist-packages/ipykernel_launcher.py:6: SettingWithCopyWarning: \n",
            "A value is trying to be set on a copy of a slice from a DataFrame.\n",
            "Try using .loc[row_indexer,col_indexer] = value instead\n",
            "\n",
            "See the caveats in the documentation: https://pandas.pydata.org/pandas-docs/stable/user_guide/indexing.html#returning-a-view-versus-a-copy\n",
            "  \n"
          ],
          "name": "stderr"
        },
        {
          "output_type": "display_data",
          "data": {
            "image/png": "[encoded data removed]",
            "text/plain": [
              "<Figure size 864x432 with 1 Axes>"
            ]
          },
          "metadata": {
            "tags": [],
            "needs_background": "light"
          }
        }
      ]
    },
    {
      "cell_type": "code",
      "metadata": {
        "id": "ZL1hVThVoT-7",
        "colab_type": "code",
        "colab": {}
      },
      "source": [
        ""
      ],
      "execution_count": 73,
      "outputs": []
    },
    {
      "cell_type": "code",
      "metadata": {
        "id": "laRpRXVLoUIg",
        "colab_type": "code",
        "colab": {}
      },
      "source": [
        ""
      ],
      "execution_count": 73,
      "outputs": []
    },
    {
      "cell_type": "code",
      "metadata": {
        "id": "s6lllX_xoURX",
        "colab_type": "code",
        "colab": {}
      },
      "source": [
        ""
      ],
      "execution_count": 73,
      "outputs": []
    },
    {
      "cell_type": "code",
      "metadata": {
        "id": "hpiMPZIjoUaJ",
        "colab_type": "code",
        "colab": {}
      },
      "source": [
        ""
      ],
      "execution_count": 73,
      "outputs": []
    },
    {
      "cell_type": "code",
      "metadata": {
        "id": "HdpOGK5g4xb0",
        "colab_type": "code",
        "colab": {}
      },
      "source": [
        ""
      ],
      "execution_count": 73,
      "outputs": []
    },
    {
      "cell_type": "markdown",
      "metadata": {
        "id": "RxSnnGBebZip",
        "colab_type": "text"
      },
      "source": [
        "Referrences:\n",
        "\n",
        "https://www.programmersought.com/article/5487636739/\n",
        "\n",
        "https://wingkiwong.wordpress.com/2019/01/13/long-short-term-memory-in-time-series-data/\n",
        "\n",
        "https://towardsdatascience.com/using-lstms-for-stock-market-predictions-tensorflow-9e83999d4653\n",
        "\n",
        "https://www.thepythoncode.com/article/stock-price-prediction-in-python-using-tensorflow-2-and-keras\n",
        "\n",
        "https://analyticsindiamag.com/hands-on-guide-to-lstm-recurrent-neural-network-for-stock-market-prediction/\n",
        "\n",
        "https://blog.usejournal.com/stock-market-prediction-by-recurrent-neural-network-on-lstm-model-56de700bff68\n",
        "\n",
        "https://github.com/jaungiers/LSTM-Neural-Network-for-Time-Series-Prediction\n",
        "\n",
        "http://colah.github.io/posts/2015-08-Understanding-LSTMs/\n",
        "\n"
      ]
    }
  ]
}